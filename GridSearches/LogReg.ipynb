{
 "cells": [
  {
   "cell_type": "code",
   "execution_count": 2,
   "id": "f3f17c6b-80f4-4d94-add5-f48ea3205713",
   "metadata": {},
   "outputs": [],
   "source": [
    "import matplotlib.pyplot as plt\n",
    "import numpy as np\n",
    "import pandas as pd\n",
    "import seaborn as sns\n",
    "\n",
    "pd.set_option(\"display.max_columns\", 85)"
   ]
  },
  {
   "cell_type": "markdown",
   "id": "866fb27d-9a89-4366-8b74-6b3c16a8bd2a",
   "metadata": {},
   "source": [
    "# Logistic Regression"
   ]
  },
  {
   "cell_type": "code",
   "execution_count": 3,
   "id": "04c8cabf-fbb8-4357-9ea1-b4f878b8235b",
   "metadata": {
    "tags": []
   },
   "outputs": [
    {
     "name": "stdout",
     "output_type": "stream",
     "text": [
      "Feature matrix shape: (14536, 83) (3634, 83)\n"
     ]
    }
   ],
   "source": [
    "df = pd.read_csv(\"../data/abnormal_writeout_noscale.data.csv\") # NEW\n",
    "\n",
    "# trascurare da ACC a UVM\n",
    "start_drop = df.columns.get_loc(\"ACC\")\n",
    "end_drop = df.columns.get_loc(\"UVM\")\n",
    "cols = np.arange(start_drop, end_drop + 1)\n",
    "df.drop(df.columns[cols], axis=1, inplace=True)\n",
    "\n",
    "# trascurare alcune colonne\n",
    "df.drop(\"TTT_freq\", axis=1, inplace=True)\n",
    "df.drop(\"oldest_phylostratum_factor\", axis=1, inplace=True)\n",
    "df.drop(\"Unnamed: 0\", axis=1, inplace=True)\n",
    "\n",
    "# Drop NaNs\n",
    "df.dropna(inplace=True)\n",
    "\n",
    "# Sort features\n",
    "resp = df[\"response\"].to_numpy()\n",
    "occ = df[\"occ_total_sum\"]\n",
    "age = df[\"oldest_phylostratum\"].to_numpy()\n",
    "conf = df.drop(labels=[\"response\", \"occ_total_sum\", \"oldest_phylostratum\"], axis=1).to_numpy()\n",
    "\n",
    "X = np.c_[occ, age, conf]\n",
    "Y = resp\n",
    "\n",
    "from sklearn.model_selection import train_test_split\n",
    "\n",
    "X_train, X_test, y_train, y_test = train_test_split(X, Y, test_size=0.2, random_state=42)\n",
    "print(\"Feature matrix shape:\", X_train.shape, X_test.shape)"
   ]
  },
  {
   "cell_type": "code",
   "execution_count": 4,
   "id": "4dac0468-e0e3-499b-9a26-97d50026d77b",
   "metadata": {},
   "outputs": [
    {
     "data": {
      "text/plain": [
       "4134"
      ]
     },
     "execution_count": 4,
     "metadata": {},
     "output_type": "execute_result"
    }
   ],
   "source": [
    "df[\"response\"].sum()"
   ]
  },
  {
   "cell_type": "code",
   "execution_count": 27,
   "id": "56431dd8-c086-4071-b773-e4b0a6830c49",
   "metadata": {},
   "outputs": [],
   "source": [
    "from sklearn.base import BaseEstimator, TransformerMixin\n",
    "from sklearn.decomposition import PCA\n",
    "\n",
    "conf_cols = np.arange(2, X.shape[1]) # Columns of confounder variables (highly colinear)\n",
    "\n",
    "class ConfounderPCA(BaseEstimator, TransformerMixin):\n",
    "    ''' Custom PCA transformer for this dataset''' \n",
    "    \n",
    "    def __init__(self, explained_variance=.95, apply_PCA=True):\n",
    "        self.explained_variance = explained_variance\n",
    "        self.apply_PCA = apply_PCA\n",
    "        if self.apply_PCA: \n",
    "            self.pca = PCA(n_components = self.explained_variance )\n",
    "        \n",
    "    def fit(self, X, y = None):\n",
    "        if self.apply_PCA:\n",
    "            self.pca.fit(X[:, conf_cols])\n",
    "        return self\n",
    "    \n",
    "    def transform(self, X, y = None):\n",
    "        if self.apply_PCA:\n",
    "            X_conf_pca = self.pca.transform(X[:, conf_cols])\n",
    "            return np.c_[X[:, :2], X_conf_pca]\n",
    "        else:\n",
    "            return X"
   ]
  },
  {
   "cell_type": "code",
   "execution_count": 28,
   "id": "e0ca02be-82df-4226-b75d-2c8ac4391b76",
   "metadata": {},
   "outputs": [],
   "source": [
    "from sklearn.metrics import auc, make_scorer, precision_recall_curve\n",
    "\n",
    "\n",
    "def auprc(y_true, y_scores, **kwargs):\n",
    "    \"\"\" Remember to use make_scorer(auprc, needs_proba=True,) \"\"\"\n",
    "    precisions, recalls, thresholds = precision_recall_curve(y_true, y_scores)\n",
    "    # result is sum of the areas under each curve\n",
    "    return auc(thresholds, precisions[:-1]) + auc(thresholds, recalls[:-1])"
   ]
  },
  {
   "cell_type": "markdown",
   "id": "ca0e49da-7c13-4625-b371-4b97e810f84a",
   "metadata": {},
   "source": [
    "# [Logistic Regression](https://scikit-learn.org/stable/modules/generated/sklearn.linear_model.LogisticRegression.html)"
   ]
  },
  {
   "cell_type": "code",
   "execution_count": 32,
   "id": "3a96b93d-4840-43b0-b06f-e2e2a6db0b01",
   "metadata": {
    "tags": []
   },
   "outputs": [
    {
     "name": "stdout",
     "output_type": "stream",
     "text": [
      "Fitting 3 folds for each of 2 candidates, totalling 6 fits\n"
     ]
    },
    {
     "data": {
      "text/plain": [
       "GridSearchCV(cv=3,\n",
       "             estimator=Pipeline(steps=[('scaler', StandardScaler()),\n",
       "                                       ('pca', ConfounderPCA()),\n",
       "                                       ('lr',\n",
       "                                        LogisticRegression(max_iter=500))]),\n",
       "             n_jobs=-1, param_grid={'lr__class_weight': [None, 'balanced']},\n",
       "             refit='ROC_AUC',\n",
       "             scoring={'AUPRC': make_scorer(auprc, needs_proba=True),\n",
       "                      'Precision': 'precision', 'ROC_AUC': 'roc_auc',\n",
       "                      'Recall': 'recall', 'f1-score': 'f1'},\n",
       "             verbose=1)"
      ]
     },
     "execution_count": 32,
     "metadata": {},
     "output_type": "execute_result"
    }
   ],
   "source": [
    "from sklearn.linear_model import LogisticRegression\n",
    "from sklearn.pipeline import Pipeline\n",
    "from sklearn.model_selection import GridSearchCV\n",
    "from sklearn.preprocessing import StandardScaler\n",
    "\n",
    "# Base Model\n",
    "lr_clf = Pipeline([\n",
    "    ('scaler', StandardScaler()),\n",
    "    # (\"pca\", ConfounderPCA()), \n",
    "    (\"lr\", LogisticRegression(max_iter=500,))\n",
    "])\n",
    "\n",
    "# Define metrics to be calculated during the grid search, along with their names\n",
    "my_metrics = {\n",
    "    \"ROC_AUC\": \"roc_auc\",\n",
    "    \"Precision\": \"precision\",\n",
    "    \"Recall\": \"recall\",\n",
    "    \"f1-score\": \"f1\",\n",
    "    \"AUPRC\": make_scorer(auprc, needs_proba=True,),  # custom: area under precision-recall-curve\n",
    "}\n",
    "\n",
    "# Define the parameter grid\n",
    "param_grid = {\n",
    "    # \"pca__apply_PCA\": [False, True],\n",
    "    \"lr__penalty\": ['none', 'l2',],\n",
    "    \"lr__C\": np.logspace(0, 3, 10),\n",
    "    \"lr__class_weight\": [None, \"balanced\"],\n",
    "    # \"lr__l1_ratio\": [0.2, 0.5, 0.8],\n",
    "}\n",
    "\n",
    "# Define the grid search object\n",
    "grid_search = GridSearchCV(\n",
    "    estimator=lr_clf,\n",
    "    scoring=my_metrics,\n",
    "    param_grid=param_grid,\n",
    "    cv=3,\n",
    "    n_jobs=-1,\n",
    "    verbose=1,\n",
    "    # error_score=\"raise\", \n",
    "    refit=\"ROC_AUC\",  # Final fit\n",
    ")\n",
    "\n",
    "# Search\n",
    "grid_search.fit(X_train, y_train)"
   ]
  },
  {
   "cell_type": "code",
   "execution_count": 33,
   "id": "ec2d699b-4da6-4a57-94b6-f44be2a46825",
   "metadata": {},
   "outputs": [],
   "source": [
    "gs_df = pd.DataFrame(grid_search.cv_results_)\n",
    "gs_df.to_csv(\"./results/lr_gs_results.csv\")"
   ]
  },
  {
   "cell_type": "code",
   "execution_count": 34,
   "id": "fe681f7f-f709-47a7-b292-366b3e959bcb",
   "metadata": {},
   "outputs": [
    {
     "data": {
      "text/plain": [
       "{'lr__class_weight': 'balanced'}"
      ]
     },
     "execution_count": 34,
     "metadata": {},
     "output_type": "execute_result"
    }
   ],
   "source": [
    "grid_search.best_params_"
   ]
  },
  {
   "cell_type": "code",
   "execution_count": 35,
   "id": "a95f2b77-102d-4708-9d8e-6f83d162c158",
   "metadata": {},
   "outputs": [
    {
     "name": "stdout",
     "output_type": "stream",
     "text": [
      "Logistic Regression:\n",
      "ROC-AUC : 0.6615 +/- 0.0130\n",
      "Precision : 0.3131 +/- 0.0109\n",
      "Recall : 0.6293 +/- 0.0246\n",
      "f1-score : 0.4181 +/- 0.0148\n",
      "AUPRC : 0.7527 +/- 0.0669\n"
     ]
    }
   ],
   "source": [
    "from sklearn.model_selection import cross_val_score\n",
    "\n",
    "model = grid_search.best_estimator_\n",
    "\n",
    "my_metrics = {\n",
    "    \"ROC-AUC\": \"roc_auc\",\n",
    "    \"Precision\": \"precision\",\n",
    "    \"Recall\": \"recall\",\n",
    "    \"f1-score\": \"f1\",\n",
    "    \"AUPRC\": make_scorer(auprc, needs_proba=True,),  # custom: area under precision-recall-curve\n",
    "}\n",
    "\n",
    "scores = cross_validate(model, X_train, y_train, cv=5, scoring=my_metrics)"
   ]
  },
  {
   "cell_type": "code",
   "execution_count": 28,
   "id": "1dda5218-5061-43b6-8984-34ea6f09327e",
   "metadata": {},
   "outputs": [
    {
     "data": {
      "text/html": [
       "<div>\n",
       "<style scoped>\n",
       "    .dataframe tbody tr th:only-of-type {\n",
       "        vertical-align: middle;\n",
       "    }\n",
       "\n",
       "    .dataframe tbody tr th {\n",
       "        vertical-align: top;\n",
       "    }\n",
       "\n",
       "    .dataframe thead th {\n",
       "        text-align: right;\n",
       "    }\n",
       "</style>\n",
       "<table border=\"1\" class=\"dataframe\">\n",
       "  <thead>\n",
       "    <tr style=\"text-align: right;\">\n",
       "      <th></th>\n",
       "      <th>ROC-AUC</th>\n",
       "      <th>Precision</th>\n",
       "      <th>Recall</th>\n",
       "      <th>f1-score</th>\n",
       "      <th>AUPRC</th>\n",
       "    </tr>\n",
       "  </thead>\n",
       "  <tbody>\n",
       "    <tr>\n",
       "      <th>0</th>\n",
       "      <td>0.656956</td>\n",
       "      <td>0.311649</td>\n",
       "      <td>0.626140</td>\n",
       "      <td>0.416162</td>\n",
       "      <td>0.742490</td>\n",
       "    </tr>\n",
       "    <tr>\n",
       "      <th>1</th>\n",
       "      <td>0.684001</td>\n",
       "      <td>0.327744</td>\n",
       "      <td>0.653495</td>\n",
       "      <td>0.436548</td>\n",
       "      <td>0.685202</td>\n",
       "    </tr>\n",
       "    <tr>\n",
       "      <th>2</th>\n",
       "      <td>0.658143</td>\n",
       "      <td>0.305638</td>\n",
       "      <td>0.626140</td>\n",
       "      <td>0.410768</td>\n",
       "      <td>0.749999</td>\n",
       "    </tr>\n",
       "    <tr>\n",
       "      <th>3</th>\n",
       "      <td>0.676501</td>\n",
       "      <td>0.327327</td>\n",
       "      <td>0.662614</td>\n",
       "      <td>0.438191</td>\n",
       "      <td>0.748008</td>\n",
       "    </tr>\n",
       "    <tr>\n",
       "      <th>4</th>\n",
       "      <td>0.667126</td>\n",
       "      <td>0.321981</td>\n",
       "      <td>0.632219</td>\n",
       "      <td>0.426667</td>\n",
       "      <td>0.919775</td>\n",
       "    </tr>\n",
       "    <tr>\n",
       "      <th>5</th>\n",
       "      <td>0.669651</td>\n",
       "      <td>0.318927</td>\n",
       "      <td>0.648485</td>\n",
       "      <td>0.427572</td>\n",
       "      <td>0.767172</td>\n",
       "    </tr>\n",
       "    <tr>\n",
       "      <th>6</th>\n",
       "      <td>0.643171</td>\n",
       "      <td>0.300752</td>\n",
       "      <td>0.607903</td>\n",
       "      <td>0.402414</td>\n",
       "      <td>0.701263</td>\n",
       "    </tr>\n",
       "    <tr>\n",
       "      <th>7</th>\n",
       "      <td>0.658325</td>\n",
       "      <td>0.304075</td>\n",
       "      <td>0.589666</td>\n",
       "      <td>0.401241</td>\n",
       "      <td>0.727120</td>\n",
       "    </tr>\n",
       "    <tr>\n",
       "      <th>8</th>\n",
       "      <td>0.651535</td>\n",
       "      <td>0.314417</td>\n",
       "      <td>0.623100</td>\n",
       "      <td>0.417941</td>\n",
       "      <td>0.773146</td>\n",
       "    </tr>\n",
       "    <tr>\n",
       "      <th>9</th>\n",
       "      <td>0.654793</td>\n",
       "      <td>0.305723</td>\n",
       "      <td>0.617021</td>\n",
       "      <td>0.408862</td>\n",
       "      <td>0.729886</td>\n",
       "    </tr>\n",
       "  </tbody>\n",
       "</table>\n",
       "</div>"
      ],
      "text/plain": [
       "    ROC-AUC  Precision    Recall  f1-score     AUPRC\n",
       "0  0.656956   0.311649  0.626140  0.416162  0.742490\n",
       "1  0.684001   0.327744  0.653495  0.436548  0.685202\n",
       "2  0.658143   0.305638  0.626140  0.410768  0.749999\n",
       "3  0.676501   0.327327  0.662614  0.438191  0.748008\n",
       "4  0.667126   0.321981  0.632219  0.426667  0.919775\n",
       "5  0.669651   0.318927  0.648485  0.427572  0.767172\n",
       "6  0.643171   0.300752  0.607903  0.402414  0.701263\n",
       "7  0.658325   0.304075  0.589666  0.401241  0.727120\n",
       "8  0.651535   0.314417  0.623100  0.417941  0.773146\n",
       "9  0.654793   0.305723  0.617021  0.408862  0.729886"
      ]
     },
     "execution_count": 28,
     "metadata": {},
     "output_type": "execute_result"
    }
   ],
   "source": [
    "lr_df = pd.DataFrame(scores)"
   ]
  },
  {
   "cell_type": "code",
   "execution_count": null,
   "id": "b6a93c68-3eb5-4210-b8cc-cb4968e673d2",
   "metadata": {},
   "outputs": [],
   "source": [
    "lr_df.mean()"
   ]
  },
  {
   "cell_type": "code",
   "execution_count": null,
   "id": "33eb39ed-28e5-43c2-b78e-d3c6f970fbf0",
   "metadata": {},
   "outputs": [],
   "source": [
    "lr_df.sem()"
   ]
  },
  {
   "cell_type": "code",
   "execution_count": 36,
   "id": "f70af5c3-0178-4dec-850f-88f92940150d",
   "metadata": {},
   "outputs": [],
   "source": [
    "lr_df.to_csv(\"./results/lr_scores.csv\", index=None)"
   ]
  },
  {
   "cell_type": "code",
   "execution_count": null,
   "id": "7b0b4c84-eb96-44b5-934e-4e0f60ce4cf6",
   "metadata": {},
   "outputs": [],
   "source": []
  }
 ],
 "metadata": {
  "kernelspec": {
   "display_name": "Python [conda env:ml_venv]",
   "language": "python",
   "name": "conda-env-ml_venv-py"
  },
  "language_info": {
   "codemirror_mode": {
    "name": "ipython",
    "version": 3
   },
   "file_extension": ".py",
   "mimetype": "text/x-python",
   "name": "python",
   "nbconvert_exporter": "python",
   "pygments_lexer": "ipython3",
   "version": "3.7.7"
  }
 },
 "nbformat": 4,
 "nbformat_minor": 5
}
