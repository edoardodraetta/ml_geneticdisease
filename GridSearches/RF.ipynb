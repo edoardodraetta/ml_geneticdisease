{
 "cells": [
  {
   "cell_type": "code",
   "execution_count": 1,
   "id": "48d9e25b-1459-4869-a1ce-d27745200be0",
   "metadata": {},
   "outputs": [],
   "source": [
    "import matplotlib.pyplot as plt\n",
    "import numpy as np\n",
    "import pandas as pd\n",
    "import seaborn as sns\n",
    "sns.set_theme()\n",
    "pd.set_option(\"display.max_columns\", 85)"
   ]
  },
  {
   "cell_type": "markdown",
   "id": "9e5c4feb-127c-4753-bd77-9dcd4e1229b6",
   "metadata": {
    "tags": []
   },
   "source": [
    "# Random Forest Classifier"
   ]
  },
  {
   "cell_type": "code",
   "execution_count": 2,
   "id": "a9d5d5b3-b792-4f42-8e49-628691d4fd04",
   "metadata": {
    "tags": []
   },
   "outputs": [
    {
     "name": "stdout",
     "output_type": "stream",
     "text": [
      "Feature matrix shape: (14536, 83) (3634, 83)\n"
     ]
    }
   ],
   "source": [
    "df = pd.read_csv(\"../data/abnormal_writeout_noscale.data.csv\") # NEW\n",
    "\n",
    "# trascurare da ACC a UVM\n",
    "start_drop = df.columns.get_loc(\"ACC\")\n",
    "end_drop = df.columns.get_loc(\"UVM\")\n",
    "cols = np.arange(start_drop, end_drop + 1)\n",
    "df.drop(df.columns[cols], axis=1, inplace=True)\n",
    "\n",
    "# trascurare alcune colonne\n",
    "df.drop(\"TTT_freq\", axis=1, inplace=True)\n",
    "df.drop(\"oldest_phylostratum_factor\", axis=1, inplace=True)\n",
    "df.drop(\"Unnamed: 0\", axis=1, inplace=True)\n",
    "\n",
    "# Drop NaNs\n",
    "df.dropna(inplace=True)\n",
    "\n",
    "# Sort features\n",
    "resp = df[\"response\"].to_numpy()\n",
    "occ = df[\"occ_total_sum\"]\n",
    "age = df[\"oldest_phylostratum\"].to_numpy()\n",
    "conf = df.drop(labels=[\"response\", \"occ_total_sum\", \"oldest_phylostratum\"], axis=1).to_numpy()\n",
    "\n",
    "X = np.c_[occ, age, conf]\n",
    "Y = resp\n",
    "\n",
    "from sklearn.model_selection import train_test_split\n",
    "\n",
    "X_train, X_test, y_train, y_test = train_test_split(X, Y, test_size=0.2, random_state=42)\n",
    "print(\"Feature matrix shape:\", X_train.shape, X_test.shape)"
   ]
  },
  {
   "cell_type": "code",
   "execution_count": 3,
   "id": "2f15ca39-237c-41f7-ab75-009e2d0ab39a",
   "metadata": {},
   "outputs": [],
   "source": [
    "from sklearn.base import BaseEstimator, TransformerMixin\n",
    "from sklearn.decomposition import PCA\n",
    "\n",
    "conf_cols = np.arange(2, X.shape[1]) # Columns of confounder variables (highly colinear)\n",
    "\n",
    "class ConfounderPCA(BaseEstimator, TransformerMixin):\n",
    "    ''' Custom PCA transformer for this dataset''' \n",
    "    \n",
    "    def __init__(self, explained_variance=.95):\n",
    "        self.explained_variance = explained_variance\n",
    "        self.pca = PCA(n_components = self.explained_variance )\n",
    "        \n",
    "    def fit(self, X, y = None):\n",
    "        self.pca.fit(X[:, conf_cols])\n",
    "        return self\n",
    "    \n",
    "    def transform(self, X, y = None):\n",
    "        X_conf_pca = self.pca.transform(X[:, conf_cols])\n",
    "        return np.c_[X[:, :2], X_conf_pca]"
   ]
  },
  {
   "cell_type": "code",
   "execution_count": 4,
   "id": "de12311b-ccad-4742-9b21-e4c5bd78ad96",
   "metadata": {},
   "outputs": [],
   "source": [
    "from sklearn.metrics import auc, make_scorer, precision_recall_curve\n",
    "\n",
    "\n",
    "def auprc(y_true, y_scores, **kwargs):\n",
    "    \"\"\" Remember to use make_scorer(auprc, needs_proba=True,) \"\"\"\n",
    "    precisions, recalls, thresholds = precision_recall_curve(y_true, y_scores)\n",
    "    # result is sum of the areas under each curve\n",
    "    return auc(thresholds, precisions[:-1]) + auc(thresholds, recalls[:-1])"
   ]
  },
  {
   "cell_type": "markdown",
   "id": "159232d6-88e3-482b-ae56-2657a18c7078",
   "metadata": {},
   "source": [
    "# [Random Forest](https://scikit-learn.org/stable/modules/generated/sklearn.ensemble.RandomForestClassifier.html)\n",
    "\n",
    "The goal of this notebook is to implement a definite grid-search of the best hyper-parameters for the random forest classifier. The search takes about 3 hours on my machine. The complete history of the search can be found in `rf_gs_results.csv` and its companion excel file. \n",
    "\n",
    "The parameters which optimized ROC-AUC were:\n",
    "- `max_depth=10`\n",
    "- `max_features=2`\n",
    "- `min_samples_split=20`\n",
    "- `n_estimators=200` "
   ]
  },
  {
   "cell_type": "code",
   "execution_count": 5,
   "id": "3bfc7d1e-a227-462a-8033-730bbf807e9e",
   "metadata": {},
   "outputs": [
    {
     "name": "stdout",
     "output_type": "stream",
     "text": [
      "Fitting 3 folds for each of 1280 candidates, totalling 3840 fits\n"
     ]
    },
    {
     "data": {
      "text/plain": [
       "GridSearchCV(cv=3, error_score='raise',\n",
       "             estimator=Pipeline(steps=[('pca', ConfounderPCA()),\n",
       "                                       ('rf',\n",
       "                                        RandomForestClassifier(n_jobs=-1,\n",
       "                                                               random_state=42))]),\n",
       "             n_jobs=-1,\n",
       "             param_grid={'rf__bootstrap': [True, False],\n",
       "                         'rf__max_depth': [None, 10, 20, 30],\n",
       "                         'rf__max_features': [2, 3],\n",
       "                         'rf__min_samples_leaf': [1, 2, 5, 10, 20],\n",
       "                         'rf__min_samples_split': [2, 5, 10, 20],\n",
       "                         'rf__n_estimators': [100, 200, 300, 500]},\n",
       "             refit='ROC_AUC',\n",
       "             scoring={'AUPRC': make_scorer(auprc, needs_proba=True),\n",
       "                      'ROC_AUC': 'roc_auc'},\n",
       "             verbose=1)"
      ]
     },
     "execution_count": 5,
     "metadata": {},
     "output_type": "execute_result"
    }
   ],
   "source": [
    "from sklearn.ensemble import RandomForestClassifier\n",
    "from sklearn.model_selection import GridSearchCV\n",
    "from sklearn.pipeline import Pipeline\n",
    "from sklearn.preprocessing import StandardScaler\n",
    "\n",
    "# Define metrics to be calculated during the grid search, along with their names\n",
    "my_metrics = {\n",
    "    \"ROC_AUC\": \"roc_auc\",\n",
    "    # \"Precision\": \"precision\",\n",
    "    # \"Recall\": \"recall\",\n",
    "    # \"f1-score\": \"f1\",\n",
    "    \"AUPRC\": make_scorer(auprc, needs_proba=True,),  # custom: area under precision-recall-curve\n",
    "}\n",
    "\n",
    "\n",
    "# Define the parameter grid\n",
    "param_grid = {\n",
    "    \"rf__bootstrap\": [True, False],\n",
    "    'rf__max_depth': [None, 10, 20, 30],\n",
    "    'rf__max_features': [2, 3],\n",
    "    \"rf__min_samples_leaf\": [1, 2, 5, 10, 20,],\n",
    "    \"rf__min_samples_split\": [2, 5, 10, 20],\n",
    "    \"rf__n_estimators\": [100, 200, 300, 500],\n",
    "}\n",
    "\n",
    "rf_clf = Pipeline([\n",
    "    ('scaler', StandardScaler()),\n",
    "    (\"pca\", ConfounderPCA()), \n",
    "    (\"rf\", RandomForestClassifier(random_state=42, n_jobs=-1))\n",
    "])\n",
    "\n",
    "\n",
    "# Define the grid search object\n",
    "grid_search = GridSearchCV(\n",
    "    estimator=rf_clf,\n",
    "    scoring=my_metrics,\n",
    "    param_grid=param_grid,\n",
    "    cv=3,\n",
    "    n_jobs=-1,\n",
    "    verbose=1,\n",
    "    error_score=\"raise\",\n",
    "    refit=\"ROC_AUC\",  # Final fit\n",
    ")\n",
    "\n",
    "# Search\n",
    "grid_search.fit(X_train, y_train)"
   ]
  },
  {
   "cell_type": "code",
   "execution_count": 6,
   "id": "bac458b5-8d46-4f8a-9c0a-7d68af513f66",
   "metadata": {},
   "outputs": [],
   "source": [
    "gs_df = pd.DataFrame(grid_search.cv_results_)\n",
    "gs_df.to_csv(\"./results/rf_gs_results.csv\")"
   ]
  },
  {
   "cell_type": "code",
   "execution_count": 7,
   "id": "012a2c52-50f3-4ed8-8582-b90a6f6b1322",
   "metadata": {
    "tags": []
   },
   "outputs": [
    {
     "data": {
      "text/plain": [
       "Pipeline(steps=[('pca', ConfounderPCA()),\n",
       "                ('rf',\n",
       "                 RandomForestClassifier(max_depth=10, max_features=2,\n",
       "                                        min_samples_split=20, n_estimators=200,\n",
       "                                        n_jobs=-1, random_state=42))])"
      ]
     },
     "execution_count": 7,
     "metadata": {},
     "output_type": "execute_result"
    }
   ],
   "source": [
    "grid_search.best_estimator_\n",
    "# max_depth=10, \n",
    "# max_features=2,\n",
    "# min_samples_split=20, \n",
    "#  n_estimators=200,"
   ]
  },
  {
   "cell_type": "code",
   "execution_count": 8,
   "id": "6b73f775-a6aa-44ed-8633-dfb6fa11165e",
   "metadata": {},
   "outputs": [],
   "source": [
    "# from sklearn.model_selection import cross_validate\n",
    "\n",
    "# my_metrics = {\n",
    "#     \"ROC_AUC\": \"roc_auc\",\n",
    "#     \"Precision\": \"precision\",\n",
    "#     \"Recall\": \"recall\",\n",
    "#     \"f1-score\": \"f1\",\n",
    "#     \"AUPRC\": make_scorer(auprc, needs_proba=True,),  # custom: area under precision-recall-curve\n",
    "# }\n",
    "\n",
    "# default_rf_clf = Pipeline([\n",
    "#     (\"pca\", ConfounderPCA()), \n",
    "#     (\"rf\", RandomForestClassifier(random_state=42, n_jobs=-1))\n",
    "# ])\n",
    "\n",
    "# best_rf_clf = Pipeline([\n",
    "#     (\"pca\", ConfounderPCA()), \n",
    "#     (\"rf\", RandomForestClassifier(\n",
    "#         bootstrap=False, \n",
    "#         max_depth=20, \n",
    "#         max_features=3,\n",
    "#         min_samples_leaf=10,\n",
    "#         n_estimators=300, \n",
    "#         random_state=42, \n",
    "#         n_jobs=-1, )\n",
    "#     )\n",
    "# ])\n",
    "\n",
    "# scores_default = cross_validate(default_rf_clf, X_train, y_train, cv=10, scoring=my_metrics)\n",
    "# scores_best = cross_validate(best_rf_clf, X_train, y_train, cv=10, scoring=my_metrics)"
   ]
  },
  {
   "cell_type": "code",
   "execution_count": 9,
   "id": "215b65a7-0aa9-4573-a831-d519978ab204",
   "metadata": {},
   "outputs": [],
   "source": [
    "# pd.DataFrame(scores_default)"
   ]
  },
  {
   "cell_type": "code",
   "execution_count": 10,
   "id": "0088611c-3fed-4d56-b5bb-06fda4f50f38",
   "metadata": {},
   "outputs": [],
   "source": [
    "# pd.DataFrame(scores_best)"
   ]
  },
  {
   "cell_type": "markdown",
   "id": "caadba35-7d78-452c-94b5-a55f32a9fcc4",
   "metadata": {},
   "source": [
    "# [Balanced Random Forest](https://imbalanced-learn.org/stable/references/generated/imblearn.ensemble.BalancedRandomForestClassifier.html)\n",
    "\n",
    "Balancing seems to consistently produce higher roc-auc scores for this dataset.\n",
    "\n",
    "Best hyperparameters:\n",
    "- `max_depth=10`\n",
    "- `max_features=2`\n",
    "- `min_samples_leaf=2`\n",
    "- `min_samples_split=20`\n",
    "- `n_estimators=500`\n",
    "\n",
    " bootstrap=False, max_depth=20,\n",
    "- max_features=3,\n",
    "- min_samples_split=20,\n",
    "- n_estimators=500, n_jobs=-"
   ]
  },
  {
   "cell_type": "code",
   "execution_count": 6,
   "id": "c5d739b0-6adf-49d7-b631-92e3a028c18e",
   "metadata": {},
   "outputs": [
    {
     "name": "stdout",
     "output_type": "stream",
     "text": [
      "Fitting 3 folds for each of 1280 candidates, totalling 3840 fits\n"
     ]
    },
    {
     "data": {
      "text/plain": [
       "GridSearchCV(cv=3, error_score='raise',\n",
       "             estimator=Pipeline(steps=[('scaler', StandardScaler()),\n",
       "                                       ('pca', ConfounderPCA()),\n",
       "                                       ('rf',\n",
       "                                        BalancedRandomForestClassifier(n_jobs=-1,\n",
       "                                                                       random_state=42))]),\n",
       "             n_jobs=-1,\n",
       "             param_grid={'rf__bootstrap': [True, False],\n",
       "                         'rf__max_depth': [None, 10, 20, 30],\n",
       "                         'rf__max_features': [2, 3],\n",
       "                         'rf__min_samples_leaf': [1, 2, 5, 10, 20],\n",
       "                         'rf__min_samples_split': [2, 5, 10, 20],\n",
       "                         'rf__n_estimators': [100, 200, 300, 500]},\n",
       "             refit='ROC_AUC',\n",
       "             scoring={'AUPRC': make_scorer(auprc, needs_proba=True),\n",
       "                      'ROC_AUC': 'roc_auc'},\n",
       "             verbose=1)"
      ]
     },
     "execution_count": 6,
     "metadata": {},
     "output_type": "execute_result"
    }
   ],
   "source": [
    "from imblearn.ensemble import BalancedRandomForestClassifier\n",
    "from sklearn.model_selection import GridSearchCV\n",
    "from sklearn.pipeline import Pipeline\n",
    "from sklearn.preprocessing import StandardScaler\n",
    "\n",
    "# Define metrics to be calculated during the grid search, along with their names\n",
    "my_metrics = {\n",
    "    \"ROC_AUC\": \"roc_auc\",\n",
    "    # \"Precision\": \"precision\",\n",
    "    # \"Recall\": \"recall\",\n",
    "    # \"f1-score\": \"f1\",\n",
    "    \"AUPRC\": make_scorer(auprc, needs_proba=True,),  # custom: area under precision-recall-curve\n",
    "}\n",
    "\n",
    "\n",
    "# Define the parameter grid\n",
    "param_grid = {\n",
    "    \"rf__bootstrap\": [True, False],\n",
    "    'rf__max_depth': [None, 10, 20, 30],\n",
    "    'rf__max_features': [2, 3],\n",
    "    \"rf__min_samples_leaf\": [1, 2, 5, 10, 20,],\n",
    "    \"rf__min_samples_split\": [2, 5, 10, 20],\n",
    "    \"rf__n_estimators\": [100, 200, 300, 500],\n",
    "}\n",
    "\n",
    "brf_clf = Pipeline([\n",
    "    ('scaler', StandardScaler()),\n",
    "    (\"pca\", ConfounderPCA()), \n",
    "    (\"rf\", BalancedRandomForestClassifier(random_state=42, n_jobs=-1))\n",
    "])\n",
    "\n",
    "\n",
    "# Define the grid search object\n",
    "bal_grid_search = GridSearchCV(\n",
    "    estimator=brf_clf,\n",
    "    scoring=my_metrics,\n",
    "    param_grid=param_grid,\n",
    "    cv=3,\n",
    "    n_jobs=-1,\n",
    "    verbose=1,\n",
    "    error_score=\"raise\",\n",
    "    refit=\"ROC_AUC\",  # Final fit\n",
    ")\n",
    "\n",
    "# Search\n",
    "bal_grid_search.fit(X_train, y_train)"
   ]
  },
  {
   "cell_type": "code",
   "execution_count": 7,
   "id": "5b4c6635-01c8-4b9b-a8de-23af214e0ed4",
   "metadata": {},
   "outputs": [],
   "source": [
    "bgs_df = pd.DataFrame(bal_grid_search.cv_results_)\n",
    "bgs_df.to_csv(\"./results/brf_gs_results.csv\")"
   ]
  },
  {
   "cell_type": "code",
   "execution_count": 8,
   "id": "f9f5fa1f-c257-436b-a226-0773c20ddda6",
   "metadata": {},
   "outputs": [
    {
     "data": {
      "text/plain": [
       "Pipeline(steps=[('scaler', StandardScaler()), ('pca', ConfounderPCA()),\n",
       "                ('rf',\n",
       "                 BalancedRandomForestClassifier(bootstrap=False, max_depth=20,\n",
       "                                                max_features=3,\n",
       "                                                min_samples_split=20,\n",
       "                                                n_estimators=500, n_jobs=-1,\n",
       "                                                random_state=42))])"
      ]
     },
     "execution_count": 8,
     "metadata": {},
     "output_type": "execute_result"
    }
   ],
   "source": [
    "bal_grid_search.best_estimator_\n",
    "\n",
    "# bootstrap=False, max_depth=20,\n",
    "# max_features=3,\n",
    "# min_samples_split=20,\n",
    "# n_estimators=500, n_jobs=-1,\n",
    "# random_state=42)"
   ]
  },
  {
   "cell_type": "code",
   "execution_count": null,
   "id": "683a81a8-7faa-412b-b3d0-1638ebbdb2d8",
   "metadata": {},
   "outputs": [],
   "source": []
  }
 ],
 "metadata": {
  "kernelspec": {
   "display_name": "Python [conda env:ml_venv]",
   "language": "python",
   "name": "conda-env-ml_venv-py"
  },
  "language_info": {
   "codemirror_mode": {
    "name": "ipython",
    "version": 3
   },
   "file_extension": ".py",
   "mimetype": "text/x-python",
   "name": "python",
   "nbconvert_exporter": "python",
   "pygments_lexer": "ipython3",
   "version": "3.7.7"
  }
 },
 "nbformat": 4,
 "nbformat_minor": 5
}
