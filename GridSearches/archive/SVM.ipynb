{
 "cells": [
  {
   "cell_type": "code",
   "execution_count": 3,
   "id": "6ceeb478-e38b-401a-b824-2f72456e955a",
   "metadata": {},
   "outputs": [],
   "source": [
    "import matplotlib.pyplot as plt\n",
    "import numpy as np\n",
    "import pandas as pd\n",
    "import seaborn as sns\n",
    "sns.set_theme()\n",
    "pd.set_option(\"display.max_columns\", 85)"
   ]
  },
  {
   "cell_type": "markdown",
   "id": "961c0690-5b04-462d-bfa3-0361213ba2d5",
   "metadata": {},
   "source": [
    "# Support Vector Machine"
   ]
  },
  {
   "cell_type": "code",
   "execution_count": 28,
   "id": "91ac9646-78d9-4e49-b73e-62424151cb8f",
   "metadata": {},
   "outputs": [
    {
     "name": "stdout",
     "output_type": "stream",
     "text": [
      "Feature matrix shape: (14536, 84) (3634, 84)\n"
     ]
    }
   ],
   "source": [
    "df = pd.read_csv(\"../data/abnormal_writeout_noscale.data.csv\")\n",
    "\n",
    "# trascurare da ACC a UVM\n",
    "start_drop = df.columns.get_loc(\"ACC\")\n",
    "end_drop = df.columns.get_loc(\"UVM\")\n",
    "cols = np.arange(start_drop, end_drop + 1)\n",
    "df.drop(df.columns[cols], axis=1, inplace=True)\n",
    "\n",
    "# trascurare alcune colonne\n",
    "df.drop(\"TTT_freq\", axis=1, inplace=True)\n",
    "df.drop(\"oldest_phylostratum_factor\", axis=1, inplace=True)\n",
    "df.drop(\"Unnamed: 0\", axis=1, inplace=True)\n",
    "\n",
    "# Drop NaNs\n",
    "df.dropna(inplace=True)\n",
    "\n",
    "# Sort features\n",
    "resp = df[\"response\"].to_numpy()\n",
    "occ = df[\"occ_total_sum\"]\n",
    "age = df[\"oldest_phylostratum\"].to_numpy()\n",
    "conf = df.drop(labels=[\"response\", \"occ_total_sum\", \"oldest_phylostratum\"], axis=1).to_numpy()\n",
    "\n",
    "X = np.c_[occ, age, conf]\n",
    "Y = resp\n",
    "\n",
    "from sklearn.model_selection import train_test_split\n",
    "\n",
    "X_train, X_test, y_train, y_test = train_test_split(X, Y, test_size=0.2, random_state=42)\n",
    "print(\"Feature matrix shape:\", X_train.shape, X_test.shape)"
   ]
  },
  {
   "cell_type": "code",
   "execution_count": 5,
   "id": "4ec3f8ce-636b-40b7-97f1-0ed17683e24a",
   "metadata": {},
   "outputs": [],
   "source": [
    "from sklearn.base import BaseEstimator, TransformerMixin\n",
    "from sklearn.decomposition import PCA\n",
    "\n",
    "conf_cols = np.arange(2, X.shape[1]) # Columns of confounder variables (highly colinear)\n",
    "\n",
    "class ConfounderPCA(BaseEstimator, TransformerMixin):\n",
    "    ''' Custom PCA transformer for this dataset''' \n",
    "    \n",
    "    def __init__(self, explained_variance=.95, apply_PCA=True):\n",
    "        self.explained_variance = explained_variance\n",
    "        self.apply_PCA = apply_PCA\n",
    "        if self.apply_PCA: \n",
    "            self.pca = PCA(n_components = self.explained_variance )\n",
    "        \n",
    "    def fit(self, X, y = None):\n",
    "        if self.apply_PCA:\n",
    "            self.pca.fit(X[:, conf_cols])\n",
    "        return self\n",
    "    \n",
    "    def transform(self, X, y = None):\n",
    "        if self.apply_PCA:\n",
    "            X_conf_pca = self.pca.transform(X[:, conf_cols])\n",
    "            return np.c_[X[:, :2], X_conf_pca]\n",
    "        else:\n",
    "            return X"
   ]
  },
  {
   "cell_type": "code",
   "execution_count": 6,
   "id": "5c7bb6e9-aff3-4bdd-8f06-035f090a0c3a",
   "metadata": {},
   "outputs": [],
   "source": [
    "from sklearn.metrics import auc, make_scorer, precision_recall_curve\n",
    "\n",
    "\n",
    "def auprc(y_true, y_scores, **kwargs):\n",
    "    precisions, recalls, thresholds = precision_recall_curve(y_true, y_scores)\n",
    "    # result is sum of the areas under each curve\n",
    "    return auc(thresholds, precisions[:-1]) + auc(thresholds, recalls[:-1])"
   ]
  },
  {
   "cell_type": "markdown",
   "id": "c3820d71-d650-43c9-8a2d-1288d7728fd4",
   "metadata": {},
   "source": [
    "# [Support Vector Classifier](https://scikit-learn.org/stable/modules/generated/sklearn.svm.SVC.html)\n",
    "\n",
    "\n",
    "> Support Vector Machine algorithms are **not scale invariant**, so it is highly recommended to scale your data.\n",
    "\n",
    "Best hyperparamters:\n",
    "- `C=1.0` \n",
    "- `class_weight=balanced`\n",
    "- `shrinking=False`"
   ]
  },
  {
   "cell_type": "code",
   "execution_count": 14,
   "id": "fa222fd8-0f19-4fcf-b160-23f3de7a463c",
   "metadata": {},
   "outputs": [
    {
     "name": "stdout",
     "output_type": "stream",
     "text": [
      "Fitting 3 folds for each of 20 candidates, totalling 60 fits\n"
     ]
    },
    {
     "data": {
      "text/plain": [
       "GridSearchCV(cv=3, error_score='raise',\n",
       "             estimator=Pipeline(steps=[('pca', ConfounderPCA()),\n",
       "                                       ('svc',\n",
       "                                        SVC(probability=True,\n",
       "                                            random_state=0))]),\n",
       "             n_jobs=-1,\n",
       "             param_grid={'svc__C': array([  1.        ,   3.16227766,  10.        ,  31.6227766 ,\n",
       "       100.        ]),\n",
       "                         'svc__class_weight': [None, 'balanced'],\n",
       "                         'svc__shrinking': [False, True]},\n",
       "             refit='ROC_AUC',\n",
       "             scoring={'AUPRC': make_scorer(auprc, needs_proba=True),\n",
       "                      'Precision': 'precision', 'ROC_AUC': 'roc_auc',\n",
       "                      'Recall': 'recall', 'f1-score': 'f1'},\n",
       "             verbose=1)"
      ]
     },
     "execution_count": 14,
     "metadata": {},
     "output_type": "execute_result"
    }
   ],
   "source": [
    "from sklearn.svm import SVC\n",
    "from sklearn.pipeline import Pipeline\n",
    "from sklearn.model_selection import GridSearchCV\n",
    "\n",
    "# Define base model\n",
    "svm_clf = Pipeline([\n",
    "    ('scaler', StandardScaler()),\n",
    "    ('pca', ConfounderPCA()), \n",
    "    ('svc', SVC(kernel='rbf', random_state=0, probability=True))\n",
    "])\n",
    "\n",
    "# Define metrics to be calculated during the grid search, along with their names\n",
    "my_metrics = {\n",
    "    \"ROC_AUC\": \"roc_auc\",\n",
    "    \"Precision\": \"precision\",\n",
    "    \"Recall\": \"recall\",\n",
    "    \"f1-score\": \"f1\",\n",
    "    \"AUPRC\": make_scorer(auprc, needs_proba=True,),  # custom: area under precision-recall-curve\n",
    "}\n",
    "\n",
    "# Define the parameter grid\n",
    "param_grid = {\n",
    "    \"svc__C\": np.logspace(0, 2, 5),\n",
    "    \"svc__shrinking\": [False, True],\n",
    "    \"svc__class_weight\": [None, \"balanced\"],\n",
    "    \n",
    "}\n",
    "\n",
    "# Define the grid search object\n",
    "grid_search = GridSearchCV(\n",
    "    estimator=svm_clf,\n",
    "    scoring=my_metrics,\n",
    "    param_grid=param_grid,\n",
    "    cv=3,\n",
    "    n_jobs=-1,\n",
    "    verbose=1,\n",
    "    error_score=\"raise\",\n",
    "    refit=\"ROC_AUC\",  # Final fit \n",
    ")\n",
    "\n",
    "# Search\n",
    "grid_search.fit(X_train, y_train)"
   ]
  },
  {
   "cell_type": "code",
   "execution_count": 18,
   "id": "a4eea238-9dca-4a31-8e65-a83f4e689b49",
   "metadata": {},
   "outputs": [],
   "source": [
    "gs_df = pd.DataFrame(grid_search.cv_results_)\n",
    "gs_df.to_csv(\"./results/svm_gs_results.csv\")"
   ]
  },
  {
   "cell_type": "code",
   "execution_count": null,
   "id": "0060f594-d7a5-499b-a128-9fedbbf34840",
   "metadata": {},
   "outputs": [],
   "source": [
    "grid_search.bes"
   ]
  },
  {
   "cell_type": "code",
   "execution_count": null,
   "id": "c7551e4f-db62-47d8-9e50-cccbca02d07e",
   "metadata": {},
   "outputs": [],
   "source": [
    "from sklearn.svm import SVC\n",
    "from sklearn.preprocessing import StandardScaler\n",
    "from sklearn.model_selection import cross_val_score, cross_validate\n",
    "from sklearn.pipeline import Pipeline\n",
    "from scipy.stats import sem\n",
    "\n",
    "my_metrics = {\n",
    "    \"ROC_AUC\": \"roc_auc\",\n",
    "    \"Precision\": \"precision\",\n",
    "    \"Recall\": \"recall\",\n",
    "    \"f1-score\": \"f1\",\n",
    "    \"AUPRC\": make_scorer(auprc, needs_proba=True,),  # custom: area under precision-recall-curve\n",
    "}\n",
    "\n",
    "model = Pipeline([\n",
    "    ('scaler', StandardScaler()),\n",
    "    ('pca', ConfounderPCA()), \n",
    "    ('svc', SVC(kernel='rbf', random_state=0, probability=True))\n",
    "])\n",
    "\n",
    "\n",
    "scores_df = pd.DataFrame()\n",
    "\n",
    "print(\"SVM: (mean and standard error)\")\n",
    "for score_name in my_metrics:\n",
    "    cvs = cross_val_score(model, X_train, y_train, scoring=my_metrics[score_name], cv=3)\n",
    "    scores_df[score_name] = cvs\n",
    "    print(\"   \" + score_name + f\" : {cvs.mean():.4f} +/- {sem(cvs):.4f} \")"
   ]
  },
  {
   "cell_type": "code",
   "execution_count": null,
   "id": "ca1c1fef-3cdd-457e-b48f-ed852610660f",
   "metadata": {},
   "outputs": [],
   "source": [
    "scores_df"
   ]
  },
  {
   "cell_type": "code",
   "execution_count": null,
   "id": "7fe13a1a-6f31-46f0-9e57-52e59a8d6f43",
   "metadata": {},
   "outputs": [],
   "source": [
    "X.flags"
   ]
  },
  {
   "cell_type": "code",
   "execution_count": 88,
   "id": "cd357fd5-b3d3-417b-b35c-97a776c21570",
   "metadata": {},
   "outputs": [
    {
     "name": "stdout",
     "output_type": "stream",
     "text": [
      "SVM: (mean and standard error)\n"
     ]
    }
   ],
   "source": [
    "from sklearn.svm import SVC\n",
    "from sklearn.preprocessing import StandardScaler\n",
    "from sklearn.model_selection import cross_validate\n",
    "from sklearn.pipeline import Pipeline\n",
    "from scipy.stats import sem\n",
    "\n",
    "my_metrics = {\n",
    "    \"ROC_AUC\": \"roc_auc\",\n",
    "    \"Precision\": \"precision\",\n",
    "    \"Recall\": \"recall\",\n",
    "    \"f1-score\": \"f1\",\n",
    "    \"AUPRC\": make_scorer(auprc, needs_proba=True,),  # custom: area under precision-recall-curve\n",
    "}\n",
    "\n",
    "model = Pipeline([\n",
    "    ('scaler', StandardScaler()),\n",
    "    ('pca', ConfounderPCA()), \n",
    "    ('svc', SVC(kernel='rbf', random_state=0, probability=True))\n",
    "])\n",
    "\n",
    "scores = cross_validate(model, X_train, y_train, cv=10, scoring=my_metrics)"
   ]
  },
  {
   "cell_type": "code",
   "execution_count": 89,
   "id": "0f3d02a2-6100-4ac5-aea0-03bf06ae5d0a",
   "metadata": {},
   "outputs": [
    {
     "data": {
      "text/html": [
       "<div>\n",
       "<style scoped>\n",
       "    .dataframe tbody tr th:only-of-type {\n",
       "        vertical-align: middle;\n",
       "    }\n",
       "\n",
       "    .dataframe tbody tr th {\n",
       "        vertical-align: top;\n",
       "    }\n",
       "\n",
       "    .dataframe thead th {\n",
       "        text-align: right;\n",
       "    }\n",
       "</style>\n",
       "<table border=\"1\" class=\"dataframe\">\n",
       "  <thead>\n",
       "    <tr style=\"text-align: right;\">\n",
       "      <th></th>\n",
       "      <th>fit_time</th>\n",
       "      <th>score_time</th>\n",
       "      <th>test_ROC_AUC</th>\n",
       "      <th>test_Precision</th>\n",
       "      <th>test_Recall</th>\n",
       "      <th>test_f1-score</th>\n",
       "      <th>test_AUPRC</th>\n",
       "    </tr>\n",
       "  </thead>\n",
       "  <tbody>\n",
       "    <tr>\n",
       "      <th>0</th>\n",
       "      <td>67.068063</td>\n",
       "      <td>22.856539</td>\n",
       "      <td>0.602040</td>\n",
       "      <td>0.526316</td>\n",
       "      <td>0.009116</td>\n",
       "      <td>0.017921</td>\n",
       "      <td>0.555102</td>\n",
       "    </tr>\n",
       "    <tr>\n",
       "      <th>1</th>\n",
       "      <td>58.656096</td>\n",
       "      <td>19.969765</td>\n",
       "      <td>0.595409</td>\n",
       "      <td>0.777778</td>\n",
       "      <td>0.012762</td>\n",
       "      <td>0.025112</td>\n",
       "      <td>0.679037</td>\n",
       "    </tr>\n",
       "    <tr>\n",
       "      <th>2</th>\n",
       "      <td>51.851468</td>\n",
       "      <td>22.442430</td>\n",
       "      <td>0.608009</td>\n",
       "      <td>0.625000</td>\n",
       "      <td>0.013674</td>\n",
       "      <td>0.026762</td>\n",
       "      <td>0.584116</td>\n",
       "    </tr>\n",
       "  </tbody>\n",
       "</table>\n",
       "</div>"
      ],
      "text/plain": [
       "    fit_time  score_time  test_ROC_AUC  test_Precision  test_Recall  \\\n",
       "0  67.068063   22.856539      0.602040        0.526316     0.009116   \n",
       "1  58.656096   19.969765      0.595409        0.777778     0.012762   \n",
       "2  51.851468   22.442430      0.608009        0.625000     0.013674   \n",
       "\n",
       "   test_f1-score  test_AUPRC  \n",
       "0       0.017921    0.555102  \n",
       "1       0.025112    0.679037  \n",
       "2       0.026762    0.584116  "
      ]
     },
     "execution_count": 89,
     "metadata": {},
     "output_type": "execute_result"
    }
   ],
   "source": [
    "scores_df = pd.DataFrame(scores) "
   ]
  },
  {
   "cell_type": "code",
   "execution_count": null,
   "id": "e3d8f650-8032-48a2-8785-2e735f8e72a1",
   "metadata": {},
   "outputs": [],
   "source": [
    "scores_df.mean()"
   ]
  },
  {
   "cell_type": "code",
   "execution_count": null,
   "id": "c845739c-301e-41e6-a317-1767e51a1d7a",
   "metadata": {},
   "outputs": [],
   "source": [
    "scores_df.sem()"
   ]
  },
  {
   "cell_type": "code",
   "execution_count": null,
   "id": "50d2ff3d-ba68-43d8-8577-840034aacad1",
   "metadata": {},
   "outputs": [],
   "source": [
    "scores_df.to_csv(\"./results/svm_gs_results.csv\")"
   ]
  }
 ],
 "metadata": {
  "kernelspec": {
   "display_name": "Python [conda env:ml_venv]",
   "language": "python",
   "name": "conda-env-ml_venv-py"
  },
  "language_info": {
   "codemirror_mode": {
    "name": "ipython",
    "version": 3
   },
   "file_extension": ".py",
   "mimetype": "text/x-python",
   "name": "python",
   "nbconvert_exporter": "python",
   "pygments_lexer": "ipython3",
   "version": "3.7.7"
  }
 },
 "nbformat": 4,
 "nbformat_minor": 5
}
