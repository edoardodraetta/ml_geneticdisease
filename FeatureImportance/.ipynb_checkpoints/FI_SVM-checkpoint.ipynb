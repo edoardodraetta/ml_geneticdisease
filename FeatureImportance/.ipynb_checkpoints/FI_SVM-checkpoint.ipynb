{
 "cells": [
  {
   "cell_type": "code",
   "execution_count": null,
   "id": "d67ff45f-b9ba-43cd-8013-da48bd2483f2",
   "metadata": {},
   "outputs": [],
   "source": [
    "import matplotlib.pyplot as plt\n",
    "import numpy as np\n",
    "import pandas as pd\n",
    "import seaborn as sns\n",
    "\n",
    "pd.set_option(\"display.max_columns\", 85)\n",
    "sns.set_theme(context=\"paper\", font_scale=1.5, style=\"ticks\", rc={\"axes.grid\": True})"
   ]
  },
  {
   "cell_type": "markdown",
   "id": "77800fea-8e2e-46d3-9c25-2d3aa9453e0e",
   "metadata": {},
   "source": [
    "# Support Vector Machine Classifier: Feature Importance by Permutation"
   ]
  },
  {
   "cell_type": "markdown",
   "id": "af10e05f-0379-49ae-97a9-9ad7f2c1f2cb",
   "metadata": {
    "tags": []
   },
   "source": [
    "***\n",
    "## Load the data"
   ]
  },
  {
   "cell_type": "code",
   "execution_count": null,
   "id": "6472e2e5-dd61-4b0f-a62e-c58fc2150af0",
   "metadata": {},
   "outputs": [],
   "source": [
    "# Read Data from CSV (NEW DATA, NOT SCALED)\n",
    "df = pd.read_csv(\"../data/abnormal_writeout_noscale.data.csv\", index_col=0)\n",
    "\n",
    "# trascurare da ACC a UVM\n",
    "start_drop = df.columns.get_loc(\"ACC\")\n",
    "end_drop = df.columns.get_loc(\"UVM\")\n",
    "cols = np.arange(start_drop, end_drop + 1)\n",
    "df.drop(df.columns[cols], axis=1, inplace=True)\n",
    "\n",
    "# trascurare alcune colonne\n",
    "df.drop(\"TTT_freq\", axis=1, inplace=True)\n",
    "df.drop(\"oldest_phylostratum_factor\", axis=1, inplace=True)\n",
    "\n",
    "# Drop NaNs\n",
    "df.dropna(inplace=True)\n",
    "\n",
    "# Sort features\n",
    "resp = df[\"response\"]\n",
    "occ = df[\"occ_total_sum\"]\n",
    "age = df[\"oldest_phylostratum\"]\n",
    "conf = df.drop(labels=[\"response\", \"occ_total_sum\", \"oldest_phylostratum\"], axis=1)\n",
    "\n",
    "# Collect Features and Labels\n",
    "features_df = pd.DataFrame()\n",
    "features_df[\"occ_total_sum\"] = occ\n",
    "features_df[\"oldest_phylostratum\"] = age\n",
    "features_df = pd.concat([features_df, conf], axis=1)\n",
    "\n",
    "X = features_df.to_numpy()\n",
    "y = df[\"response\"].to_numpy()\n",
    "\n",
    "features_df.head(10)"
   ]
  },
  {
   "cell_type": "markdown",
   "id": "6bb31f7a-4d4a-4cbd-8912-e019bfe73e33",
   "metadata": {
    "tags": []
   },
   "source": [
    "## Custom PCA"
   ]
  },
  {
   "cell_type": "code",
   "execution_count": null,
   "id": "ab11a961-c9e6-478a-9bdd-3602d70084b4",
   "metadata": {},
   "outputs": [],
   "source": [
    "from sklearn.base import BaseEstimator, TransformerMixin\n",
    "from sklearn.decomposition import PCA\n",
    "from sklearn.preprocessing import StandardScaler\n",
    "\n",
    "# Columns of confounder variables (highly colinear)\n",
    "conf_index = 2\n",
    "conf_cols = np.arange(2, X.shape[1])\n",
    "\n",
    "\n",
    "class ConfounderPCA(BaseEstimator, TransformerMixin):\n",
    "    \"\"\" \n",
    "    Custom PCA transformer for this dataset.\n",
    "    Applies PCA only to the many collinear confounder \n",
    "    variables.\n",
    "    \n",
    "    cols - columns to which PCA will be applied.\n",
    "    \n",
    "    n_components - same as with the \"vanilla\" PCA. \n",
    "        If 0 < n_components < 1, select the number of \n",
    "        components such that the amount of variance that \n",
    "        needs to be explained is greater than the \n",
    "        percentage specified by n_components.\n",
    "        \n",
    "    apply_PCA - if false, simply returns the untransformed data.\n",
    "    \"\"\"\n",
    "\n",
    "    def __init__(self, cols, n_components=None, apply_PCA=True):\n",
    "        self.n_components = n_components\n",
    "        self.apply_PCA = apply_PCA\n",
    "        self.cols = cols\n",
    "        if self.apply_PCA:\n",
    "            self.pca = PCA(n_components=self.n_components)\n",
    "\n",
    "    def fit(self, X, y=None):\n",
    "        if self.apply_PCA:\n",
    "            self.pca.fit(X[:, self.cols])\n",
    "        return self\n",
    "\n",
    "    def transform(self, X, y=None):\n",
    "        if self.apply_PCA:\n",
    "            X_pca = self.pca.transform(X[:, self.cols])\n",
    "            return np.c_[X[:, :2], X_pca]\n",
    "        else:\n",
    "            return X\n",
    "\n",
    "\n",
    "sns.heatmap(\n",
    "    pd.DataFrame(\n",
    "        ConfounderPCA(cols=np.arange(2, X.shape[1])).fit_transform(StandardScaler().fit_transform(X))\n",
    "    ).corr()\n",
    ")\n",
    "plt.title(\"Correlation Matrix after PCA\")\n",
    "plt.show()\n",
    "\n",
    "print(X.shape[1], \"total features.\")\n",
    "print(\"Confounder columns start from index\", conf_index, \"of feature matrix.\")\n",
    "print(\"Non-counfounders:\", features_df.iloc[:, 0:conf_index].columns.tolist())\n",
    "\n",
    "features_df"
   ]
  },
  {
   "cell_type": "markdown",
   "id": "26d7edea-bb65-41c9-94af-8a19fd90acb3",
   "metadata": {},
   "source": [
    "# Feature importance by Permutation"
   ]
  },
  {
   "cell_type": "code",
   "execution_count": null,
   "id": "ae8a2b4a-ff84-4599-b3fb-d48f08e5c0f3",
   "metadata": {},
   "outputs": [],
   "source": [
    "from sklearn.inspection import permutation_importance\n",
    "from sklearn.model_selection import train_test_split\n",
    "\n",
    "def calc_importances(model, x, y, ranseed=0):\n",
    "    \n",
    "    # Train/test split\n",
    "    x_tr, x_te, y_tr, y_te = train_test_split(x, y, test_size=0.2, random_state=ranseed)\n",
    "\n",
    "    # Train the model on the dataset\n",
    "    model.fit(x_tr, y_tr) \n",
    "    \n",
    "    # Compare the model against other models trained on permutations of the dataset\n",
    "    results = permutation_importance(model, x_te, y_te, n_repeats=5, random_state=ranseed, scoring='roc_auc', n_jobs=-1)\n",
    "    \n",
    "    return pd.DataFrame(results.importances_mean, columns=[\"Score\"], index=features_df.columns)"
   ]
  },
  {
   "cell_type": "markdown",
   "id": "9f0f2dd5-0688-4025-a528-21b7432f8c3c",
   "metadata": {
    "tags": []
   },
   "source": [
    "### PCA, Dropping Components to 95% Explained Variance"
   ]
  },
  {
   "cell_type": "code",
   "execution_count": null,
   "id": "6e4c489c-c7c5-4ad6-aba6-5aa1b1b4bf4d",
   "metadata": {},
   "outputs": [],
   "source": [
    "from sklearn.pipeline import Pipeline\n",
    "from sklearn.preprocessing import StandardScaler\n",
    "from sklearn.svm import SVC\n",
    "\n",
    "svm_clf = Pipeline([\n",
    "    (\"scaler\", StandardScaler()),\n",
    "    (\"pca\", ConfounderPCA(cols=np.arange(2, X.shape[1]), n_components=0.95)),\n",
    "    (\"svc\", SVC(kernel='rbf')),\n",
    "])\n",
    "\n",
    "imp_pca_df = calc_importances(svm_clf, X, y, ranseed=42) "
   ]
  },
  {
   "cell_type": "code",
   "execution_count": null,
   "id": "b45bdf8f-7b81-4732-985d-cd55c3844446",
   "metadata": {},
   "outputs": [],
   "source": [
    "data = imp_pca_df.sort_values(by=\"Score\", key=abs, ascending=False)\n",
    "\n",
    "# Plot\n",
    "plt.figure(figsize=(8,5))\n",
    "sns.lineplot(x=np.arange(1, 84), y=data.to_numpy().flatten())\n",
    "plt.title(\"SVM with PCA (95% EV), Feature Importance by Impact on ROC-AUC Score\")\n",
    "plt.ylabel(\"ROC-AUC Score Impact\")\n",
    "plt.xlabel(\"Feature Rank\")\n",
    "plt.show()\n",
    "\n",
    "# Print the feature matrix sorted by importance\n",
    "data.head(10)"
   ]
  },
  {
   "cell_type": "markdown",
   "id": "f4902e01-43c7-4873-a014-c856292e2393",
   "metadata": {
    "tags": []
   },
   "source": [
    "### Without PCA"
   ]
  },
  {
   "cell_type": "code",
   "execution_count": null,
   "id": "f1c7b7e2-d1f3-472d-8767-de54c9af437c",
   "metadata": {},
   "outputs": [],
   "source": [
    "svm_clf = Pipeline([\n",
    "    (\"scaler\", StandardScaler()),\n",
    "    # (\"pca\", ConfounderPCA(cols=np.arange(2, X.shape[1]), n_components=0.95)),\n",
    "    (\"svc\", SVC(kernel='rbf')),\n",
    "])\n",
    "\n",
    "imp_npca_df = calc_importances(gnb_clf, X, y, ranseed=30) "
   ]
  },
  {
   "cell_type": "code",
   "execution_count": null,
   "id": "6439d90a-2c08-455c-bedf-3bc67f75acaf",
   "metadata": {},
   "outputs": [],
   "source": [
    "data = imp_npca_df.sort_values(by=\"Score\", key=abs, ascending=False)\n",
    "\n",
    "# Plot\n",
    "plt.figure(figsize=(8,5))\n",
    "sns.lineplot(x=np.arange(1, 84), y=data.to_numpy().flatten())\n",
    "plt.title(\"SVM w/o PCA, Feature Importance by Impact on ROC-AUC Score\")\n",
    "plt.ylabel(\"ROC-AUC Score Impact\")\n",
    "plt.xlabel(\"Feature Rank\")\n",
    "plt.show()\n",
    "\n",
    "# Print the feature matrix sorted by importance\n",
    "data.head(10)"
   ]
  },
  {
   "cell_type": "markdown",
   "id": "4c1bf2a9-0202-4871-9fa3-85a8b113a5a8",
   "metadata": {
    "tags": []
   },
   "source": [
    "### Without dropping components"
   ]
  },
  {
   "cell_type": "code",
   "execution_count": null,
   "id": "0fe7e9d4-2742-4b93-87d5-6d79864d2a8d",
   "metadata": {},
   "outputs": [],
   "source": [
    "svm_clf = Pipeline([\n",
    "    (\"scaler\", StandardScaler()),\n",
    "    (\"pca\", ConfounderPCA(cols=np.arange(2, X.shape[1]), n_components=None)),\n",
    "    (\"svc\", SVC(kernel='rbf')),\n",
    "])\n",
    "\n",
    "imp_pca_all_df = calc_importances(svm_clf, X, y, ranseed=44) "
   ]
  },
  {
   "cell_type": "code",
   "execution_count": null,
   "id": "931e255d-5478-4dd0-a222-e6aaad4c6880",
   "metadata": {},
   "outputs": [],
   "source": [
    "data = imp_pca_all_df.sort_values(by=\"Score\", key=abs, ascending=False)\n",
    "\n",
    "# Plot\n",
    "plt.figure(figsize=(8,5))\n",
    "sns.lineplot(x=np.arange(1, 84), y=data.to_numpy().flatten())\n",
    "plt.title(\"SVM PCA to 100% EV, Feature Importance by Impact on ROC-AUC Score\")\n",
    "plt.ylabel(\"ROC-AUC Score Impact\")\n",
    "plt.xlabel(\"Feature Rank\")\n",
    "plt.show()\n",
    "\n",
    "# Print the feature matrix sorted by importance\n",
    "data.head(10)"
   ]
  },
  {
   "cell_type": "markdown",
   "id": "b408976a-6233-443f-b55c-05cd6839b451",
   "metadata": {},
   "source": [
    "## Results Summary"
   ]
  },
  {
   "cell_type": "code",
   "execution_count": null,
   "id": "d2a41cca-60da-4e9c-b615-5db8c7b15de5",
   "metadata": {},
   "outputs": [],
   "source": [
    "results_df = pd.DataFrame()\n",
    "\n",
    "results_df[\"Top Variables PCA 95%\"] = imp_pca_df.sort_values(by=\"Score\", key=abs, ascending=False).index\n",
    "results_df[\"Scores PCA 95%\"] = imp_pca_df.sort_values(by=\"Score\", key=abs, ascending=False).Score.to_numpy()\n",
    "\n",
    "results_df[\"Top Variables PCA 100%\"] = imp_pca_all_df.sort_values(by=\"Score\", key=abs, ascending=False).index\n",
    "results_df[\"Scores PCA 100%\"] = imp_pca_all_df.sort_values(by=\"Score\", key=abs, ascending=False).Score.to_numpy()\n",
    "\n",
    "results_df[\"Top Variables No PCA\"] = imp_npca_df.sort_values(by=\"Score\", key=abs, ascending=False).index\n",
    "results_df[\"Scores No PCA\"] = imp_npca_df.sort_values(by=\"Score\", key=abs, ascending=False).Score.to_numpy()\n",
    "\n",
    "results_df.head(10)"
   ]
  },
  {
   "cell_type": "code",
   "execution_count": null,
   "id": "ab8c043d-e261-48da-8312-034e74187e44",
   "metadata": {},
   "outputs": [],
   "source": [
    "pd.set_option(\"display.max_rows\", 83)\n",
    "results_df.to_markdown(\"./SVM_FI.md\")\n",
    "results_df.to_csv(\"./SVM_FI.csv\")"
   ]
  },
  {
   "cell_type": "code",
   "execution_count": null,
   "id": "98a27c20-44da-4d32-a0bc-ed16db2e96a7",
   "metadata": {},
   "outputs": [],
   "source": [
    "plt.figure(figsize=(8,4))\n",
    "\n",
    "sns.lineplot(x=np.arange(83), y=results_df[\"Scores PCA 95%\"].to_numpy().flatten(), label=\"PCA 95% EV\")\n",
    "sns.lineplot(x=np.arange(83), y=results_df[\"Scores No PCA\"].to_numpy().flatten(), label=\"No PCA\") \n",
    "sns.lineplot(x=np.arange(83), y=results_df[\"Scores PCA 100%\"].to_numpy().flatten(), label=\"PCA 100% EV\") \n",
    "plt.title(\"SVM: Feature Importance by Impact on ROC-AUC Score\")\n",
    "plt.ylabel(\"ROC-AUC Score Impact\")\n",
    "plt.xlabel(\"Feature Rank\")\n",
    "plt.grid(True)\n",
    "plt.savefig(\"./figures/SVM_FI.png\")\n",
    "plt.show()"
   ]
  }
 ],
 "metadata": {
  "kernelspec": {
   "display_name": "Python [conda env:ml_venv]",
   "language": "python",
   "name": "conda-env-ml_venv-py"
  },
  "language_info": {
   "codemirror_mode": {
    "name": "ipython",
    "version": 3
   },
   "file_extension": ".py",
   "mimetype": "text/x-python",
   "name": "python",
   "nbconvert_exporter": "python",
   "pygments_lexer": "ipython3",
   "version": "3.7.7"
  }
 },
 "nbformat": 4,
 "nbformat_minor": 5
}
