{
 "cells": [
  {
   "cell_type": "code",
   "execution_count": 1,
   "id": "6d87ed4e-53b1-4a92-ae8f-32887c246875",
   "metadata": {},
   "outputs": [],
   "source": [
    "import matplotlib.pyplot as plt\n",
    "import numpy as np\n",
    "import pandas as pd\n",
    "import seaborn as sns\n",
    "\n",
    "pd.set_option(\"display.max_columns\", 85)\n",
    "sns.set_theme(context=\"paper\", font_scale=1.5, style=\"ticks\", rc={\"axes.grid\": True})"
   ]
  },
  {
   "cell_type": "markdown",
   "id": "8ba9c544-66e2-4f5a-a345-8ea16d1cd334",
   "metadata": {
    "tags": []
   },
   "source": [
    "# Area Under the Precision Recall Curve\n",
    "\n",
    "Does optimizing a model with respect to the \"area under precision-recall curve\" lead to different results?\n",
    "- Does it lead to significantly different hyperparameters?\n",
    "- Does it lead to significantly different model performance?\n",
    "- Does anything change if the model is nonlinear (e.g. Gaussian Naive Bayes)?\n",
    "\n",
    "Approach:\n",
    "1. Using a grid-search cross-validation procedure, train a model on pr-auc. \n",
    "2. Evaluate using several performance metrics: precision, recall, f1-score, roc-auc, pr-auc..."
   ]
  },
  {
   "cell_type": "markdown",
   "id": "97c281cd-852a-4950-ba72-5800d64f3926",
   "metadata": {
    "jp-MarkdownHeadingCollapsed": true,
    "tags": []
   },
   "source": [
    "### Data"
   ]
  },
  {
   "cell_type": "code",
   "execution_count": 2,
   "id": "310656ad-903e-4d40-b225-e0ac10055916",
   "metadata": {},
   "outputs": [],
   "source": [
    "# Read Data from CSV (NEW DATA, NOT SCALED)\n",
    "df = pd.read_csv(\"../data/abnormal_writeout_noscale.data.csv\", index_col=0)\n",
    "\n",
    "# trascurare da ACC a UVM\n",
    "start_drop = df.columns.get_loc(\"ACC\")\n",
    "end_drop = df.columns.get_loc(\"UVM\")\n",
    "cols = np.arange(start_drop, end_drop + 1)\n",
    "df.drop(df.columns[cols], axis=1, inplace=True)\n",
    "\n",
    "# trascurare alcune colonne\n",
    "df.drop(\"TTT_freq\", axis=1, inplace=True)\n",
    "df.drop(\"oldest_phylostratum_factor\", axis=1, inplace=True)\n",
    "df.drop(\"gc_cds\", axis=1, inplace=True) # ! New\n",
    "\n",
    "# Drop NaNs\n",
    "df.dropna(inplace=True)\n",
    "\n",
    "# Sort features\n",
    "resp = df[\"response\"]\n",
    "occ = df[\"occ_total_sum\"]\n",
    "age = df[\"oldest_phylostratum\"]\n",
    "conf = df.drop(labels=[\"response\", \"occ_total_sum\", \"oldest_phylostratum\"], axis=1)\n",
    "\n",
    "# Collect Features and Labels\n",
    "features_df = pd.DataFrame()\n",
    "features_df[\"occ_total_sum\"] = occ\n",
    "features_df[\"oldest_phylostratum\"] = age\n",
    "features_df = pd.concat([features_df, conf], axis=1)\n",
    "\n",
    "X = features_df.to_numpy()\n",
    "y = df[\"response\"].to_numpy()"
   ]
  },
  {
   "cell_type": "markdown",
   "id": "43210601-956b-4fbc-a273-caf3e643beb6",
   "metadata": {
    "jp-MarkdownHeadingCollapsed": true,
    "tags": []
   },
   "source": [
    "### Custom PCA"
   ]
  },
  {
   "cell_type": "code",
   "execution_count": 3,
   "id": "67e18749-7ae2-4ec7-8030-c719f3b2cd00",
   "metadata": {},
   "outputs": [],
   "source": [
    "from sklearn.base import BaseEstimator, TransformerMixin\n",
    "from sklearn.decomposition import PCA\n",
    "from sklearn.preprocessing import StandardScaler\n",
    "\n",
    "# Columns of confounder variables (highly colinear)\n",
    "conf_index = 2\n",
    "conf_cols = np.arange(2, X.shape[1])  \n",
    "\n",
    "class ConfounderPCA(BaseEstimator, TransformerMixin):\n",
    "    \"\"\" \n",
    "    Custom PCA transformer for this dataset.\n",
    "    Applies PCA only to the many collinear confounder \n",
    "    variables.\n",
    "    \"\"\"\n",
    "    def __init__(self, confcols, n_components=None, apply_PCA=True):\n",
    "        self.n_components = n_components\n",
    "        self.apply_PCA = apply_PCA\n",
    "        self.confcols = confcols\n",
    "        if self.apply_PCA:\n",
    "            self.pca = PCA(n_components=self.n_components)\n",
    "\n",
    "    def fit(self, X, y=None):\n",
    "        if self.apply_PCA:\n",
    "            self.pca.fit(X[:, self.confcols])\n",
    "        return self\n",
    "\n",
    "    def transform(self, X, y=None):\n",
    "        if self.apply_PCA:\n",
    "            X_conf_pca = self.pca.transform(X[:, self.confcols])\n",
    "            return np.c_[X[:, :2], X_conf_pca]\n",
    "        else:\n",
    "            return X"
   ]
  },
  {
   "cell_type": "markdown",
   "id": "64578871-380f-46cc-b4d2-6a61d01654ad",
   "metadata": {
    "jp-MarkdownHeadingCollapsed": true,
    "tags": []
   },
   "source": [
    "### Custom Scoring: Area Under Precision Recall Curve"
   ]
  },
  {
   "cell_type": "code",
   "execution_count": 4,
   "id": "ec50cced-d2fd-4590-815a-6c153fa21fdd",
   "metadata": {},
   "outputs": [],
   "source": [
    "from sklearn.metrics import auc, make_scorer, precision_recall_curve\n",
    "\n",
    "\n",
    "def auprc(y_true, y_scores, **kwargs):\n",
    "    \"\"\" Remember to use make_scorer(auprc, needs_proba=True,) \"\"\"\n",
    "    precisions, recalls, thresholds = precision_recall_curve(y_true, y_scores)\n",
    "    # results is area under x=Recall and y=Precision curve. \n",
    "    return auc(recalls, precisions)"
   ]
  },
  {
   "cell_type": "markdown",
   "id": "998e7934-8141-486e-ba09-8e3d260e730c",
   "metadata": {
    "tags": []
   },
   "source": [
    "### Train-Test Split"
   ]
  },
  {
   "cell_type": "code",
   "execution_count": 5,
   "id": "fa36c106-6cba-40d0-b1d5-f9b107e47ab1",
   "metadata": {},
   "outputs": [
    {
     "name": "stdout",
     "output_type": "stream",
     "text": [
      "Training set shape: (14536, 82) (14536,)\n",
      "Testing set shape: (3634, 82) (3634,)\n"
     ]
    }
   ],
   "source": [
    "from sklearn.model_selection import train_test_split\n",
    "\n",
    "X_train, X_test, y_train, y_test = train_test_split(X, y, test_size=0.2, random_state=42)\n",
    "\n",
    "print(\"Training set shape:\", X_train.shape, y_train.shape)\n",
    "print(\"Testing set shape:\", X_test.shape, y_test.shape)"
   ]
  },
  {
   "cell_type": "markdown",
   "id": "4a169736-2fd3-4670-ba91-ef9412eaf764",
   "metadata": {
    "tags": []
   },
   "source": [
    "# Logistic Regression"
   ]
  },
  {
   "cell_type": "markdown",
   "id": "2d3bbb6c-b62e-4e3e-bfd6-91ca55803eaf",
   "metadata": {
    "jp-MarkdownHeadingCollapsed": true,
    "tags": []
   },
   "source": [
    "### Define LR and its Parameter Space"
   ]
  },
  {
   "cell_type": "code",
   "execution_count": 16,
   "id": "9ed28a21-21a0-4a2d-8546-f11d6d6bd123",
   "metadata": {},
   "outputs": [],
   "source": [
    "from sklearn.pipeline import Pipeline\n",
    "from sklearn.preprocessing import StandardScaler\n",
    "from sklearn.linear_model import LogisticRegression\n",
    "\n",
    "# Define a parameter space to search\n",
    "param_grid = {\n",
    "    \"lr__C\": np.logspace(-3, 4, 7),\n",
    "    \"lr__class_weight\": [None, \"balanced\"],\n",
    "    \"pca__apply_PCA\": [True, False],\n",
    "    \"pca__n_components\": [0.99, None],\n",
    "}\n",
    "\n",
    "# Define the model to be tuned\n",
    "lr_clf = Pipeline([\n",
    "    (\"scaler\", StandardScaler()),\n",
    "    (\"pca\", ConfounderPCA(confcols=np.arange(2, X.shape[1]))),\n",
    "    (\"lr\", LogisticRegression(max_iter=2000,)),\n",
    "])"
   ]
  },
  {
   "cell_type": "markdown",
   "id": "70bbfbcc-61ce-4cac-9206-9329bcc0e57c",
   "metadata": {
    "jp-MarkdownHeadingCollapsed": true,
    "tags": []
   },
   "source": [
    "### Optimize LR"
   ]
  },
  {
   "cell_type": "code",
   "execution_count": 17,
   "id": "c38f232d-607e-4efe-9c45-09ca29207d80",
   "metadata": {},
   "outputs": [
    {
     "name": "stdout",
     "output_type": "stream",
     "text": [
      "Fitting 3 folds for each of 56 candidates, totalling 168 fits\n"
     ]
    }
   ],
   "source": [
    "from sklearn.model_selection import GridSearchCV\n",
    "\n",
    "# Define the grid search object\n",
    "gscv = GridSearchCV(\n",
    "    estimator=lr_clf,\n",
    "    param_grid=param_grid,\n",
    "    cv=3,\n",
    "    n_jobs=-1,\n",
    "    verbose=1,\n",
    "    scoring=make_scorer(auprc, needs_proba=True), \n",
    ")\n",
    "\n",
    "# Search\n",
    "gscv_result = gscv.fit(X_train, y_train)"
   ]
  },
  {
   "cell_type": "markdown",
   "id": "cc2e46ef-45a0-46d3-9bc2-b628dd57b197",
   "metadata": {
    "jp-MarkdownHeadingCollapsed": true,
    "tags": []
   },
   "source": [
    "### Score LR"
   ]
  },
  {
   "cell_type": "code",
   "execution_count": 18,
   "id": "a25a9358-8016-46d3-beb5-e0343d483516",
   "metadata": {},
   "outputs": [
    {
     "name": "stdout",
     "output_type": "stream",
     "text": [
      "Best Params:\n",
      "{'lr__C': 3.1622776601683795, 'lr__class_weight': 'balanced', 'pca__apply_PCA': False, 'pca__n_components': 0.99}\n"
     ]
    }
   ],
   "source": [
    "from sklearn.metrics import f1_score, precision_score, recall_score, roc_auc_score\n",
    "\n",
    "# Get best model\n",
    "lr_A = gscv_result.best_estimator_\n",
    "lr_A.fit(X_train, y_train)\n",
    "\n",
    "# Parameters\n",
    "print(\"Best Params:\")\n",
    "print(gscv_result.best_params_)\n",
    "\n",
    "# Predict\n",
    "y_pred_proba = lr_A.predict_proba(X_test)[:, 1]\n",
    "y_pred = lr_A.predict(X_test)\n",
    "\n",
    "# Score\n",
    "lr_data = []\n",
    "lr_data.append(roc_auc_score(y_test, y_pred_proba))\n",
    "lr_data.append(auprc(y_test, y_pred_proba))\n",
    "lr_data.append(precision_score(y_test, y_pred))\n",
    "lr_data.append(recall_score(y_test, y_pred))\n",
    "lr_data.append(f1_score(y_test, y_pred))"
   ]
  },
  {
   "cell_type": "markdown",
   "id": "86276481-7e16-4744-a8f0-eae99d022d20",
   "metadata": {
    "tags": []
   },
   "source": [
    "# GNB Classifier"
   ]
  },
  {
   "cell_type": "markdown",
   "id": "d9ea3c3d-b15e-418c-9f00-021b0b997043",
   "metadata": {
    "jp-MarkdownHeadingCollapsed": true,
    "tags": []
   },
   "source": [
    "### Define the GNB Classifier and its Parameter Space"
   ]
  },
  {
   "cell_type": "code",
   "execution_count": 19,
   "id": "0b85b2da-4c2c-4334-ac67-f11b80e19074",
   "metadata": {},
   "outputs": [],
   "source": [
    "from sklearn.naive_bayes import GaussianNB\n",
    "\n",
    "# Define a parameter space to search\n",
    "param_grid = {\n",
    "    \"pca__apply_PCA\": [True, False],\n",
    "    \"pca__n_components\": [0.1, 0.2, 0.3, 0.4, 0.5, 0.6, 0.7, 0.8, 0.9, 0.95, 0.99, None],\n",
    "}\n",
    "\n",
    "# Define the model to be tuned\n",
    "gnb_clf = Pipeline([\n",
    "    (\"scaler\", StandardScaler()),\n",
    "    (\"pca\", ConfounderPCA(confcols=np.arange(2, X.shape[1]))),\n",
    "    (\"gnb\", GaussianNB()),\n",
    "])"
   ]
  },
  {
   "cell_type": "markdown",
   "id": "dafc0d4f-d719-473b-a99f-f29bcfc775e6",
   "metadata": {
    "jp-MarkdownHeadingCollapsed": true,
    "tags": []
   },
   "source": [
    "### Optimize the GNB Classifier "
   ]
  },
  {
   "cell_type": "code",
   "execution_count": 20,
   "id": "5348e8ee-00a7-459e-9818-2fc92b6c95a7",
   "metadata": {},
   "outputs": [
    {
     "name": "stdout",
     "output_type": "stream",
     "text": [
      "Fitting 3 folds for each of 24 candidates, totalling 72 fits\n"
     ]
    }
   ],
   "source": [
    "# Define the grid search object\n",
    "gscv = GridSearchCV(\n",
    "    estimator=gnb_clf,\n",
    "    param_grid=param_grid,\n",
    "    cv=3,\n",
    "    n_jobs=-1,\n",
    "    verbose=1,\n",
    "    scoring=make_scorer(auprc, needs_proba=True), \n",
    ")\n",
    "\n",
    "# Search\n",
    "gscv_result = gscv.fit(X_train, y_train)"
   ]
  },
  {
   "cell_type": "markdown",
   "id": "dd6bbe2d-37bf-4f39-a074-573c685d8afb",
   "metadata": {
    "jp-MarkdownHeadingCollapsed": true,
    "tags": []
   },
   "source": [
    "### Score the GNB Classifier"
   ]
  },
  {
   "cell_type": "code",
   "execution_count": 21,
   "id": "012b0c5f-ff4b-4b59-9d09-b9ff56f780b2",
   "metadata": {},
   "outputs": [
    {
     "name": "stdout",
     "output_type": "stream",
     "text": [
      "Best Params:\n",
      "{'pca__apply_PCA': True, 'pca__n_components': 0.1}\n"
     ]
    }
   ],
   "source": [
    "# Get best model\n",
    "model = gscv_result.best_estimator_\n",
    "model.fit(X_train, y_train)\n",
    "\n",
    "# Parameters\n",
    "print(\"Best Params:\")\n",
    "print(gscv_result.best_params_)\n",
    "\n",
    "# Predict\n",
    "y_pred_proba = model.predict_proba(X_test)[:, 1]\n",
    "y_pred = model.predict(X_test)\n",
    "\n",
    "# Score\n",
    "gnb_data = []\n",
    "gnb_data.append(roc_auc_score(y_test, y_pred_proba))\n",
    "gnb_data.append(auprc(y_test, y_pred_proba))\n",
    "gnb_data.append(precision_score(y_test, y_pred))\n",
    "gnb_data.append(recall_score(y_test, y_pred))\n",
    "gnb_data.append(f1_score(y_test, y_pred))"
   ]
  },
  {
   "cell_type": "code",
   "execution_count": 12,
   "id": "47d46a9d-12ad-4b1c-8e41-490beddb36fa",
   "metadata": {},
   "outputs": [
    {
     "name": "stdout",
     "output_type": "stream",
     "text": [
      "Fitting 3 folds for each of 24 candidates, totalling 72 fits\n"
     ]
    }
   ],
   "source": [
    "# Define the grid search object\n",
    "gscv = GridSearchCV(\n",
    "    estimator=gnb_clf,\n",
    "    param_grid=param_grid,\n",
    "    cv=3,\n",
    "    n_jobs=-1,\n",
    "    verbose=1,\n",
    "    scoring='roc_auc', \n",
    ")\n",
    "\n",
    "# Search\n",
    "gscv_result = gscv.fit(X_train, y_train)"
   ]
  },
  {
   "cell_type": "code",
   "execution_count": 13,
   "id": "d1bfc6ba-85cf-486d-8552-c3695b1ff553",
   "metadata": {},
   "outputs": [
    {
     "name": "stdout",
     "output_type": "stream",
     "text": [
      "Best Params:\n",
      "{'pca__apply_PCA': False, 'pca__n_components': 0.1}\n"
     ]
    }
   ],
   "source": [
    "# Get best model\n",
    "model = gscv_result.best_estimator_\n",
    "model.fit(X_train, y_train)\n",
    "\n",
    "# Parameters\n",
    "print(\"Best Params:\")\n",
    "print(gscv_result.best_params_)\n",
    "\n",
    "# Predict\n",
    "y_pred_proba = model.predict_proba(X_test)[:, 1]\n",
    "y_pred = model.predict(X_test)\n",
    "\n",
    "# Score\n",
    "gnb_roc_data = []\n",
    "gnb_roc_data.append(roc_auc_score(y_test, y_pred_proba))\n",
    "gnb_roc_data.append(auprc(y_test, y_pred_proba))\n",
    "gnb_roc_data.append(precision_score(y_test, y_pred))\n",
    "gnb_roc_data.append(recall_score(y_test, y_pred))\n",
    "gnb_roc_data.append(f1_score(y_test, y_pred))"
   ]
  },
  {
   "cell_type": "markdown",
   "id": "f7fdc20c-c4fb-4d99-8910-799071006801",
   "metadata": {
    "tags": []
   },
   "source": [
    "# Random Forest"
   ]
  },
  {
   "cell_type": "markdown",
   "id": "5c4708da-f7ae-461d-89de-55d7aa6c50fd",
   "metadata": {
    "jp-MarkdownHeadingCollapsed": true,
    "tags": []
   },
   "source": [
    "### Define the RF and its Parameter Space"
   ]
  },
  {
   "cell_type": "code",
   "execution_count": 22,
   "id": "dc4db281-26dd-4286-8b99-6e5fb457ec9f",
   "metadata": {},
   "outputs": [],
   "source": [
    "from imblearn.ensemble import BalancedRandomForestClassifier\n",
    "\n",
    "# Define a parameter space to search\n",
    "param_grid = {\n",
    "    \"pca__apply_PCA\": [True, False],\n",
    "    \"pca__n_components\": [0.1, 0.5, 0.9, 0.95, 0.99, None],\n",
    "    \"rf__n_estimators\" : [100, 300, 500, 1000],\n",
    "}\n",
    "\n",
    "# Define the model to be tuned\n",
    "rf_clf = Pipeline([\n",
    "    (\"scaler\", StandardScaler()),\n",
    "    (\"pca\", ConfounderPCA(confcols=np.arange(2, X.shape[1]))),\n",
    "    (\"rf\", BalancedRandomForestClassifier()),\n",
    "])"
   ]
  },
  {
   "cell_type": "markdown",
   "id": "30a691cb-93f7-473d-bc75-d44bc44a2d7f",
   "metadata": {
    "jp-MarkdownHeadingCollapsed": true,
    "tags": []
   },
   "source": [
    "### Optimize the RF"
   ]
  },
  {
   "cell_type": "code",
   "execution_count": 23,
   "id": "bce1c822-5be9-4b34-8af7-72595684976f",
   "metadata": {},
   "outputs": [
    {
     "name": "stdout",
     "output_type": "stream",
     "text": [
      "Fitting 3 folds for each of 48 candidates, totalling 144 fits\n"
     ]
    },
    {
     "ename": "KeyboardInterrupt",
     "evalue": "",
     "output_type": "error",
     "traceback": [
      "\u001b[0;31m---------------------------------------------------------------------------\u001b[0m",
      "\u001b[0;31mKeyboardInterrupt\u001b[0m                         Traceback (most recent call last)",
      "\u001b[0;32m/var/folders/tr/8cjwzs2s60z4cw56zq2ptky80000gn/T/ipykernel_5065/4067293535.py\u001b[0m in \u001b[0;36m<module>\u001b[0;34m\u001b[0m\n\u001b[1;32m     10\u001b[0m \u001b[0;34m\u001b[0m\u001b[0m\n\u001b[1;32m     11\u001b[0m \u001b[0;31m# Search\u001b[0m\u001b[0;34m\u001b[0m\u001b[0;34m\u001b[0m\u001b[0;34m\u001b[0m\u001b[0m\n\u001b[0;32m---> 12\u001b[0;31m \u001b[0mgscv_result\u001b[0m \u001b[0;34m=\u001b[0m \u001b[0mgscv\u001b[0m\u001b[0;34m.\u001b[0m\u001b[0mfit\u001b[0m\u001b[0;34m(\u001b[0m\u001b[0mX_train\u001b[0m\u001b[0;34m,\u001b[0m \u001b[0my_train\u001b[0m\u001b[0;34m)\u001b[0m\u001b[0;34m\u001b[0m\u001b[0;34m\u001b[0m\u001b[0m\n\u001b[0m",
      "\u001b[0;32m/Applications/anaconda3/envs/ml_venv/lib/python3.7/site-packages/sklearn/model_selection/_search.py\u001b[0m in \u001b[0;36mfit\u001b[0;34m(self, X, y, groups, **fit_params)\u001b[0m\n\u001b[1;32m    889\u001b[0m                 \u001b[0;32mreturn\u001b[0m \u001b[0mresults\u001b[0m\u001b[0;34m\u001b[0m\u001b[0;34m\u001b[0m\u001b[0m\n\u001b[1;32m    890\u001b[0m \u001b[0;34m\u001b[0m\u001b[0m\n\u001b[0;32m--> 891\u001b[0;31m             \u001b[0mself\u001b[0m\u001b[0;34m.\u001b[0m\u001b[0m_run_search\u001b[0m\u001b[0;34m(\u001b[0m\u001b[0mevaluate_candidates\u001b[0m\u001b[0;34m)\u001b[0m\u001b[0;34m\u001b[0m\u001b[0;34m\u001b[0m\u001b[0m\n\u001b[0m\u001b[1;32m    892\u001b[0m \u001b[0;34m\u001b[0m\u001b[0m\n\u001b[1;32m    893\u001b[0m             \u001b[0;31m# multimetric is determined here because in the case of a callable\u001b[0m\u001b[0;34m\u001b[0m\u001b[0;34m\u001b[0m\u001b[0;34m\u001b[0m\u001b[0m\n",
      "\u001b[0;32m/Applications/anaconda3/envs/ml_venv/lib/python3.7/site-packages/sklearn/model_selection/_search.py\u001b[0m in \u001b[0;36m_run_search\u001b[0;34m(self, evaluate_candidates)\u001b[0m\n\u001b[1;32m   1390\u001b[0m     \u001b[0;32mdef\u001b[0m \u001b[0m_run_search\u001b[0m\u001b[0;34m(\u001b[0m\u001b[0mself\u001b[0m\u001b[0;34m,\u001b[0m \u001b[0mevaluate_candidates\u001b[0m\u001b[0;34m)\u001b[0m\u001b[0;34m:\u001b[0m\u001b[0;34m\u001b[0m\u001b[0;34m\u001b[0m\u001b[0m\n\u001b[1;32m   1391\u001b[0m         \u001b[0;34m\"\"\"Search all candidates in param_grid\"\"\"\u001b[0m\u001b[0;34m\u001b[0m\u001b[0;34m\u001b[0m\u001b[0m\n\u001b[0;32m-> 1392\u001b[0;31m         \u001b[0mevaluate_candidates\u001b[0m\u001b[0;34m(\u001b[0m\u001b[0mParameterGrid\u001b[0m\u001b[0;34m(\u001b[0m\u001b[0mself\u001b[0m\u001b[0;34m.\u001b[0m\u001b[0mparam_grid\u001b[0m\u001b[0;34m)\u001b[0m\u001b[0;34m)\u001b[0m\u001b[0;34m\u001b[0m\u001b[0;34m\u001b[0m\u001b[0m\n\u001b[0m\u001b[1;32m   1393\u001b[0m \u001b[0;34m\u001b[0m\u001b[0m\n\u001b[1;32m   1394\u001b[0m \u001b[0;34m\u001b[0m\u001b[0m\n",
      "\u001b[0;32m/Applications/anaconda3/envs/ml_venv/lib/python3.7/site-packages/sklearn/model_selection/_search.py\u001b[0m in \u001b[0;36mevaluate_candidates\u001b[0;34m(candidate_params, cv, more_results)\u001b[0m\n\u001b[1;32m    849\u001b[0m                     )\n\u001b[1;32m    850\u001b[0m                     for (cand_idx, parameters), (split_idx, (train, test)) in product(\n\u001b[0;32m--> 851\u001b[0;31m                         \u001b[0menumerate\u001b[0m\u001b[0;34m(\u001b[0m\u001b[0mcandidate_params\u001b[0m\u001b[0;34m)\u001b[0m\u001b[0;34m,\u001b[0m \u001b[0menumerate\u001b[0m\u001b[0;34m(\u001b[0m\u001b[0mcv\u001b[0m\u001b[0;34m.\u001b[0m\u001b[0msplit\u001b[0m\u001b[0;34m(\u001b[0m\u001b[0mX\u001b[0m\u001b[0;34m,\u001b[0m \u001b[0my\u001b[0m\u001b[0;34m,\u001b[0m \u001b[0mgroups\u001b[0m\u001b[0;34m)\u001b[0m\u001b[0;34m)\u001b[0m\u001b[0;34m\u001b[0m\u001b[0;34m\u001b[0m\u001b[0m\n\u001b[0m\u001b[1;32m    852\u001b[0m                     )\n\u001b[1;32m    853\u001b[0m                 )\n",
      "\u001b[0;32m/Applications/anaconda3/envs/ml_venv/lib/python3.7/site-packages/joblib/parallel.py\u001b[0m in \u001b[0;36m__call__\u001b[0;34m(self, iterable)\u001b[0m\n\u001b[1;32m   1054\u001b[0m \u001b[0;34m\u001b[0m\u001b[0m\n\u001b[1;32m   1055\u001b[0m             \u001b[0;32mwith\u001b[0m \u001b[0mself\u001b[0m\u001b[0;34m.\u001b[0m\u001b[0m_backend\u001b[0m\u001b[0;34m.\u001b[0m\u001b[0mretrieval_context\u001b[0m\u001b[0;34m(\u001b[0m\u001b[0;34m)\u001b[0m\u001b[0;34m:\u001b[0m\u001b[0;34m\u001b[0m\u001b[0;34m\u001b[0m\u001b[0m\n\u001b[0;32m-> 1056\u001b[0;31m                 \u001b[0mself\u001b[0m\u001b[0;34m.\u001b[0m\u001b[0mretrieve\u001b[0m\u001b[0;34m(\u001b[0m\u001b[0;34m)\u001b[0m\u001b[0;34m\u001b[0m\u001b[0;34m\u001b[0m\u001b[0m\n\u001b[0m\u001b[1;32m   1057\u001b[0m             \u001b[0;31m# Make sure that we get a last message telling us we are done\u001b[0m\u001b[0;34m\u001b[0m\u001b[0;34m\u001b[0m\u001b[0;34m\u001b[0m\u001b[0m\n\u001b[1;32m   1058\u001b[0m             \u001b[0melapsed_time\u001b[0m \u001b[0;34m=\u001b[0m \u001b[0mtime\u001b[0m\u001b[0;34m.\u001b[0m\u001b[0mtime\u001b[0m\u001b[0;34m(\u001b[0m\u001b[0;34m)\u001b[0m \u001b[0;34m-\u001b[0m \u001b[0mself\u001b[0m\u001b[0;34m.\u001b[0m\u001b[0m_start_time\u001b[0m\u001b[0;34m\u001b[0m\u001b[0;34m\u001b[0m\u001b[0m\n",
      "\u001b[0;32m/Applications/anaconda3/envs/ml_venv/lib/python3.7/site-packages/joblib/parallel.py\u001b[0m in \u001b[0;36mretrieve\u001b[0;34m(self)\u001b[0m\n\u001b[1;32m    933\u001b[0m             \u001b[0;32mtry\u001b[0m\u001b[0;34m:\u001b[0m\u001b[0;34m\u001b[0m\u001b[0;34m\u001b[0m\u001b[0m\n\u001b[1;32m    934\u001b[0m                 \u001b[0;32mif\u001b[0m \u001b[0mgetattr\u001b[0m\u001b[0;34m(\u001b[0m\u001b[0mself\u001b[0m\u001b[0;34m.\u001b[0m\u001b[0m_backend\u001b[0m\u001b[0;34m,\u001b[0m \u001b[0;34m'supports_timeout'\u001b[0m\u001b[0;34m,\u001b[0m \u001b[0;32mFalse\u001b[0m\u001b[0;34m)\u001b[0m\u001b[0;34m:\u001b[0m\u001b[0;34m\u001b[0m\u001b[0;34m\u001b[0m\u001b[0m\n\u001b[0;32m--> 935\u001b[0;31m                     \u001b[0mself\u001b[0m\u001b[0;34m.\u001b[0m\u001b[0m_output\u001b[0m\u001b[0;34m.\u001b[0m\u001b[0mextend\u001b[0m\u001b[0;34m(\u001b[0m\u001b[0mjob\u001b[0m\u001b[0;34m.\u001b[0m\u001b[0mget\u001b[0m\u001b[0;34m(\u001b[0m\u001b[0mtimeout\u001b[0m\u001b[0;34m=\u001b[0m\u001b[0mself\u001b[0m\u001b[0;34m.\u001b[0m\u001b[0mtimeout\u001b[0m\u001b[0;34m)\u001b[0m\u001b[0;34m)\u001b[0m\u001b[0;34m\u001b[0m\u001b[0;34m\u001b[0m\u001b[0m\n\u001b[0m\u001b[1;32m    936\u001b[0m                 \u001b[0;32melse\u001b[0m\u001b[0;34m:\u001b[0m\u001b[0;34m\u001b[0m\u001b[0;34m\u001b[0m\u001b[0m\n\u001b[1;32m    937\u001b[0m                     \u001b[0mself\u001b[0m\u001b[0;34m.\u001b[0m\u001b[0m_output\u001b[0m\u001b[0;34m.\u001b[0m\u001b[0mextend\u001b[0m\u001b[0;34m(\u001b[0m\u001b[0mjob\u001b[0m\u001b[0;34m.\u001b[0m\u001b[0mget\u001b[0m\u001b[0;34m(\u001b[0m\u001b[0;34m)\u001b[0m\u001b[0;34m)\u001b[0m\u001b[0;34m\u001b[0m\u001b[0;34m\u001b[0m\u001b[0m\n",
      "\u001b[0;32m/Applications/anaconda3/envs/ml_venv/lib/python3.7/site-packages/joblib/_parallel_backends.py\u001b[0m in \u001b[0;36mwrap_future_result\u001b[0;34m(future, timeout)\u001b[0m\n\u001b[1;32m    540\u001b[0m         AsyncResults.get from multiprocessing.\"\"\"\n\u001b[1;32m    541\u001b[0m         \u001b[0;32mtry\u001b[0m\u001b[0;34m:\u001b[0m\u001b[0;34m\u001b[0m\u001b[0;34m\u001b[0m\u001b[0m\n\u001b[0;32m--> 542\u001b[0;31m             \u001b[0;32mreturn\u001b[0m \u001b[0mfuture\u001b[0m\u001b[0;34m.\u001b[0m\u001b[0mresult\u001b[0m\u001b[0;34m(\u001b[0m\u001b[0mtimeout\u001b[0m\u001b[0;34m=\u001b[0m\u001b[0mtimeout\u001b[0m\u001b[0;34m)\u001b[0m\u001b[0;34m\u001b[0m\u001b[0;34m\u001b[0m\u001b[0m\n\u001b[0m\u001b[1;32m    543\u001b[0m         \u001b[0;32mexcept\u001b[0m \u001b[0mCfTimeoutError\u001b[0m \u001b[0;32mas\u001b[0m \u001b[0me\u001b[0m\u001b[0;34m:\u001b[0m\u001b[0;34m\u001b[0m\u001b[0;34m\u001b[0m\u001b[0m\n\u001b[1;32m    544\u001b[0m             \u001b[0;32mraise\u001b[0m \u001b[0mTimeoutError\u001b[0m \u001b[0;32mfrom\u001b[0m \u001b[0me\u001b[0m\u001b[0;34m\u001b[0m\u001b[0;34m\u001b[0m\u001b[0m\n",
      "\u001b[0;32m/Applications/anaconda3/envs/ml_venv/lib/python3.7/concurrent/futures/_base.py\u001b[0m in \u001b[0;36mresult\u001b[0;34m(self, timeout)\u001b[0m\n\u001b[1;32m    428\u001b[0m                 \u001b[0;32mreturn\u001b[0m \u001b[0mself\u001b[0m\u001b[0;34m.\u001b[0m\u001b[0m__get_result\u001b[0m\u001b[0;34m(\u001b[0m\u001b[0;34m)\u001b[0m\u001b[0;34m\u001b[0m\u001b[0;34m\u001b[0m\u001b[0m\n\u001b[1;32m    429\u001b[0m \u001b[0;34m\u001b[0m\u001b[0m\n\u001b[0;32m--> 430\u001b[0;31m             \u001b[0mself\u001b[0m\u001b[0;34m.\u001b[0m\u001b[0m_condition\u001b[0m\u001b[0;34m.\u001b[0m\u001b[0mwait\u001b[0m\u001b[0;34m(\u001b[0m\u001b[0mtimeout\u001b[0m\u001b[0;34m)\u001b[0m\u001b[0;34m\u001b[0m\u001b[0;34m\u001b[0m\u001b[0m\n\u001b[0m\u001b[1;32m    431\u001b[0m \u001b[0;34m\u001b[0m\u001b[0m\n\u001b[1;32m    432\u001b[0m             \u001b[0;32mif\u001b[0m \u001b[0mself\u001b[0m\u001b[0;34m.\u001b[0m\u001b[0m_state\u001b[0m \u001b[0;32min\u001b[0m \u001b[0;34m[\u001b[0m\u001b[0mCANCELLED\u001b[0m\u001b[0;34m,\u001b[0m \u001b[0mCANCELLED_AND_NOTIFIED\u001b[0m\u001b[0;34m]\u001b[0m\u001b[0;34m:\u001b[0m\u001b[0;34m\u001b[0m\u001b[0;34m\u001b[0m\u001b[0m\n",
      "\u001b[0;32m/Applications/anaconda3/envs/ml_venv/lib/python3.7/threading.py\u001b[0m in \u001b[0;36mwait\u001b[0;34m(self, timeout)\u001b[0m\n\u001b[1;32m    294\u001b[0m         \u001b[0;32mtry\u001b[0m\u001b[0;34m:\u001b[0m    \u001b[0;31m# restore state no matter what (e.g., KeyboardInterrupt)\u001b[0m\u001b[0;34m\u001b[0m\u001b[0;34m\u001b[0m\u001b[0m\n\u001b[1;32m    295\u001b[0m             \u001b[0;32mif\u001b[0m \u001b[0mtimeout\u001b[0m \u001b[0;32mis\u001b[0m \u001b[0;32mNone\u001b[0m\u001b[0;34m:\u001b[0m\u001b[0;34m\u001b[0m\u001b[0;34m\u001b[0m\u001b[0m\n\u001b[0;32m--> 296\u001b[0;31m                 \u001b[0mwaiter\u001b[0m\u001b[0;34m.\u001b[0m\u001b[0macquire\u001b[0m\u001b[0;34m(\u001b[0m\u001b[0;34m)\u001b[0m\u001b[0;34m\u001b[0m\u001b[0;34m\u001b[0m\u001b[0m\n\u001b[0m\u001b[1;32m    297\u001b[0m                 \u001b[0mgotit\u001b[0m \u001b[0;34m=\u001b[0m \u001b[0;32mTrue\u001b[0m\u001b[0;34m\u001b[0m\u001b[0;34m\u001b[0m\u001b[0m\n\u001b[1;32m    298\u001b[0m             \u001b[0;32melse\u001b[0m\u001b[0;34m:\u001b[0m\u001b[0;34m\u001b[0m\u001b[0;34m\u001b[0m\u001b[0m\n",
      "\u001b[0;31mKeyboardInterrupt\u001b[0m: "
     ]
    }
   ],
   "source": [
    "# Define the grid search object\n",
    "gscv = GridSearchCV(\n",
    "    estimator=rf_clf,\n",
    "    param_grid=param_grid,\n",
    "    cv=3,\n",
    "    n_jobs=-1,\n",
    "    verbose=1,\n",
    "    scoring=make_scorer(auprc, needs_proba=True), \n",
    ")\n",
    "\n",
    "# Search\n",
    "gscv_result = gscv.fit(X_train, y_train)"
   ]
  },
  {
   "cell_type": "code",
   "execution_count": null,
   "id": "d670c664-6ec6-4669-ad5d-361c25f15bd5",
   "metadata": {},
   "outputs": [],
   "source": [
    "# Get best model\n",
    "model = gscv_result.best_estimator_\n",
    "model.fit(X_train, y_train)\n",
    "\n",
    "# Parameters\n",
    "print(\"Best Params:\")\n",
    "print(gscv_result.best_params_)\n",
    "\n",
    "# Predict\n",
    "y_pred_proba = model.predict_proba(X_test)[:, 1]\n",
    "y_pred = model.predict(X_test)\n",
    "\n",
    "# Score\n",
    "rf_data = []\n",
    "rf_data.append(roc_auc_score(y_test, y_pred_proba))\n",
    "rf_data.append(auprc(y_test, y_pred_proba))\n",
    "rf_data.append(precision_score(y_test, y_pred))\n",
    "rf_data.append(recall_score(y_test, y_pred))\n",
    "rf_data.append(f1_score(y_test, y_pred))"
   ]
  },
  {
   "cell_type": "markdown",
   "id": "122e1385-7d09-4b8d-b8b7-9f1ca9ba64a5",
   "metadata": {
    "tags": []
   },
   "source": [
    "# Results"
   ]
  },
  {
   "cell_type": "code",
   "execution_count": 27,
   "id": "24561642-6196-4e30-acd6-340936d1e483",
   "metadata": {},
   "outputs": [
    {
     "data": {
      "text/html": [
       "<div>\n",
       "<style scoped>\n",
       "    .dataframe tbody tr th:only-of-type {\n",
       "        vertical-align: middle;\n",
       "    }\n",
       "\n",
       "    .dataframe tbody tr th {\n",
       "        vertical-align: top;\n",
       "    }\n",
       "\n",
       "    .dataframe thead th {\n",
       "        text-align: right;\n",
       "    }\n",
       "</style>\n",
       "<table border=\"1\" class=\"dataframe\">\n",
       "  <thead>\n",
       "    <tr style=\"text-align: right;\">\n",
       "      <th></th>\n",
       "      <th>roc_auc</th>\n",
       "      <th>pr_auc</th>\n",
       "      <th>precision</th>\n",
       "      <th>recall</th>\n",
       "      <th>f1</th>\n",
       "    </tr>\n",
       "  </thead>\n",
       "  <tbody>\n",
       "    <tr>\n",
       "      <th>Logistic Regression</th>\n",
       "      <td>0.659026</td>\n",
       "      <td>0.376416</td>\n",
       "      <td>0.311286</td>\n",
       "      <td>0.608541</td>\n",
       "      <td>0.411883</td>\n",
       "    </tr>\n",
       "    <tr>\n",
       "      <th>Gaussian Naive Bayes</th>\n",
       "      <td>0.623224</td>\n",
       "      <td>0.347424</td>\n",
       "      <td>0.463519</td>\n",
       "      <td>0.128114</td>\n",
       "      <td>0.200743</td>\n",
       "    </tr>\n",
       "  </tbody>\n",
       "</table>\n",
       "</div>"
      ],
      "text/plain": [
       "                       roc_auc    pr_auc  precision    recall        f1\n",
       "Logistic Regression   0.659026  0.376416   0.311286  0.608541  0.411883\n",
       "Gaussian Naive Bayes  0.623224  0.347424   0.463519  0.128114  0.200743"
      ]
     },
     "execution_count": 27,
     "metadata": {},
     "output_type": "execute_result"
    }
   ],
   "source": [
    "lr_data\n",
    "gnb_data\n",
    "# rf_data\n",
    "\n",
    "pd.DataFrame([lr_data, gnb_data,], \n",
    "             index=[\"Logistic Regression\", \"Gaussian Naive Bayes\", ],\n",
    "             columns=[\"roc_auc\", \"pr_auc\", \"precision\", \"recall\", \"f1\"])"
   ]
  },
  {
   "cell_type": "code",
   "execution_count": null,
   "id": "64b5bd83-d058-4268-98c5-906d837b15d2",
   "metadata": {},
   "outputs": [],
   "source": []
  }
 ],
 "metadata": {
  "kernelspec": {
   "display_name": "Python 3 (ipykernel)",
   "language": "python",
   "name": "python3"
  },
  "language_info": {
   "codemirror_mode": {
    "name": "ipython",
    "version": 3
   },
   "file_extension": ".py",
   "mimetype": "text/x-python",
   "name": "python",
   "nbconvert_exporter": "python",
   "pygments_lexer": "ipython3",
   "version": "3.8.13"
  }
 },
 "nbformat": 4,
 "nbformat_minor": 5
}
