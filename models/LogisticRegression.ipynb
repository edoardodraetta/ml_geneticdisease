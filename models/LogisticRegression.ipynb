{
 "cells": [
  {
   "cell_type": "code",
   "execution_count": 1,
   "id": "881080d3-8b18-4a26-ad7e-ad201258def1",
   "metadata": {},
   "outputs": [],
   "source": [
    "import matplotlib.pyplot as plt\n",
    "import numpy as np\n",
    "import pandas as pd\n",
    "import seaborn as sns\n",
    "\n",
    "pd.set_option(\"display.max_columns\", 119)\n",
    "\n",
    "from sklearn.decomposition import PCA\n",
    "from sklearn.impute import SimpleImputer\n",
    "from sklearn.linear_model import LogisticRegression\n",
    "from sklearn.metrics import accuracy_score, roc_auc_score\n",
    "from sklearn.model_selection import train_test_split\n",
    "from sklearn.pipeline import Pipeline\n",
    "from sklearn.preprocessing import StandardScaler"
   ]
  },
  {
   "cell_type": "code",
   "execution_count": 5,
   "id": "ada112ad-9bf3-4552-9ca8-63628acd57d6",
   "metadata": {},
   "outputs": [],
   "source": [
    "def fetch_data(drop_some=True):\n",
    "\n",
    "    df = pd.read_csv(\"../data/abnormal_writeout.data.csv\")\n",
    "\n",
    "    if drop_some:\n",
    "        # trascurare da ACC a UVM\n",
    "        start_drop = df.columns.get_loc(\"ACC\")\n",
    "        end_drop = df.columns.get_loc(\"UVM\")\n",
    "        cols = np.arange(start_drop, end_drop + 1)\n",
    "        df.drop(df.columns[cols], axis=1, inplace=True)\n",
    "\n",
    "        # trascurare old_phylo_factor e la prima colonna\n",
    "        df.drop(\"oldest_phylostratum_factor\", axis=1, inplace=True)\n",
    "        df.drop(\"Unnamed: 0\", axis=1, inplace=True)\n",
    "\n",
    "    return df"
   ]
  },
  {
   "cell_type": "code",
   "execution_count": 6,
   "id": "8e035df6-f7d4-492b-8cd4-29f9ffc926de",
   "metadata": {},
   "outputs": [],
   "source": [
    "def separate_data(df):\n",
    "    resp = df[\"response\"]\n",
    "    occ = df[\"occ_total_sum\"]\n",
    "    age = df[\"oldest_phylostratum\"]\n",
    "    conf = df.drop(labels=[\"response\", \"occ_total_sum\", \"oldest_phylostratum\"], axis=1)\n",
    "    return occ, age, conf, resp"
   ]
  },
  {
   "cell_type": "code",
   "execution_count": 8,
   "id": "52655c2b-35a7-4f04-aa49-a03661c0c33c",
   "metadata": {},
   "outputs": [],
   "source": [
    "df = fetch_data()\n",
    "df.dropna(inplace=True)\n",
    "X_occ, X_age, X_conf, Y = separate_data(df)"
   ]
  },
  {
   "cell_type": "code",
   "execution_count": 11,
   "id": "5984e1a9-95c1-49e4-a9e5-d334720b7df8",
   "metadata": {},
   "outputs": [
    {
     "name": "stdout",
     "output_type": "stream",
     "text": [
      "Using 47 principal components.\n"
     ]
    },
    {
     "data": {
      "image/png": "[encoded data removed]",
      "text/plain": [
       "<Figure size 432x288 with 2 Axes>"
      ]
     },
     "metadata": {
      "needs_background": "light"
     },
     "output_type": "display_data"
    }
   ],
   "source": [
    "# Take principal components up to 95% explained variance\n",
    "pca_test = PCA() \n",
    "pca_test.fit(X_conf) # confounding Features\n",
    "cumsum = np.cumsum(pca_test.explained_variance_ratio_)\n",
    "d = np.argmax(cumsum >= 0.95) + 1\n",
    "\n",
    "# Apply PCA with d components\n",
    "pca_apply = PCA(n_components=d)\n",
    "X_conf_PCA = pca_apply.fit_transform(X_conf) \n",
    "\n",
    "print(\"Using {} principal components.\".format(d))\n",
    "sns.heatmap(pd.DataFrame(X_conf_PCA).corr())\n",
    "plt.show()"
   ]
  },
  {
   "cell_type": "code",
   "execution_count": null,
   "id": "103b1632-d1cd-4d93-8e95-c87a45b0e7d5",
   "metadata": {},
   "outputs": [],
   "source": []
  }
 ],
 "metadata": {
  "kernelspec": {
   "display_name": "Python [conda env:ml_venv]",
   "language": "python",
   "name": "conda-env-ml_venv-py"
  },
  "language_info": {
   "codemirror_mode": {
    "name": "ipython",
    "version": 3
   },
   "file_extension": ".py",
   "mimetype": "text/x-python",
   "name": "python",
   "nbconvert_exporter": "python",
   "pygments_lexer": "ipython3",
   "version": "3.7.7"
  }
 },
 "nbformat": 4,
 "nbformat_minor": 5
}
