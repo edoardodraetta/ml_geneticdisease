{
 "cells": [
  {
   "cell_type": "markdown",
   "id": "146d138e-5e3c-4be0-a9fa-e45167b7e174",
   "metadata": {},
   "source": [
    "# Logistic Regression\n",
    "\n",
    "This notebook contains assessment of a logistic regressor. \n",
    "\n",
    "The data is obtained using 85 columns of `abnormal_writeout.data.csv`. \n",
    "\n",
    "Most of these 85 columns are highly colinear \"confounder\" variables against which we are comparing the `occ_total_sum` (total mutations of the gene across all cancers) and `oldest_phylostratum` (evolutionary age of the gene) variables. We apply PCA to the confounder variables and keep PCs up to 95% explained variance."
   ]
  },
  {
   "cell_type": "code",
   "execution_count": 1,
   "id": "00209fab-a524-44b8-b766-63de81520f2b",
   "metadata": {},
   "outputs": [],
   "source": [
    "import matplotlib.pyplot as plt\n",
    "import numpy as np\n",
    "import pandas as pd\n",
    "import seaborn as sns\n",
    "\n",
    "pd.set_option(\"display.max_columns\", 85)"
   ]
  },
  {
   "cell_type": "code",
   "execution_count": 2,
   "id": "822cac52-04b1-4dbb-83ab-818a7a93c285",
   "metadata": {},
   "outputs": [],
   "source": [
    "def fetch_data(drop_some=True):\n",
    "\n",
    "    df = pd.read_csv(\"../data/abnormal_writeout.data.csv\")\n",
    "\n",
    "    if drop_some:\n",
    "        # trascurare da ACC a UVM\n",
    "        start_drop = df.columns.get_loc(\"ACC\")\n",
    "        end_drop = df.columns.get_loc(\"UVM\")\n",
    "        cols = np.arange(start_drop, end_drop + 1)\n",
    "        df.drop(df.columns[cols], axis=1, inplace=True)\n",
    "\n",
    "        # trascurare old_phylo_factor e la prima colonna\n",
    "        df.drop(\"oldest_phylostratum_factor\", axis=1, inplace=True)\n",
    "        df.drop(\"Unnamed: 0\", axis=1, inplace=True)\n",
    "\n",
    "    return df\n",
    "\n",
    "\n",
    "def separate_data(df):\n",
    "    resp = df[\"response\"]\n",
    "    occ = df[\"occ_total_sum\"]\n",
    "    age = df[\"oldest_phylostratum\"]\n",
    "    conf = df.drop(labels=[\"response\", \"occ_total_sum\", \"oldest_phylostratum\"], axis=1)\n",
    "    return occ, age, conf, resp\n",
    "\n",
    "\n",
    "def get_PCA(X, expl_var=0.95, plot=False):\n",
    "\n",
    "    pca_test = PCA()\n",
    "    pca_test.fit(X)\n",
    "    cumsum = np.cumsum(pca_test.explained_variance_ratio_)\n",
    "    d = np.argmax(cumsum >= expl_var) + 1\n",
    "\n",
    "    # Apply PCA with d components\n",
    "    pca_apply = PCA(n_components=d)\n",
    "    X_PCA = pca_apply.fit_transform(X)\n",
    "\n",
    "    print(\"Using {} principal components.\".format(d))\n",
    "    if plot == True:\n",
    "        sns.heatmap(pd.DataFrame(X_PCA).corr())\n",
    "        plt.show()\n",
    "\n",
    "    return X_PCA"
   ]
  },
  {
   "cell_type": "code",
   "execution_count": 3,
   "id": "1ff60b68-f2eb-473f-a544-a8abb709f645",
   "metadata": {},
   "outputs": [
    {
     "name": "stdout",
     "output_type": "stream",
     "text": [
      "Using 47 principal components.\n",
      "Using a logistic regressor.\n"
     ]
    }
   ],
   "source": [
    "from sklearn.decomposition import PCA\n",
    "from sklearn.linear_model import LogisticRegression\n",
    "from sklearn.model_selection import train_test_split\n",
    "\n",
    "# Data\n",
    "df = fetch_data()  # Get\n",
    "df.dropna(inplace=True)  # Clean\n",
    "X_occ, X_age, X_conf, Y = separate_data(df)  # Separate\n",
    "X_conf_pca = get_PCA(X_conf)  # PCA\n",
    "\n",
    "# All features, confounders with PCA\n",
    "X = np.c_[X_occ, X_age,  X_conf_pca]\n",
    "x_train, x_test, y_train, y_test = train_test_split(X, Y, test_size=0.2, random_state=42)\n",
    "\n",
    "# model\n",
    "logreg = LogisticRegression(max_iter=500)\n",
    "logreg.fit(x_train, y_train)\n",
    "print(\"Using a logistic regressor.\")"
   ]
  },
  {
   "cell_type": "code",
   "execution_count": 4,
   "id": "518f29c5-09ba-4945-8965-2aadcbc360b3",
   "metadata": {},
   "outputs": [
    {
     "name": "stdout",
     "output_type": "stream",
     "text": [
      "Confusion matrix:\n",
      " [[11110   135]\n",
      " [ 3116   175]]\n",
      "\n",
      "Precision: 0.5645161290322581\n",
      "Recall: 0.05317532664843513\n",
      "f1-score: 0.09719522354901415\n",
      "\n",
      "AUC: 0.6529248180794649\n"
     ]
    }
   ],
   "source": [
    "from sklearn.model_selection import cross_val_predict, cross_val_score\n",
    "from sklearn.metrics import (\n",
    "    accuracy_score,\n",
    "    confusion_matrix,\n",
    "    f1_score,\n",
    "    precision_recall_curve,\n",
    "    precision_score,\n",
    "    recall_score,\n",
    "    roc_auc_score,\n",
    ")\n",
    "\n",
    "# scores\n",
    "\n",
    "cv_pred = cross_val_predict(logreg, x_train, y_train, cv=5)\n",
    "pred = logreg.predict_log_proba(x_test)\n",
    "\n",
    "# Confusion matrix\n",
    "print(\"Confusion matrix:\\n\", confusion_matrix(y_train, cv_pred))\n",
    "\n",
    "# Precision-Recall\n",
    "print(\"\\nPrecision:\", precision_score(y_train, cv_pred))\n",
    "print(\"Recall:\", recall_score(y_train, cv_pred))\n",
    "print(\"f1-score:\", f1_score(y_train, cv_pred))\n",
    "\n",
    "# AUC\n",
    "pred = logreg.predict_log_proba(x_test)\n",
    "print(\"\\nAUC:\", roc_auc_score(y_test, pred[:, 1]))"
   ]
  },
  {
   "cell_type": "code",
   "execution_count": 5,
   "id": "c3e59231-006c-4435-82cb-5348d521414d",
   "metadata": {},
   "outputs": [],
   "source": [
    "def plot_precision_recall_vs_threshold(precisions, recalls, thresholds):\n",
    "    plt.plot(thresholds, precisions[:-1], \"b--\", label=\"Precision\")\n",
    "    plt.plot(thresholds, recalls[:-1], \"g-\", label=\"Recall\")\n",
    "    plt.xlabel(\"Threshold\")\n",
    "    plt.legend(loc=\"upper left\")\n",
    "    plt.ylim([0, 1])"
   ]
  },
  {
   "cell_type": "code",
   "execution_count": 18,
   "id": "133e4bee-41ff-4f84-8c12-4a699f3027a4",
   "metadata": {},
   "outputs": [
    {
     "data": {
      "image/png": "[encoded data removed]",
      "text/plain": [
       "<Figure size 432x288 with 1 Axes>"
      ]
     },
     "metadata": {
      "needs_background": "light"
     },
     "output_type": "display_data"
    }
   ],
   "source": [
    "# Precision-Recall Curve\n",
    "\n",
    "y_scores = cross_val_predict(logreg, x_train, y_train, cv=3, method=\"decision_function\")\n",
    "precisions, recalls, thresholds = precision_recall_curve(y_train, y_scores)\n",
    "\n",
    "plot_precision_recall_vs_threshold(precisions, recalls, thresholds)\n",
    "plt.title(\"Logistic Regressor Precision vs Recall\")\n",
    "plt.show()"
   ]
  },
  {
   "cell_type": "code",
   "execution_count": 7,
   "id": "e55bc3cb-3cc0-4eb3-85b2-766f1c414ce4",
   "metadata": {},
   "outputs": [
    {
     "data": {
      "image/png": "[encoded data removed]",
      "text/plain": [
       "<Figure size 432x288 with 1 Axes>"
      ]
     },
     "metadata": {
      "needs_background": "light"
     },
     "output_type": "display_data"
    }
   ],
   "source": [
    "# ROC Curve\n",
    "\n",
    "from sklearn.metrics import roc_curve\n",
    "\n",
    "def plot_roc_curve(fpr, tpr, label=None): \n",
    "    plt.plot(fpr, tpr, linewidth=2, label=label) \n",
    "    plt.plot([0, 1], [0, 1], 'k--')\n",
    "    plt.axis([0, 1, 0, 1])\n",
    "    plt.xlabel('False Positive Rate') \n",
    "    plt.ylabel('True Positive Rate')\n",
    "    \n",
    "fpr, tpr, thresholds = roc_curve(y_train, y_scores)\n",
    "\n",
    "plot_roc_curve(fpr, tpr) \n",
    "plt.title(\"Logistic Regressor ROC Curve\")\n",
    "plt.show()"
   ]
  },
  {
   "cell_type": "code",
   "execution_count": 8,
   "id": "d59ce1c6-09b2-4451-a725-2da368646ed5",
   "metadata": {},
   "outputs": [
    {
     "data": {
      "text/plain": [
       "['./saved_models/logreg.joblib']"
      ]
     },
     "execution_count": 8,
     "metadata": {},
     "output_type": "execute_result"
    }
   ],
   "source": [
    "# Save the model\n",
    "\n",
    "from joblib import dump, load\n",
    "\n",
    "dump(logreg, './saved_models/logreg.joblib') "
   ]
  },
  {
   "cell_type": "code",
   "execution_count": 9,
   "id": "2cef288e-3c38-4cda-b0f2-8946258c0094",
   "metadata": {},
   "outputs": [],
   "source": [
    "# model = load('filename.joblib')"
   ]
  },
  {
   "cell_type": "markdown",
   "id": "b976409e-0dcc-4fe7-9f52-7c220866abe0",
   "metadata": {},
   "source": [
    "## Cross-Validation"
   ]
  },
  {
   "cell_type": "code",
   "execution_count": 16,
   "id": "6bf4a02b-0122-4967-af1d-b932d7e70e2c",
   "metadata": {},
   "outputs": [
    {
     "data": {
      "text/plain": [
       "array([0.65904272, 0.66573044, 0.6471674 ])"
      ]
     },
     "execution_count": 16,
     "metadata": {},
     "output_type": "execute_result"
    }
   ],
   "source": [
    "from sklearn.model_selection import cross_val_score\n",
    "\n",
    "cross_val_score(logreg, x_train, y_train, cv=3, scoring=\"roc_auc\")"
   ]
  },
  {
   "cell_type": "code",
   "execution_count": null,
   "id": "007fb6e4-b373-42f1-8112-85828fe2faf0",
   "metadata": {},
   "outputs": [],
   "source": []
  }
 ],
 "metadata": {
  "kernelspec": {
   "display_name": "Python [conda env:ml_venv]",
   "language": "python",
   "name": "conda-env-ml_venv-py"
  },
  "language_info": {
   "codemirror_mode": {
    "name": "ipython",
    "version": 3
   },
   "file_extension": ".py",
   "mimetype": "text/x-python",
   "name": "python",
   "nbconvert_exporter": "python",
   "pygments_lexer": "ipython3",
   "version": "3.7.7"
  }
 },
 "nbformat": 4,
 "nbformat_minor": 5
}
