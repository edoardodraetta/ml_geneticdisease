{
 "cells": [
  {
   "cell_type": "code",
   "execution_count": 1,
   "id": "1fc9a1d1-276c-4a6a-bc1e-6176e61946b0",
   "metadata": {},
   "outputs": [],
   "source": [
    "import matplotlib.pyplot as plt\n",
    "import numpy as np\n",
    "import pandas as pd\n",
    "import seaborn as sns\n",
    "\n",
    "pd.set_option(\"display.max_columns\", 85)"
   ]
  },
  {
   "cell_type": "code",
   "execution_count": 161,
   "id": "76673338-2cc5-4e45-ba90-c425094cf532",
   "metadata": {},
   "outputs": [],
   "source": [
    "def fetch_data(drop_some=True):\n",
    "\n",
    "    df = pd.read_csv(\"../data/abnormal_writeout.data.csv\")\n",
    "\n",
    "    if drop_some:\n",
    "        # trascurare da ACC a UVM\n",
    "        start_drop = df.columns.get_loc(\"ACC\")\n",
    "        end_drop = df.columns.get_loc(\"UVM\")\n",
    "        cols = np.arange(start_drop, end_drop + 1)\n",
    "        df.drop(df.columns[cols], axis=1, inplace=True)\n",
    "\n",
    "        # trascurare old_phylo_factor e la prima colonna\n",
    "        df.drop(\"oldest_phylostratum_factor\", axis=1, inplace=True)\n",
    "        df.drop(\"Unnamed: 0\", axis=1, inplace=True)\n",
    "\n",
    "    return df\n",
    "\n",
    "\n",
    "def separate_data(df):\n",
    "    resp = df[\"response\"].to_numpy()\n",
    "    occ = df[\"occ_total_sum\"]\n",
    "    age = df[\"oldest_phylostratum\"].to_numpy()\n",
    "    conf = df.drop(labels=[\"response\", \"occ_total_sum\", \"oldest_phylostratum\"], axis=1).to_numpy()\n",
    "    return occ, age, conf, resp\n",
    "\n",
    "\n",
    "def get_PCA(X, expl_var=0.95, plot=False):\n",
    "\n",
    "    pca_test = PCA()\n",
    "    pca_test.fit(X)\n",
    "    cumsum = np.cumsum(pca_test.explained_variance_ratio_)\n",
    "    d = np.argmax(cumsum >= expl_var) + 1\n",
    "\n",
    "    # Apply PCA with d components\n",
    "    pca_apply = PCA(n_components=d)\n",
    "    X_PCA = pca_apply.fit_transform(X)\n",
    "\n",
    "    print(\"Using {} principal components.\".format(d))\n",
    "    print(f\"Reduced features by {(784-d)/784*100:.2f} percent.\")\n",
    "    if plot == True:\n",
    "        sns.heatmap(pd.DataFrame(X_PCA).corr())\n",
    "        plt.show()\n",
    "\n",
    "    return X_PCA"
   ]
  },
  {
   "cell_type": "markdown",
   "id": "0ca5c642-a8b1-4225-8bf9-e0399621e4a3",
   "metadata": {},
   "source": [
    "# Random Forest\n",
    "\n",
    "This notebook contains assessment of a random forest classifier. \n",
    "\n",
    "The data is obtained using 85 columns of `abnormal_writeout.data.csv`. \n",
    "\n",
    "Most of these 85 columns are highly colinear \"confounder\" variables against which we are comparing the `occ_total_sum` (total mutations of the gene across all cancers) and `oldest_phylostratum` (evolutionary age of the gene) variables. We apply PCA to the confounder variables and keep PCs up to 95% explained variance."
   ]
  },
  {
   "cell_type": "markdown",
   "id": "d99b731a-1125-481f-9e57-9f31e888219a",
   "metadata": {},
   "source": [
    "### Import, Clean, and apply PCA to data\n",
    "\n",
    "* Start with first 85 features\n",
    "* Apply PCA to confounding factors\n",
    "* Keep PCs up to 95% explained variance "
   ]
  },
  {
   "cell_type": "code",
   "execution_count": 63,
   "id": "77e5c864-65ec-4e7f-b8b3-79c0066fba4e",
   "metadata": {},
   "outputs": [
    {
     "name": "stdout",
     "output_type": "stream",
     "text": [
      "Using 47 principal components.\n",
      "Reduced features by 94.01 percent.\n",
      "Feature matrix shape: (14536, 49) (3634, 49)\n"
     ]
    }
   ],
   "source": [
    "from sklearn.decomposition import PCA\n",
    "from sklearn.model_selection import train_test_split\n",
    "\n",
    "# Data\n",
    "df = fetch_data()  # Get\n",
    "df.dropna(inplace=True)  # Clean\n",
    "X_occ, X_age, X_conf, Y = separate_data(df)  # Separate\n",
    "X_conf_pca = get_PCA(X_conf, plot=False)  # PCA\n",
    "\n",
    "# All features, confounders with PCA\n",
    "X = np.c_[X_occ, X_age, X_conf_pca]\n",
    "x_train, x_test, y_train, y_test = train_test_split(X, Y, test_size=0.2, random_state=42)\n",
    "print(\"Feature matrix shape:\", x_train.shape, x_test.shape)"
   ]
  },
  {
   "cell_type": "code",
   "execution_count": 64,
   "id": "e7fb5612-fc47-4e8a-ad3a-c2f11aec3a7d",
   "metadata": {},
   "outputs": [
    {
     "name": "stdout",
     "output_type": "stream",
     "text": [
      "Using a random forest.\n"
     ]
    }
   ],
   "source": [
    "from sklearn.ensemble import RandomForestClassifier\n",
    "\n",
    "ran_for = RandomForestClassifier(n_estimators=100, random_state=42)  # 100->2000 estimators, seeded\n",
    "ran_for.fit(x_train, y_train)\n",
    "print(\"Using a random forest.\")"
   ]
  },
  {
   "cell_type": "code",
   "execution_count": 65,
   "id": "fbbaeb3a-0e75-45da-96ea-da9acd5810f7",
   "metadata": {},
   "outputs": [
    {
     "name": "stdout",
     "output_type": "stream",
     "text": [
      "              precision    recall  f1-score   support\n",
      "\n",
      "           0       0.77      0.99      0.87      2791\n",
      "           1       0.60      0.03      0.06       843\n",
      "\n",
      "    accuracy                           0.77      3634\n",
      "   macro avg       0.69      0.51      0.46      3634\n",
      "weighted avg       0.73      0.77      0.68      3634\n",
      "\n",
      "AUC 63.801%\n"
     ]
    }
   ],
   "source": [
    "from sklearn.metrics import classification_report, roc_auc_score\n",
    "from sklearn.model_selection import cross_val_predict\n",
    "\n",
    "pred = ran_for.predict(x_test)\n",
    "pred_proba = ran_for.predict_proba(x_test)\n",
    "\n",
    "# View the classification report for test data and predictions\n",
    "print(classification_report(y_test, pred))\n",
    "print(f\"AUC {roc_auc_score(y_test, pred_proba[:, 1]):.3f}\")"
   ]
  },
  {
   "cell_type": "markdown",
   "id": "a331c474-d278-41c3-b91a-c7f632102aea",
   "metadata": {
    "tags": []
   },
   "source": [
    "***\n",
    "\n",
    "## Correcting Class Imbalance\n",
    "\n",
    "> Ensemble method in which each tree of the forest will be provided a balanced bootstrap sample. This class provides all functionality of the RandomForestClassifier."
   ]
  },
  {
   "cell_type": "code",
   "execution_count": 66,
   "id": "9e14fa72-2384-4614-9c72-0d82bab21dfe",
   "metadata": {},
   "outputs": [
    {
     "data": {
      "text/plain": [
       "BalancedRandomForestClassifier(random_state=42)"
      ]
     },
     "execution_count": 66,
     "metadata": {},
     "output_type": "execute_result"
    }
   ],
   "source": [
    "from imblearn.ensemble import BalancedRandomForestClassifier\n",
    "\n",
    "brf = BalancedRandomForestClassifier(n_estimators=100, random_state=42)\n",
    "brf.fit(x_train, y_train)"
   ]
  },
  {
   "cell_type": "code",
   "execution_count": 67,
   "id": "9c55b94b-f480-49b6-aeb8-182991236678",
   "metadata": {},
   "outputs": [
    {
     "name": "stdout",
     "output_type": "stream",
     "text": [
      "              precision    recall  f1-score   support\n",
      "\n",
      "           0       0.83      0.64      0.72      2791\n",
      "           1       0.33      0.58      0.42       843\n",
      "\n",
      "    accuracy                           0.63      3634\n",
      "   macro avg       0.58      0.61      0.57      3634\n",
      "weighted avg       0.72      0.63      0.65      3634\n",
      "\n",
      "AUC: 66.198%\n"
     ]
    }
   ],
   "source": [
    "pred = brf.predict(x_test)\n",
    "pred_proba = brf.predict_proba(x_test)\n",
    "\n",
    "print(classification_report(y_test, pred))\n",
    "print(f\"AUC: {roc_auc_score(y_test, pred_proba[:, 1]):.3f}\")"
   ]
  },
  {
   "cell_type": "markdown",
   "id": "c164c21a-8818-42bb-b02b-e3d220fd23cf",
   "metadata": {},
   "source": [
    "## Radical Feature Selection\n",
    "\n",
    "\n",
    "[See here](https://stackoverflow.com/questions/42562146/classification-report-with-nested-cross-validation-in-sklearn-average-individua) for a tutorial on creating a custom scoring metric to use with sklearn's `cross_validation`.\n",
    "\n",
    "**sklearn.metrics.auc**"
   ]
  },
  {
   "cell_type": "markdown",
   "id": "8f99d852-15ee-4590-a125-3cdc3d38df9a",
   "metadata": {},
   "source": [
    "min_samples_split = 2, 5, 10, 20  \n",
    "min_samples_leaf = 1, 2, 5, 10, 20\n",
    "\n",
    "score: AUC, AU precision recall, precision, recall, f1"
   ]
  },
  {
   "cell_type": "code",
   "execution_count": 198,
   "id": "8a0f172f-6271-4b17-b6cd-24486c5c4a4e",
   "metadata": {},
   "outputs": [],
   "source": [
    "n_estimators = 200"
   ]
  },
  {
   "cell_type": "markdown",
   "id": "f20fbcd5-7482-46d8-a315-fb51c4be5f83",
   "metadata": {},
   "source": [
    "***"
   ]
  },
  {
   "cell_type": "code",
   "execution_count": 212,
   "id": "97bbda08-8abc-4fa0-b534-1892b1691ab5",
   "metadata": {},
   "outputs": [
    {
     "name": "stdout",
     "output_type": "stream",
     "text": [
      "Using 47 principal components.\n",
      "Reduced features by 94.01 percent.\n"
     ]
    }
   ],
   "source": [
    "df = fetch_data()\n",
    "df.dropna(inplace=True)\n",
    "X_occ, X_age, X_conf, Y = separate_data(df)\n",
    "X_conf_pca = get_PCA(X_conf, plot=False)  # PCA\n",
    "\n",
    "X = np.c_[X_occ, X_age, X_conf_pca]\n",
    "x_train, x_test, y_train, y_test = train_test_split(X, Y, test_size=0.2, random_state=42)"
   ]
  },
  {
   "cell_type": "code",
   "execution_count": 213,
   "id": "f60f18c8-dc12-417b-b205-7a09c45585e2",
   "metadata": {},
   "outputs": [
    {
     "name": "stdout",
     "output_type": "stream",
     "text": [
      "All PCs, Unbalanced:\n",
      "Recall: 0.0325 +/_ 0.00908\n",
      "AUC: 0.6498 +/_ 0.01184\n"
     ]
    }
   ],
   "source": [
    "from imblearn.metrics import specificity_score\n",
    "from sklearn.base import clone\n",
    "from sklearn.metrics import recall_score, roc_auc_score\n",
    "from sklearn.model_selection import StratifiedKFold\n",
    "\n",
    "model = RandomForestClassifier(n_estimators=n_estimators, random_state=42, n_jobs=-1)\n",
    "\n",
    "n_splits = 10\n",
    "r_scores = np.zeros(n_splits)\n",
    "auc_scores = np.zeros(n_splits)\n",
    "skfolds = StratifiedKFold(n_splits=n_splits, random_state=42, shuffle=True)\n",
    "\n",
    "i = 0\n",
    "for train_index, test_index in skfolds.split(x_train, y_train):\n",
    "    clone_clf = clone(model)\n",
    "    X_train_folds = x_train[train_index]\n",
    "    y_train_folds = y_train[train_index]\n",
    "    X_test_fold = x_train[test_index]\n",
    "    y_test_fold = y_train[test_index]\n",
    "    clone_clf.fit(X_train_folds, y_train_folds)\n",
    "    y_pred_proba = clone_clf.predict_proba(X_test_fold)\n",
    "    y_pred = clone_clf.predict(X_test_fold)\n",
    "    r_scores[i] = recall_score(y_test_fold, y_pred)\n",
    "    auc_scores[i] = roc_auc_score(y_test_fold, y_pred_proba[:, 1])\n",
    "    i += 1\n",
    "\n",
    "print(\"All PCs, Unbalanced:\")\n",
    "print(f\"Recall: {np.mean(r_scores):.4f} +/_ {np.std(r_scores):.5f}\")\n",
    "print(f\"AUC: {np.mean(auc_scores):.4f} +/_ {np.std(auc_scores):.5f}\")"
   ]
  },
  {
   "cell_type": "markdown",
   "id": "a849912e-b69a-4709-bcc5-7b84e2b09051",
   "metadata": {},
   "source": [
    "***\n",
    "\n",
    "**Keep most significant PCs: 3, 9, 4, 6, 1, 23, 12, 46**"
   ]
  },
  {
   "cell_type": "code",
   "execution_count": 221,
   "id": "acbe9cf7-88c7-4bbb-8d35-6af106e37a33",
   "metadata": {},
   "outputs": [],
   "source": [
    "X_conf_pca_best = X_conf_pca[:, [1, 3, 4, 6, 9, 12, 23, 46]]\n",
    "X_conf_pca_best = X_conf_pca[:, [0, 2, 3, 5, 8, 11, 22, 45]]\n",
    "\n",
    "# Sum of mutations, age, and best PCs\n",
    "X = np.c_[X_occ, X_age, X_conf_pca_best]\n",
    "x_train, x_test, y_train, y_test = train_test_split(X, Y, test_size=0.2, random_state=42)"
   ]
  },
  {
   "cell_type": "code",
   "execution_count": 222,
   "id": "c6485564-8dd1-4c46-bb2d-e5a7bcb1bec5",
   "metadata": {},
   "outputs": [
    {
     "name": "stdout",
     "output_type": "stream",
     "text": [
      "Paper PCs, Unbalanced:\n",
      "Recall: 0.0620 +/_ 0.00952\n",
      "AUC: 0.6502 +/_ 0.01535\n"
     ]
    }
   ],
   "source": [
    "model = RandomForestClassifier(n_estimators=n_estimators, random_state=42, n_jobs=-1)\n",
    "n_splits = 10\n",
    "r_scores = np.zeros(n_splits)\n",
    "auc_scores = np.zeros(n_splits)\n",
    "skfolds = StratifiedKFold(n_splits=n_splits, random_state=42, shuffle=True)\n",
    "\n",
    "i = 0\n",
    "for train_index, test_index in skfolds.split(x_train, y_train):\n",
    "    clone_clf = clone(model)\n",
    "    X_train_folds = x_train[train_index]\n",
    "    y_train_folds = y_train[train_index]\n",
    "    X_test_fold = x_train[test_index]\n",
    "    y_test_fold = y_train[test_index]\n",
    "    clone_clf.fit(X_train_folds, y_train_folds)\n",
    "    y_pred_proba = clone_clf.predict_proba(X_test_fold)\n",
    "    y_pred = clone_clf.predict(X_test_fold)\n",
    "    r_scores[i] = recall_score(y_test_fold, y_pred)\n",
    "    auc_scores[i] = roc_auc_score(y_test_fold, y_pred_proba[:, 1])\n",
    "    i += 1\n",
    "\n",
    "print(\"Paper PCs, Unbalanced:\")\n",
    "print(f\"Recall: {np.mean(r_scores):.4f} +/_ {np.std(r_scores):.5f}\")\n",
    "print(f\"AUC: {np.mean(auc_scores):.4f} +/_ {np.std(auc_scores):.5f}\")"
   ]
  },
  {
   "cell_type": "markdown",
   "id": "3df6f572-7c10-4041-b34f-81854301ca27",
   "metadata": {},
   "source": [
    "***"
   ]
  },
  {
   "cell_type": "code",
   "execution_count": 227,
   "id": "49634c44-9729-4e11-a0c4-968645b3abdf",
   "metadata": {},
   "outputs": [
    {
     "name": "stdout",
     "output_type": "stream",
     "text": [
      "Paper PCs, Balanced:\n",
      "Recall: 0.6332 +/_ 0.02494\n",
      "AUC: 0.6678 +/_ 0.00947\n"
     ]
    }
   ],
   "source": [
    "model = BalancedRandomForestClassifier(n_estimators=n_estimators, random_state=42, n_jobs=-1)\n",
    "n_splits = 10\n",
    "r_scores = np.zeros(n_splits)\n",
    "auc_scores = np.zeros(n_splits)\n",
    "skfolds = StratifiedKFold(n_splits=n_splits, random_state=42, shuffle=True)\n",
    "\n",
    "i = 0\n",
    "for train_index, test_index in skfolds.split(x_train, y_train):\n",
    "    clone_clf = clone(model)\n",
    "    X_train_folds = x_train[train_index]\n",
    "    y_train_folds = y_train[train_index]\n",
    "    X_test_fold = x_train[test_index]\n",
    "    y_test_fold = y_train[test_index]\n",
    "    clone_clf.fit(X_train_folds, y_train_folds)\n",
    "    y_pred_proba = clone_clf.predict_proba(X_test_fold)\n",
    "    y_pred = clone_clf.predict(X_test_fold)\n",
    "    r_scores[i] = recall_score(y_test_fold, y_pred)\n",
    "    auc_scores[i] = roc_auc_score(y_test_fold, y_pred_proba[:, 1])\n",
    "    i += 1\n",
    "\n",
    "print(\"Paper PCs, Balanced:\")\n",
    "print(f\"Recall: {np.mean(r_scores):.4f} +/_ {np.std(r_scores):.5f}\")\n",
    "print(f\"AUC: {np.mean(auc_scores):.4f} +/_ {np.std(auc_scores):.5f}\")"
   ]
  },
  {
   "cell_type": "markdown",
   "id": "b2a31dd4-3b79-4eeb-99df-ffab6c0eb6e0",
   "metadata": {},
   "source": [
    "***"
   ]
  },
  {
   "cell_type": "markdown",
   "id": "50a83f33-532a-41d9-b1fb-fe78815e04eb",
   "metadata": {},
   "source": [
    "**Keep first 8 PCs**"
   ]
  },
  {
   "cell_type": "code",
   "execution_count": 230,
   "id": "feee4147-f079-4dab-97ed-bbf9cfe076ae",
   "metadata": {},
   "outputs": [],
   "source": [
    "X_conf_pca_best = X_conf_pca[:, :8]\n",
    "# Sum of mutations, age, and best PCs\n",
    "X = np.c_[X_occ, X_age, X_conf_pca_best]\n",
    "x_train, x_test, y_train, y_test = train_test_split(X, Y, test_size=0.2, random_state=42)"
   ]
  },
  {
   "cell_type": "code",
   "execution_count": 231,
   "id": "ccb899a3-bf1a-4ad8-8995-6a8a51ffae81",
   "metadata": {},
   "outputs": [
    {
     "name": "stdout",
     "output_type": "stream",
     "text": [
      "Top PCs, Unbalanced:\n",
      "Recall: 0.0735 +/_ 0.01172\n",
      "AUC: 0.6576 +/_ 0.01378\n"
     ]
    }
   ],
   "source": [
    "model = RandomForestClassifier(n_estimators=n_estimators, random_state=42, n_jobs=-1)\n",
    "n_splits = 10\n",
    "r_scores = np.zeros(n_splits)\n",
    "auc_scores = np.zeros(n_splits)\n",
    "skfolds = StratifiedKFold(n_splits=n_splits, random_state=42, shuffle=True)\n",
    "\n",
    "i = 0\n",
    "for train_index, test_index in skfolds.split(x_train, y_train):\n",
    "    clone_clf = clone(model)\n",
    "    X_train_folds = x_train[train_index]\n",
    "    y_train_folds = y_train[train_index]\n",
    "    X_test_fold = x_train[test_index]\n",
    "    y_test_fold = y_train[test_index]\n",
    "    clone_clf.fit(X_train_folds, y_train_folds)\n",
    "    y_pred_proba = clone_clf.predict_proba(X_test_fold)\n",
    "    y_pred = clone_clf.predict(X_test_fold)\n",
    "    r_scores[i] = recall_score(y_test_fold, y_pred)\n",
    "    auc_scores[i] = roc_auc_score(y_test_fold, y_pred_proba[:, 1])\n",
    "    i += 1\n",
    "\n",
    "print(\"Top PCs, Unbalanced:\")\n",
    "print(f\"Recall: {np.mean(r_scores):.4f} +/_ {np.std(r_scores):.5f}\")\n",
    "print(f\"AUC: {np.mean(auc_scores):.4f} +/_ {np.std(auc_scores):.5f}\")"
   ]
  },
  {
   "cell_type": "markdown",
   "id": "902e9eb0-9760-4bc7-92a1-0b2c5bafb499",
   "metadata": {},
   "source": [
    "***\n",
    "\n",
    "**First 10 PCs, balanced**"
   ]
  },
  {
   "cell_type": "code",
   "execution_count": 232,
   "id": "590296d9-20c6-4dff-b631-354ddbc8243d",
   "metadata": {},
   "outputs": [
    {
     "name": "stdout",
     "output_type": "stream",
     "text": [
      "Top PCs, Balanced:\n",
      "Recall: 0.6378 +/_ 0.02928\n",
      "AUC: 0.6696 +/_ 0.01249\n"
     ]
    }
   ],
   "source": [
    "model = BalancedRandomForestClassifier(n_estimators=n_estimators, random_state=42, n_jobs=-1)\n",
    "n_splits = 10\n",
    "r_scores = np.zeros(n_splits)\n",
    "auc_scores = np.zeros(n_splits)\n",
    "skfolds = StratifiedKFold(n_splits=n_splits, random_state=42, shuffle=True)\n",
    "\n",
    "i = 0\n",
    "for train_index, test_index in skfolds.split(x_train, y_train):\n",
    "    clone_clf = clone(model)\n",
    "    X_train_folds = x_train[train_index]\n",
    "    y_train_folds = y_train[train_index]\n",
    "    X_test_fold = x_train[test_index]\n",
    "    y_test_fold = y_train[test_index]\n",
    "    clone_clf.fit(X_train_folds, y_train_folds)\n",
    "    y_pred_proba = clone_clf.predict_proba(X_test_fold)\n",
    "    y_pred = clone_clf.predict(X_test_fold)\n",
    "    r_scores[i] = recall_score(y_test_fold, y_pred)\n",
    "    auc_scores[i] = roc_auc_score(y_test_fold, y_pred_proba[:, 1])\n",
    "    i += 1\n",
    "\n",
    "print(\"Top PCs, Balanced:\")\n",
    "print(f\"Recall: {np.mean(r_scores):.4f} +/_ {np.std(r_scores):.5f}\")\n",
    "print(f\"AUC: {np.mean(auc_scores):.4f} +/_ {np.std(auc_scores):.5f}\")"
   ]
  },
  {
   "cell_type": "code",
   "execution_count": null,
   "id": "f80dc58f-61e6-4f76-b21b-4f9d865a84ac",
   "metadata": {},
   "outputs": [],
   "source": []
  }
 ],
 "metadata": {
  "kernelspec": {
   "display_name": "Python [conda env:ml_venv]",
   "language": "python",
   "name": "conda-env-ml_venv-py"
  },
  "language_info": {
   "codemirror_mode": {
    "name": "ipython",
    "version": 3
   },
   "file_extension": ".py",
   "mimetype": "text/x-python",
   "name": "python",
   "nbconvert_exporter": "python",
   "pygments_lexer": "ipython3",
   "version": "3.7.7"
  }
 },
 "nbformat": 4,
 "nbformat_minor": 5
}
