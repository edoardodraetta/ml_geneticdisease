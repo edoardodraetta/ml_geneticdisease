{
 "cells": [
  {
   "cell_type": "code",
   "execution_count": 1,
   "id": "1fc9a1d1-276c-4a6a-bc1e-6176e61946b0",
   "metadata": {},
   "outputs": [],
   "source": [
    "import matplotlib.pyplot as plt\n",
    "import numpy as np\n",
    "import pandas as pd\n",
    "import seaborn as sns\n",
    "\n",
    "pd.set_option(\"display.max_columns\", 85)"
   ]
  },
  {
   "cell_type": "code",
   "execution_count": 161,
   "id": "76673338-2cc5-4e45-ba90-c425094cf532",
   "metadata": {},
   "outputs": [],
   "source": [
    "def fetch_data(drop_some=True):\n",
    "\n",
    "    df = pd.read_csv(\"../data/abnormal_writeout.data.csv\")\n",
    "\n",
    "    if drop_some:\n",
    "        # trascurare da ACC a UVM\n",
    "        start_drop = df.columns.get_loc(\"ACC\")\n",
    "        end_drop = df.columns.get_loc(\"UVM\")\n",
    "        cols = np.arange(start_drop, end_drop + 1)\n",
    "        df.drop(df.columns[cols], axis=1, inplace=True)\n",
    "\n",
    "        # trascurare old_phylo_factor e la prima colonna\n",
    "        df.drop(\"oldest_phylostratum_factor\", axis=1, inplace=True)\n",
    "        df.drop(\"Unnamed: 0\", axis=1, inplace=True)\n",
    "\n",
    "    return df\n",
    "\n",
    "\n",
    "def separate_data(df):\n",
    "    resp = df[\"response\"].to_numpy()\n",
    "    occ = df[\"occ_total_sum\"]\n",
    "    age = df[\"oldest_phylostratum\"].to_numpy()\n",
    "    conf = df.drop(labels=[\"response\", \"occ_total_sum\", \"oldest_phylostratum\"], axis=1).to_numpy()\n",
    "    return occ, age, conf, resp\n",
    "\n",
    "\n",
    "def get_PCA(X, expl_var=0.95, plot=False):\n",
    "\n",
    "    pca_test = PCA()\n",
    "    pca_test.fit(X)\n",
    "    cumsum = np.cumsum(pca_test.explained_variance_ratio_)\n",
    "    d = np.argmax(cumsum >= expl_var) + 1\n",
    "\n",
    "    # Apply PCA with d components\n",
    "    pca_apply = PCA(n_components=d)\n",
    "    X_PCA = pca_apply.fit_transform(X)\n",
    "\n",
    "    print(\"Using {} principal components.\".format(d))\n",
    "    print(f\"Reduced features by {(784-d)/784*100:.2f} percent.\")\n",
    "    if plot == True:\n",
    "        sns.heatmap(pd.DataFrame(X_PCA).corr())\n",
    "        plt.show()\n",
    "\n",
    "    return X_PCA"
   ]
  },
  {
   "cell_type": "markdown",
   "id": "0ca5c642-a8b1-4225-8bf9-e0399621e4a3",
   "metadata": {},
   "source": [
    "# Random Forest\n",
    "\n",
    "This notebook contains assessment of a random forest classifier. \n",
    "\n",
    "The data is obtained using 85 columns of `abnormal_writeout.data.csv`. \n",
    "\n",
    "Most of these 85 columns are highly colinear \"confounder\" variables against which we are comparing the `occ_total_sum` (total mutations of the gene across all cancers) and `oldest_phylostratum` (evolutionary age of the gene) variables. We apply PCA to the confounder variables and keep PCs up to 95% explained variance."
   ]
  },
  {
   "cell_type": "markdown",
   "id": "d99b731a-1125-481f-9e57-9f31e888219a",
   "metadata": {},
   "source": [
    "### Import, Clean, and apply PCA to data\n",
    "\n",
    "* Start with first 85 features\n",
    "* Apply PCA to confounding factors\n",
    "* Keep PCs up to 95% explained variance "
   ]
  },
  {
   "cell_type": "code",
   "execution_count": 63,
   "id": "77e5c864-65ec-4e7f-b8b3-79c0066fba4e",
   "metadata": {},
   "outputs": [
    {
     "name": "stdout",
     "output_type": "stream",
     "text": [
      "Using 47 principal components.\n",
      "Reduced features by 94.01 percent.\n",
      "Feature matrix shape: (14536, 49) (3634, 49)\n"
     ]
    }
   ],
   "source": [
    "from sklearn.decomposition import PCA\n",
    "from sklearn.model_selection import train_test_split\n",
    "\n",
    "# Data\n",
    "df = fetch_data()  # Get\n",
    "df.dropna(inplace=True)  # Clean\n",
    "X_occ, X_age, X_conf, Y = separate_data(df)  # Separate\n",
    "X_conf_pca = get_PCA(X_conf, plot=False)  # PCA\n",
    "\n",
    "# All features, confounders with PCA\n",
    "X = np.c_[X_occ, X_age, X_conf_pca]\n",
    "x_train, x_test, y_train, y_test = train_test_split(X, Y, test_size=0.2, random_state=42)\n",
    "print(\"Feature matrix shape:\", x_train.shape, x_test.shape)"
   ]
  },
  {
   "cell_type": "code",
   "execution_count": 64,
   "id": "e7fb5612-fc47-4e8a-ad3a-c2f11aec3a7d",
   "metadata": {},
   "outputs": [
    {
     "name": "stdout",
     "output_type": "stream",
     "text": [
      "Using a random forest.\n"
     ]
    }
   ],
   "source": [
    "from sklearn.ensemble import RandomForestClassifier\n",
    "\n",
    "ran_for = RandomForestClassifier(n_estimators=100, random_state=42)  # 100->2000 estimators, seeded\n",
    "ran_for.fit(x_train, y_train)\n",
    "print(\"Using a random forest.\")"
   ]
  },
  {
   "cell_type": "code",
   "execution_count": 65,
   "id": "fbbaeb3a-0e75-45da-96ea-da9acd5810f7",
   "metadata": {},
   "outputs": [
    {
     "name": "stdout",
     "output_type": "stream",
     "text": [
      "              precision    recall  f1-score   support\n",
      "\n",
      "           0       0.77      0.99      0.87      2791\n",
      "           1       0.60      0.03      0.06       843\n",
      "\n",
      "    accuracy                           0.77      3634\n",
      "   macro avg       0.69      0.51      0.46      3634\n",
      "weighted avg       0.73      0.77      0.68      3634\n",
      "\n",
      "AUC 63.801%\n"
     ]
    }
   ],
   "source": [
    "from sklearn.metrics import classification_report, roc_auc_score\n",
    "from sklearn.model_selection import cross_val_predict\n",
    "\n",
    "pred = ran_for.predict(x_test)\n",
    "pred_proba = ran_for.predict_proba(x_test)\n",
    "\n",
    "# View the classification report for test data and predictions\n",
    "print(classification_report(y_test, pred))\n",
    "print(f\"AUC {roc_auc_score(y_test, pred_proba[:, 1])*100:.3f}%\")"
   ]
  },
  {
   "cell_type": "code",
   "execution_count": null,
   "id": "d62ceb26-cb6c-4d96-89e1-ea157fdfda76",
   "metadata": {
    "tags": []
   },
   "outputs": [],
   "source": [
    "# from sklearn.metrics import confusion_matrix\n",
    "\n",
    "# # Get and reshape confusion matrix data\n",
    "# class_names = [\"negative\", \"positive\"]\n",
    "# matrix = confusion_matrix(y_test, pred)\n",
    "# matrix = matrix.astype(\"float\") / matrix.sum(axis=1)[:, np.newaxis]  # normalize\n",
    "\n",
    "# # Build the plot\n",
    "# plt.figure(figsize=(8, 4))\n",
    "# sns.set(font_scale=1.4)\n",
    "# sns.heatmap(matrix, annot=True, annot_kws={\"size\": 10}, cmap=plt.cm.Greens, linewidths=0.2)\n",
    "\n",
    "# # Add labels to the plot\n",
    "# tick_marks = np.arange(len(class_names))\n",
    "# tick_marks2 = tick_marks + 0.5\n",
    "# plt.xticks(tick_marks, class_names, rotation=25)\n",
    "# plt.yticks(tick_marks2, class_names, rotation=0)\n",
    "# plt.xlabel(\"Predicted label\")\n",
    "# plt.ylabel(\"True label\")\n",
    "# plt.title(\"Confusion Matrix for Random Forest Model\")\n",
    "# plt.show()"
   ]
  },
  {
   "cell_type": "code",
   "execution_count": null,
   "id": "c8ef93da-77c8-475f-ab89-dbb0a2c3680e",
   "metadata": {
    "tags": []
   },
   "outputs": [],
   "source": [
    "# from sklearn.metrics import precision_recall_curve\n",
    "\n",
    "# def plot_precision_recall_vs_threshold(precisions, recalls, thresholds):\n",
    "#     plt.plot(thresholds, precisions[:-1], \"b--\", label=\"Precision\")\n",
    "#     plt.plot(thresholds, recalls[:-1], \"g-\", label=\"Recall\")\n",
    "#     plt.xlabel(\"Threshold\")\n",
    "#     plt.legend(loc=\"upper left\")\n",
    "#     plt.ylim([0, 1])\n",
    "\n",
    "\n",
    "# y_probas_forest = cross_val_predict(ran_for, x_train, y_train, cv=3, method=\"predict_proba\")\n",
    "# y_scores = y_probas_forest[:, 1]  # score = proba of positive class\n",
    "\n",
    "# precisions, recalls, thresholds = precision_recall_curve(y_train, y_scores)\n",
    "\n",
    "# plot_precision_recall_vs_threshold(precisions, recalls, thresholds)\n",
    "# plt.title(\"Random Forest Precision vs Recall\")\n",
    "# plt.show()"
   ]
  },
  {
   "cell_type": "code",
   "execution_count": 61,
   "id": "abdb0b02-4889-4974-b2a6-68911690b3be",
   "metadata": {
    "tags": []
   },
   "outputs": [],
   "source": [
    "# from sklearn.metrics import roc_curve\n",
    "\n",
    "# def plot_roc_curve(fpr, tpr, label=None):\n",
    "#     plt.plot(fpr, tpr, linewidth=2, label=label)\n",
    "#     plt.plot([0, 1], [0, 1], \"k--\")\n",
    "#     plt.axis([0, 1, 0, 1])\n",
    "#     plt.xlabel(\"False Positive Rate\")\n",
    "#     plt.ylabel(\"True Positive Rate\")\n",
    "\n",
    "\n",
    "# y_probas_forest = cross_val_predict(ran_for, x_train, y_train, cv=3, method=\"predict_proba\")\n",
    "# fpr_forest, tpr_forest, thresholds_forest = roc_curve(y_train, y_scores)\n",
    "\n",
    "# plot_roc_curve(fpr_forest, tpr_forest)\n",
    "# plt.title(\"Random Forest ROC Curve\")\n",
    "# plt.show()"
   ]
  },
  {
   "cell_type": "code",
   "execution_count": 43,
   "id": "52cd17d5-78da-4fb2-9d07-950c435880ac",
   "metadata": {
    "tags": []
   },
   "outputs": [],
   "source": [
    "# Save the model\n",
    "\n",
    "# from joblib import dump, load\n",
    "# dump(ran_for, \"./saved_models/ranfor_100_estimators.joblib\")\n",
    "# model = load('filename.joblib')"
   ]
  },
  {
   "cell_type": "markdown",
   "id": "d158f58d-33db-4528-9909-dc1b7e80cff4",
   "metadata": {
    "tags": []
   },
   "source": [
    "***\n",
    "## Cross-Validation... nested?"
   ]
  },
  {
   "cell_type": "code",
   "execution_count": 111,
   "id": "13af66bf-0d3a-466d-8aa0-76845be77e41",
   "metadata": {
    "tags": []
   },
   "outputs": [
    {
     "data": {
      "text/plain": [
       "array([0.62848069, 0.6304151 , 0.63066817])"
      ]
     },
     "execution_count": 111,
     "metadata": {},
     "output_type": "execute_result"
    }
   ],
   "source": [
    "from sklearn.model_selection import cross_val_score\n",
    "\n",
    "cross_val_score(ran_for, x_train, y_train, cv=3, scoring=\"roc_auc\")"
   ]
  },
  {
   "cell_type": "markdown",
   "id": "a331c474-d278-41c3-b91a-c7f632102aea",
   "metadata": {
    "tags": []
   },
   "source": [
    "***\n",
    "\n",
    "## Correcting Class Imbalance\n",
    "\n",
    "> Ensemble method in which each tree of the forest will be provided a balanced bootstrap sample. This class provides all functionality of the RandomForestClassifier."
   ]
  },
  {
   "cell_type": "code",
   "execution_count": 66,
   "id": "9e14fa72-2384-4614-9c72-0d82bab21dfe",
   "metadata": {},
   "outputs": [
    {
     "data": {
      "text/plain": [
       "BalancedRandomForestClassifier(random_state=42)"
      ]
     },
     "execution_count": 66,
     "metadata": {},
     "output_type": "execute_result"
    }
   ],
   "source": [
    "from imblearn.ensemble import BalancedRandomForestClassifier\n",
    "\n",
    "brf = BalancedRandomForestClassifier(n_estimators=100, random_state=42)\n",
    "brf.fit(x_train, y_train)"
   ]
  },
  {
   "cell_type": "code",
   "execution_count": 67,
   "id": "9c55b94b-f480-49b6-aeb8-182991236678",
   "metadata": {},
   "outputs": [
    {
     "name": "stdout",
     "output_type": "stream",
     "text": [
      "              precision    recall  f1-score   support\n",
      "\n",
      "           0       0.83      0.64      0.72      2791\n",
      "           1       0.33      0.58      0.42       843\n",
      "\n",
      "    accuracy                           0.63      3634\n",
      "   macro avg       0.58      0.61      0.57      3634\n",
      "weighted avg       0.72      0.63      0.65      3634\n",
      "\n",
      "AUC: 66.198%\n"
     ]
    }
   ],
   "source": [
    "pred = brf.predict(x_test)\n",
    "pred_proba = brf.predict_proba(x_test)\n",
    "\n",
    "print(classification_report(y_test, pred))\n",
    "print(f\"AUC: {roc_auc_score(y_test, pred_proba[:, 1])*100:.3f}%\")"
   ]
  },
  {
   "cell_type": "markdown",
   "id": "c164c21a-8818-42bb-b02b-e3d220fd23cf",
   "metadata": {},
   "source": [
    "## Radical Feature Selection"
   ]
  },
  {
   "cell_type": "code",
   "execution_count": 168,
   "id": "8a0f172f-6271-4b17-b6cd-24486c5c4a4e",
   "metadata": {},
   "outputs": [],
   "source": [
    "n_estimators = 200"
   ]
  },
  {
   "cell_type": "markdown",
   "id": "f20fbcd5-7482-46d8-a315-fb51c4be5f83",
   "metadata": {},
   "source": [
    "***"
   ]
  },
  {
   "cell_type": "code",
   "execution_count": 169,
   "id": "97bbda08-8abc-4fa0-b534-1892b1691ab5",
   "metadata": {},
   "outputs": [
    {
     "name": "stdout",
     "output_type": "stream",
     "text": [
      "Using 47 principal components.\n",
      "Reduced features by 94.01 percent.\n",
      "Feature matrix shape: (14536, 49) (3634, 49)\n"
     ]
    },
    {
     "data": {
      "text/plain": [
       "RandomForestClassifier(n_estimators=200, n_jobs=-1, random_state=42)"
      ]
     },
     "execution_count": 169,
     "metadata": {},
     "output_type": "execute_result"
    }
   ],
   "source": [
    "df = fetch_data()  \n",
    "df.dropna(inplace=True)  \n",
    "X_occ, X_age, X_conf, Y = separate_data(df)  \n",
    "X_conf_pca = get_PCA(X_conf, plot=False)  # PCA\n",
    "\n",
    "X = np.c_[X_occ, X_age, X_conf_pca]\n",
    "x_train, x_test, y_train, y_test = train_test_split(X, Y, test_size=0.2, random_state=42)\n",
    "print(\"Feature matrix shape:\", x_train.shape, x_test.shape)\n",
    "\n",
    "ran_for = RandomForestClassifier(n_estimators=n_estimators, random_state=42, n_jobs=-1)\n",
    "ran_for.fit(x_train, y_train)"
   ]
  },
  {
   "cell_type": "code",
   "execution_count": 139,
   "id": "4d0e8c10-9227-43ff-8725-c12d8264d1b7",
   "metadata": {},
   "outputs": [
    {
     "name": "stdout",
     "output_type": "stream",
     "text": [
      "              precision    recall  f1-score   support\n",
      "\n",
      "           0       0.77      0.99      0.87      2791\n",
      "           1       0.67      0.03      0.06       843\n",
      "\n",
      "    accuracy                           0.77      3634\n",
      "   macro avg       0.72      0.51      0.47      3634\n",
      "weighted avg       0.75      0.77      0.68      3634\n",
      "\n",
      "AUC: 64.820%\n"
     ]
    }
   ],
   "source": [
    "pred = ran_for.predict(x_test)\n",
    "pred_proba = ran_for.predict_proba(x_test)\n",
    "print(classification_report(y_test, pred))\n",
    "print(f\"AUC: {roc_auc_score(y_test, pred_proba[:, 1])*100:.3f}%\")"
   ]
  },
  {
   "cell_type": "code",
   "execution_count": null,
   "id": "f60f18c8-dc12-417b-b205-7a09c45585e2",
   "metadata": {},
   "outputs": [],
   "source": [
    "from sklearn.model_selection import StratifiedKFold \n",
    "from sklearn.base import clone\n",
    "from sklearn.metrics import roc_auc_score, recall_score\n",
    "from imblearn.metrics import specificity_score\n",
    "\n",
    "model = RandomForestClassifier(n_estimators=n_estimators, random_state=42, n_jobs=-1)\n",
    "\n",
    "n_splits = 10\n",
    "r_scores = np.zeros(n_splits)\n",
    "auc_scores = np.zeros(n_splits)\n",
    "\n",
    "skfolds = StratifiedKFold(n_splits=n_splits, random_state=42, shuffle=True)\n",
    "\n",
    "i = 0\n",
    "for train_index, test_index in skfolds.split(x_train, y_train): \n",
    "    clone_clf = clone(model)\n",
    "    X_train_folds = x_train[train_index]\n",
    "    y_train_folds = (y_train[train_index])\n",
    "    X_test_fold = x_train[test_index] \n",
    "    y_test_fold = (y_train[test_index])\n",
    "    clone_clf.fit(X_train_folds, y_train_folds)\n",
    "    y_pred_proba = clone_clf.predict_proba(X_test_fold)\n",
    "    y_pred = clone_clf.predict(X_test_fold)\n",
    "    r_scores[i] = recall_score(y_test_fold, y_pred)\n",
    "    auc_scores[i] = roc_auc_score(y_test_fold, y_pred_proba[:,1])\n",
    "    i += 1\n",
    "    \n",
    "print(np.mean(r_scores), \"+/1\", np.std(r_scores))\n",
    "print(np.mean(auc_scores), \"+/1\", np.std(auc_scores))"
   ]
  },
  {
   "cell_type": "markdown",
   "id": "a849912e-b69a-4709-bcc5-7b84e2b09051",
   "metadata": {},
   "source": [
    "***\n",
    "\n",
    "**Keep most significant PCs: 3, 9, 4, 6, 1, 23, 12, 46**"
   ]
  },
  {
   "cell_type": "code",
   "execution_count": 140,
   "id": "acbe9cf7-88c7-4bbb-8d35-6af106e37a33",
   "metadata": {},
   "outputs": [
    {
     "data": {
      "text/plain": [
       "RandomForestClassifier(n_estimators=5000, n_jobs=-1, random_state=42)"
      ]
     },
     "execution_count": 140,
     "metadata": {},
     "output_type": "execute_result"
    }
   ],
   "source": [
    "X_conf_pca_best = X_conf_pca[:, [1, 3, 4, 6, 9, 12, 23, 46]]\n",
    "# Sum of mutations, age, and best PCs\n",
    "X = np.c_[X_occ, X_age, X_conf_pca_best]\n",
    "x_train, x_test, y_train, y_test = train_test_split(X, Y, test_size=0.2, random_state=42)\n",
    "\n",
    "# model\n",
    "best_rf = RandomForestClassifier(n_estimators=n_estimators, random_state=42, n_jobs=-1)  \n",
    "best_rf.fit(x_train, y_train)"
   ]
  },
  {
   "cell_type": "code",
   "execution_count": 141,
   "id": "b5f61c8d-6681-420c-aa20-c960a4672c44",
   "metadata": {},
   "outputs": [
    {
     "name": "stdout",
     "output_type": "stream",
     "text": [
      "              precision    recall  f1-score   support\n",
      "\n",
      "           0       0.77      0.99      0.87      2791\n",
      "           1       0.52      0.04      0.08       843\n",
      "\n",
      "    accuracy                           0.77      3634\n",
      "   macro avg       0.65      0.52      0.47      3634\n",
      "weighted avg       0.72      0.77      0.69      3634\n",
      "\n",
      "AUC: 65.082%\n"
     ]
    }
   ],
   "source": [
    "pred = best_rf.predict(x_test)\n",
    "pred_proba = best_rf.predict_proba(x_test)\n",
    "print(classification_report(y_test, pred))\n",
    "print(f\"AUC: {roc_auc_score(y_test, pred_proba[:, 1])*100:.3f}%\")"
   ]
  },
  {
   "cell_type": "code",
   "execution_count": null,
   "id": "c6485564-8dd1-4c46-bb2d-e5a7bcb1bec5",
   "metadata": {},
   "outputs": [],
   "source": [
    "model = RandomForestClassifier(n_estimators=n_estimators, random_state=42, n_jobs=-1) \n",
    "\n",
    "n_splits = 10\n",
    "r_scores = np.zeros(n_splits)\n",
    "auc_scores = np.zeros(n_splits)\n",
    "\n",
    "skfolds = StratifiedKFold(n_splits=n_splits, random_state=42, shuffle=True)\n",
    "\n",
    "i = 0\n",
    "for train_index, test_index in skfolds.split(x_train, y_train): \n",
    "    clone_clf = clone(model)\n",
    "    X_train_folds = x_train[train_index]\n",
    "    y_train_folds = (y_train[train_index])\n",
    "    X_test_fold = x_train[test_index] \n",
    "    y_test_fold = (y_train[test_index])\n",
    "    clone_clf.fit(X_train_folds, y_train_folds)\n",
    "    y_pred_proba = clone_clf.predict_proba(X_test_fold)\n",
    "    y_pred = clone_clf.predict(X_test_fold)\n",
    "    r_scores[i] = recall_score(y_test_fold, y_pred)\n",
    "    auc_scores[i] = roc_auc_score(y_test_fold, y_pred_proba[:,1])\n",
    "    i += 1\n",
    "    \n",
    "print(np.mean(r_scores), \"+/1\", np.std(r_scores))\n",
    "print(np.mean(auc_scores), \"+/1\", np.std(auc_scores))"
   ]
  },
  {
   "cell_type": "markdown",
   "id": "3df6f572-7c10-4041-b34f-81854301ca27",
   "metadata": {},
   "source": [
    "***"
   ]
  },
  {
   "cell_type": "code",
   "execution_count": 142,
   "id": "d089fb75-d955-4148-bd82-20409e555039",
   "metadata": {
    "tags": []
   },
   "outputs": [
    {
     "data": {
      "text/plain": [
       "BalancedRandomForestClassifier(n_estimators=5000, n_jobs=-1, random_state=42)"
      ]
     },
     "execution_count": 142,
     "metadata": {},
     "output_type": "execute_result"
    }
   ],
   "source": [
    "best_brf = BalancedRandomForestClassifier(n_estimators=n_estimators, random_state=42, n_jobs=-1)  \n",
    "best_brf.fit(x_train, y_train)"
   ]
  },
  {
   "cell_type": "code",
   "execution_count": 143,
   "id": "090c8f41-9244-4c7e-a672-fbfa250a0a1d",
   "metadata": {
    "tags": []
   },
   "outputs": [
    {
     "name": "stdout",
     "output_type": "stream",
     "text": [
      "              precision    recall  f1-score   support\n",
      "\n",
      "           0       0.84      0.61      0.71      2791\n",
      "           1       0.32      0.60      0.42       843\n",
      "\n",
      "    accuracy                           0.61      3634\n",
      "   macro avg       0.58      0.61      0.56      3634\n",
      "weighted avg       0.72      0.61      0.64      3634\n",
      "\n",
      "AUC: 66.245%\n"
     ]
    }
   ],
   "source": [
    "pred = best_brf.predict(x_test)\n",
    "pred_proba = best_brf.predict_proba(x_test)\n",
    "print(classification_report(y_test, pred))\n",
    "print(f\"AUC: {roc_auc_score(y_test, pred_proba[:, 1])*100:.3f}%\")"
   ]
  },
  {
   "cell_type": "code",
   "execution_count": null,
   "id": "49634c44-9729-4e11-a0c4-968645b3abdf",
   "metadata": {},
   "outputs": [],
   "source": [
    "model = BalancedRandomForestClassifier(n_estimators=n_estimators, random_state=42, n_jobs=-1) \n",
    "\n",
    "n_splits = 10\n",
    "r_scores = np.zeros(n_splits)\n",
    "auc_scores = np.zeros(n_splits)\n",
    "\n",
    "skfolds = StratifiedKFold(n_splits=n_splits, random_state=42, shuffle=True)\n",
    "\n",
    "i = 0\n",
    "for train_index, test_index in skfolds.split(x_train, y_train): \n",
    "    clone_clf = clone(model)\n",
    "    X_train_folds = x_train[train_index]\n",
    "    y_train_folds = (y_train[train_index])\n",
    "    X_test_fold = x_train[test_index] \n",
    "    y_test_fold = (y_train[test_index])\n",
    "    clone_clf.fit(X_train_folds, y_train_folds)\n",
    "    y_pred_proba = clone_clf.predict_proba(X_test_fold)\n",
    "    y_pred = clone_clf.predict(X_test_fold)\n",
    "    r_scores[i] = recall_score(y_test_fold, y_pred)\n",
    "    auc_scores[i] = roc_auc_score(y_test_fold, y_pred_proba[:,1])\n",
    "    i += 1\n",
    "    \n",
    "print(np.mean(r_scores), \"+/1\", np.std(r_scores))\n",
    "print(np.mean(auc_scores), \"+/1\", np.std(auc_scores))"
   ]
  },
  {
   "cell_type": "markdown",
   "id": "b2a31dd4-3b79-4eeb-99df-ffab6c0eb6e0",
   "metadata": {},
   "source": [
    "***"
   ]
  },
  {
   "cell_type": "markdown",
   "id": "50a83f33-532a-41d9-b1fb-fe78815e04eb",
   "metadata": {},
   "source": [
    "**Keep first 10 PCs**"
   ]
  },
  {
   "cell_type": "code",
   "execution_count": 144,
   "id": "feee4147-f079-4dab-97ed-bbf9cfe076ae",
   "metadata": {},
   "outputs": [
    {
     "data": {
      "text/plain": [
       "RandomForestClassifier(n_estimators=5000, n_jobs=-1, random_state=42)"
      ]
     },
     "execution_count": 144,
     "metadata": {},
     "output_type": "execute_result"
    }
   ],
   "source": [
    "X_conf_pca_best = X_conf_pca[:, :10]\n",
    "# Sum of mutations, age, and best PCs\n",
    "X = np.c_[X_occ, X_age, X_conf_pca_best]\n",
    "x_train, x_test, y_train, y_test = train_test_split(X, Y, test_size=0.2, random_state=42)\n",
    "\n",
    "# model\n",
    "best_rf_2 = RandomForestClassifier(n_estimators=n_estimators, random_state=42, n_jobs=-1)  \n",
    "best_rf_2.fit(x_train, y_train)"
   ]
  },
  {
   "cell_type": "code",
   "execution_count": 145,
   "id": "7bc18877-64ff-4cf4-9e20-282d3d76c292",
   "metadata": {},
   "outputs": [
    {
     "name": "stdout",
     "output_type": "stream",
     "text": [
      "              precision    recall  f1-score   support\n",
      "\n",
      "           0       0.78      0.99      0.87      2791\n",
      "           1       0.60      0.06      0.11       843\n",
      "\n",
      "    accuracy                           0.77      3634\n",
      "   macro avg       0.69      0.52      0.49      3634\n",
      "weighted avg       0.73      0.77      0.69      3634\n",
      "\n",
      "AUC: 66.520%\n"
     ]
    }
   ],
   "source": [
    "pred = best_rf_2.predict(x_test)\n",
    "pred_proba = best_rf_2.predict_proba(x_test)\n",
    "print(classification_report(y_test, pred))\n",
    "print(f\"AUC: {roc_auc_score(y_test, pred_proba[:, 1])*100:.3f}%\")"
   ]
  },
  {
   "cell_type": "markdown",
   "id": "902e9eb0-9760-4bc7-92a1-0b2c5bafb499",
   "metadata": {},
   "source": [
    "***"
   ]
  },
  {
   "cell_type": "code",
   "execution_count": 146,
   "id": "aca49b73-de12-4a07-ba21-2ebc45c5f8ab",
   "metadata": {
    "tags": []
   },
   "outputs": [
    {
     "data": {
      "text/plain": [
       "BalancedRandomForestClassifier(n_estimators=5000, n_jobs=-1, random_state=42)"
      ]
     },
     "execution_count": 146,
     "metadata": {},
     "output_type": "execute_result"
    }
   ],
   "source": [
    "best_brf_2 = BalancedRandomForestClassifier(n_estimators=n_estimators, random_state=42, n_jobs=-1)  \n",
    "best_brf_2.fit(x_train, y_train)"
   ]
  },
  {
   "cell_type": "code",
   "execution_count": 147,
   "id": "77f48814-bc7c-4340-ba96-7fa0c729de8a",
   "metadata": {
    "tags": []
   },
   "outputs": [
    {
     "name": "stdout",
     "output_type": "stream",
     "text": [
      "              precision    recall  f1-score   support\n",
      "\n",
      "           0       0.85      0.61      0.71      2791\n",
      "           1       0.33      0.63      0.43       843\n",
      "\n",
      "    accuracy                           0.62      3634\n",
      "   macro avg       0.59      0.62      0.57      3634\n",
      "weighted avg       0.73      0.62      0.65      3634\n",
      "\n",
      "AUC: 67.639%\n"
     ]
    }
   ],
   "source": [
    "pred = best_brf_2.predict(x_test)\n",
    "pred_proba = best_brf_2.predict_proba(x_test)\n",
    "print(classification_report(y_test, pred))\n",
    "print(f\"AUC: {roc_auc_score(y_test, pred_proba[:, 1])*100:.3f}%\")"
   ]
  },
  {
   "cell_type": "markdown",
   "id": "d92422f6-6057-447a-a529-4befbea06977",
   "metadata": {},
   "source": [
    "***\n",
    "**Sensitivity.** True positive rate. Proportion of identified positives out of all positives.  \n",
    "**Specificity.** True negative rate. Proportion of identified negatives out of all negatives.   \n",
    "**Precsision.** Proportion of positive identifications that are correct.  \n",
    "**Recall.** Proportion of positives that have been correctly identified.  "
   ]
  },
  {
   "cell_type": "code",
   "execution_count": 104,
   "id": "48e0e80e-793f-427b-9bb1-534f632152ec",
   "metadata": {},
   "outputs": [
    {
     "name": "stdout",
     "output_type": "stream",
     "text": [
      "(array([0.99390899, 0.03795967]), array([0.03795967, 0.99390899]), array([2791,  843]))\n"
     ]
    }
   ],
   "source": [
    "from imblearn.metrics import sensitivity_specificity_support\n",
    "\n",
    "print(sensitivity_specificity_support(y_test, pred, labels=[0,1]))"
   ]
  },
  {
   "cell_type": "code",
   "execution_count": 110,
   "id": "c6926705-f660-4596-b5e0-9ab09abf49dd",
   "metadata": {},
   "outputs": [
    {
     "name": "stdout",
     "output_type": "stream",
     "text": [
      "                   pre       rec       spe        f1       geo       iba       sup\n",
      "\n",
      "          0       0.84      0.65      0.58      0.73      0.61      0.38      2791\n",
      "          1       0.33      0.58      0.65      0.42      0.61      0.37       843\n",
      "\n",
      "avg / total       0.72      0.63      0.60      0.66      0.61      0.38      3634\n",
      "\n"
     ]
    }
   ],
   "source": [
    "from imblearn.metrics import classification_report_imbalanced\n",
    "\n",
    "print(classification_report_imbalanced(y_test, pred))"
   ]
  },
  {
   "cell_type": "code",
   "execution_count": 109,
   "id": "a5de8076-e9fe-4875-9149-f391e86786db",
   "metadata": {},
   "outputs": [
    {
     "data": {
      "image/png": "[encoded data removed]",
      "text/plain": [
       "<Figure size 576x288 with 2 Axes>"
      ]
     },
     "metadata": {},
     "output_type": "display_data"
    }
   ],
   "source": [
    "class_names = [\"negative\", \"positive\"]\n",
    "matrix = confusion_matrix(y_test, pred)\n",
    "matrix = matrix.astype(\"float\") / matrix.sum(axis=1)[:, np.newaxis]  # normalize\n",
    "\n",
    "plt.figure(figsize=(8, 4))\n",
    "sns.set(font_scale=1.4)\n",
    "sns.heatmap(matrix, annot=True, annot_kws={\"size\": 10}, cmap=plt.cm.Greens, linewidths=0.2)\n",
    "\n",
    "tick_marks = np.arange(len(class_names))\n",
    "tick_marks2 = tick_marks + 0.5\n",
    "plt.xticks(tick_marks, class_names, rotation=25)\n",
    "plt.yticks(tick_marks2, class_names, rotation=0)\n",
    "plt.xlabel(\"Predicted label\")\n",
    "plt.ylabel(\"True label\")\n",
    "plt.title(\"Confusion Matrix for Balanced Random Forest Model\")\n",
    "plt.show()"
   ]
  },
  {
   "cell_type": "code",
   "execution_count": null,
   "id": "f80dc58f-61e6-4f76-b21b-4f9d865a84ac",
   "metadata": {},
   "outputs": [],
   "source": []
  }
 ],
 "metadata": {
  "kernelspec": {
   "display_name": "Python [conda env:ml_venv]",
   "language": "python",
   "name": "conda-env-ml_venv-py"
  },
  "language_info": {
   "codemirror_mode": {
    "name": "ipython",
    "version": 3
   },
   "file_extension": ".py",
   "mimetype": "text/x-python",
   "name": "python",
   "nbconvert_exporter": "python",
   "pygments_lexer": "ipython3",
   "version": "3.7.7"
  }
 },
 "nbformat": 4,
 "nbformat_minor": 5
}
