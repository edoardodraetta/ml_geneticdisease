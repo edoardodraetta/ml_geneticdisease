{
 "cells": [
  {
   "cell_type": "code",
   "execution_count": 2,
   "id": "b3ffa83a-f7a0-44c5-bd63-2d9e828fb6a5",
   "metadata": {},
   "outputs": [],
   "source": [
    "import matplotlib.pyplot as plt\n",
    "import numpy as np\n",
    "import pandas as pd\n",
    "import seaborn as sns\n",
    "\n",
    "pd.set_option(\"display.max_columns\", 85)"
   ]
  },
  {
   "cell_type": "code",
   "execution_count": 3,
   "id": "ab52bebb-7d07-4fde-9771-f005b59a001d",
   "metadata": {},
   "outputs": [],
   "source": [
    "def fetch_data(drop_some=True):\n",
    "    df = pd.read_csv(\"../data/abnormal_writeout.data.csv\")\n",
    "    if drop_some:\n",
    "        # trascurare da ACC a UVM\n",
    "        start_drop = df.columns.get_loc(\"ACC\")\n",
    "        end_drop = df.columns.get_loc(\"UVM\")\n",
    "        cols = np.arange(start_drop, end_drop + 1)\n",
    "        df.drop(df.columns[cols], axis=1, inplace=True)\n",
    "        # trascurare old_phylo_factor, ttt_freq e la prima colonna\n",
    "        df.drop(\"TTT_freq\", axis=1, inplace=True)\n",
    "        df.drop(\"oldest_phylostratum_factor\", axis=1, inplace=True)\n",
    "        df.drop(\"Unnamed: 0\", axis=1, inplace=True)\n",
    "\n",
    "        # Drop NaNs\n",
    "        df.dropna(inplace=True)\n",
    "    return df\n",
    "\n",
    "\n",
    "def separate_data(df):\n",
    "    resp = df[\"response\"].to_numpy()\n",
    "    occ = df[\"occ_total_sum\"]\n",
    "    age = df[\"oldest_phylostratum\"].to_numpy()\n",
    "    conf = df.drop(labels=[\"response\", \"occ_total_sum\", \"oldest_phylostratum\"], axis=1).to_numpy()\n",
    "    return occ, age, conf, resp"
   ]
  },
  {
   "cell_type": "markdown",
   "id": "fe967fc4-d6fd-4aa3-80ed-9c1d0ba56b7c",
   "metadata": {},
   "source": [
    "# RF da variabili originali standardizzate, con parametri di default"
   ]
  },
  {
   "cell_type": "markdown",
   "id": "9e04b717-8055-423a-9fa3-02140dedbabe",
   "metadata": {},
   "source": [
    "## Data\n",
    "\n",
    "* Incoming datafile has been previously standardized.\n",
    "* Columns from \"ACC\" to \"UVM\" are subsequently dropped.\n",
    "* Column \"oldest_phylostratum_factor\" is dropped.\n",
    "* **Column \"TTT_freq\" is dropped**, because it is colinear with the other trinucleotide frequencies.\n",
    "* **PCA is NOT applied.**\n",
    "* An 80:20 train-test split is applied. "
   ]
  },
  {
   "cell_type": "code",
   "execution_count": 8,
   "id": "cc66a51a-cab1-4caa-a6e3-d6eaf0e6d5c1",
   "metadata": {},
   "outputs": [
    {
     "name": "stdout",
     "output_type": "stream",
     "text": [
      "Feature matrix shape: (14536, 83) (3634, 83)\n"
     ]
    }
   ],
   "source": [
    "from sklearn.model_selection import train_test_split\n",
    "\n",
    "# Data\n",
    "df = fetch_data()  # Get\n",
    "df.dropna(inplace=True)  # Clean\n",
    "X_occ, X_age, X_conf, Y = separate_data(df)  # Separate\n",
    "\n",
    "# All features and most confounders\n",
    "X = np.c_[X_occ, X_age, X_conf]\n",
    "X_train, X_test, y_train, y_test = train_test_split(X, Y, test_size=0.2, random_state=42)\n",
    "print(\"Feature matrix shape:\", x_train.shape, x_test.shape)"
   ]
  },
  {
   "cell_type": "code",
   "execution_count": 9,
   "id": "7d485aa8-27a6-4b33-8f39-308e240d984b",
   "metadata": {},
   "outputs": [],
   "source": [
    "from sklearn.metrics import auc, make_scorer, precision_recall_curve\n",
    "\n",
    "\n",
    "# area under the precision curve + area under the recall curve\n",
    "def auprc(y_true, y_scores, **kwargs):\n",
    "    precisions, recalls, thresholds = precision_recall_curve(y_true, y_scores)\n",
    "    # result is sum of the areas under each curve\n",
    "    return auc(thresholds, precisions[:-1]) + auc(thresholds, recalls[:-1])"
   ]
  },
  {
   "cell_type": "markdown",
   "id": "056232bc-fea0-4a16-8548-c317b42f9466",
   "metadata": {},
   "source": [
    "## Cross-Validation"
   ]
  },
  {
   "cell_type": "code",
   "execution_count": 20,
   "id": "bbee1789-6d40-4508-8556-b9c16f0ab98e",
   "metadata": {},
   "outputs": [
    {
     "name": "stdout",
     "output_type": "stream",
     "text": [
      "RF w/o PCA:\n",
      "ROC-AUC : 0.6691 +/- 0.0135\n",
      "Precision : 0.6202 +/- 0.1339\n",
      "Recall : 0.0307 +/- 0.0086\n",
      "f1-score : 0.0583 +/- 0.0160\n",
      "AUPRC : 0.5002 +/- 0.0600\n"
     ]
    }
   ],
   "source": [
    "from sklearn.ensemble import RandomForestClassifier\n",
    "from sklearn.model_selection import cross_val_score\n",
    "\n",
    "\n",
    "my_metrics = {\n",
    "    \"ROC-AUC\": \"roc_auc\",\n",
    "    \"Precision\": \"precision\",\n",
    "    \"Recall\": \"recall\",\n",
    "    \"f1-score\": \"f1\",\n",
    "    \"AUPRC\": make_scorer(auprc, needs_proba=True,),  # custom: area under precision-recall-curve\n",
    "}\n",
    "\n",
    "model = RandomForestClassifier(n_estimators=200, random_state=0, n_jobs=-1)\n",
    "\n",
    "scores_df = pd.DataFrame()\n",
    "\n",
    "print(\"RF w/o PCA:\")\n",
    "for score_name in my_metrics:\n",
    "    cvs = cross_val_score(model, X_train, y_train, scoring=my_metrics[score_name], cv=10)\n",
    "    scores_df[score_name] = cvs\n",
    "    print(score_name + f\" : {cvs.mean():.4f} +/- {cvs.std():.4f}\")"
   ]
  },
  {
   "cell_type": "code",
   "execution_count": 21,
   "id": "d2fddf8e-c597-4ea0-9fee-f296610255b9",
   "metadata": {},
   "outputs": [
    {
     "data": {
      "text/html": [
       "<div>\n",
       "<style scoped>\n",
       "    .dataframe tbody tr th:only-of-type {\n",
       "        vertical-align: middle;\n",
       "    }\n",
       "\n",
       "    .dataframe tbody tr th {\n",
       "        vertical-align: top;\n",
       "    }\n",
       "\n",
       "    .dataframe thead th {\n",
       "        text-align: right;\n",
       "    }\n",
       "</style>\n",
       "<table border=\"1\" class=\"dataframe\">\n",
       "  <thead>\n",
       "    <tr style=\"text-align: right;\">\n",
       "      <th></th>\n",
       "      <th>ROC-AUC</th>\n",
       "      <th>Precision</th>\n",
       "      <th>Recall</th>\n",
       "      <th>f1-score</th>\n",
       "      <th>AUPRC</th>\n",
       "    </tr>\n",
       "  </thead>\n",
       "  <tbody>\n",
       "    <tr>\n",
       "      <th>0</th>\n",
       "      <td>0.662510</td>\n",
       "      <td>0.529412</td>\n",
       "      <td>0.027356</td>\n",
       "      <td>0.052023</td>\n",
       "      <td>0.506235</td>\n",
       "    </tr>\n",
       "    <tr>\n",
       "      <th>1</th>\n",
       "      <td>0.676758</td>\n",
       "      <td>0.722222</td>\n",
       "      <td>0.039514</td>\n",
       "      <td>0.074928</td>\n",
       "      <td>0.486243</td>\n",
       "    </tr>\n",
       "    <tr>\n",
       "      <th>2</th>\n",
       "      <td>0.664112</td>\n",
       "      <td>0.833333</td>\n",
       "      <td>0.030395</td>\n",
       "      <td>0.058651</td>\n",
       "      <td>0.589238</td>\n",
       "    </tr>\n",
       "    <tr>\n",
       "      <th>3</th>\n",
       "      <td>0.646717</td>\n",
       "      <td>0.533333</td>\n",
       "      <td>0.024316</td>\n",
       "      <td>0.046512</td>\n",
       "      <td>0.459107</td>\n",
       "    </tr>\n",
       "    <tr>\n",
       "      <th>4</th>\n",
       "      <td>0.673722</td>\n",
       "      <td>0.526316</td>\n",
       "      <td>0.030395</td>\n",
       "      <td>0.057471</td>\n",
       "      <td>0.525462</td>\n",
       "    </tr>\n",
       "    <tr>\n",
       "      <th>5</th>\n",
       "      <td>0.683635</td>\n",
       "      <td>0.846154</td>\n",
       "      <td>0.033333</td>\n",
       "      <td>0.064140</td>\n",
       "      <td>0.570656</td>\n",
       "    </tr>\n",
       "    <tr>\n",
       "      <th>6</th>\n",
       "      <td>0.669988</td>\n",
       "      <td>0.500000</td>\n",
       "      <td>0.027356</td>\n",
       "      <td>0.051873</td>\n",
       "      <td>0.432852</td>\n",
       "    </tr>\n",
       "    <tr>\n",
       "      <th>7</th>\n",
       "      <td>0.673436</td>\n",
       "      <td>0.444444</td>\n",
       "      <td>0.012158</td>\n",
       "      <td>0.023669</td>\n",
       "      <td>0.385320</td>\n",
       "    </tr>\n",
       "    <tr>\n",
       "      <th>8</th>\n",
       "      <td>0.691437</td>\n",
       "      <td>0.600000</td>\n",
       "      <td>0.045593</td>\n",
       "      <td>0.084746</td>\n",
       "      <td>0.552648</td>\n",
       "    </tr>\n",
       "    <tr>\n",
       "      <th>9</th>\n",
       "      <td>0.648321</td>\n",
       "      <td>0.666667</td>\n",
       "      <td>0.036474</td>\n",
       "      <td>0.069164</td>\n",
       "      <td>0.494389</td>\n",
       "    </tr>\n",
       "  </tbody>\n",
       "</table>\n",
       "</div>"
      ],
      "text/plain": [
       "    ROC-AUC  Precision    Recall  f1-score     AUPRC\n",
       "0  0.662510   0.529412  0.027356  0.052023  0.506235\n",
       "1  0.676758   0.722222  0.039514  0.074928  0.486243\n",
       "2  0.664112   0.833333  0.030395  0.058651  0.589238\n",
       "3  0.646717   0.533333  0.024316  0.046512  0.459107\n",
       "4  0.673722   0.526316  0.030395  0.057471  0.525462\n",
       "5  0.683635   0.846154  0.033333  0.064140  0.570656\n",
       "6  0.669988   0.500000  0.027356  0.051873  0.432852\n",
       "7  0.673436   0.444444  0.012158  0.023669  0.385320\n",
       "8  0.691437   0.600000  0.045593  0.084746  0.552648\n",
       "9  0.648321   0.666667  0.036474  0.069164  0.494389"
      ]
     },
     "execution_count": 21,
     "metadata": {},
     "output_type": "execute_result"
    }
   ],
   "source": [
    "scores_df"
   ]
  },
  {
   "cell_type": "code",
   "execution_count": 22,
   "id": "2937d182-6935-43ad-818f-5d7292d1c9b2",
   "metadata": {},
   "outputs": [
    {
     "data": {
      "text/html": [
       "<div>\n",
       "<style scoped>\n",
       "    .dataframe tbody tr th:only-of-type {\n",
       "        vertical-align: middle;\n",
       "    }\n",
       "\n",
       "    .dataframe tbody tr th {\n",
       "        vertical-align: top;\n",
       "    }\n",
       "\n",
       "    .dataframe thead th {\n",
       "        text-align: right;\n",
       "    }\n",
       "</style>\n",
       "<table border=\"1\" class=\"dataframe\">\n",
       "  <thead>\n",
       "    <tr style=\"text-align: right;\">\n",
       "      <th></th>\n",
       "      <th>ROC-AUC</th>\n",
       "      <th>Precision</th>\n",
       "      <th>Recall</th>\n",
       "      <th>f1-score</th>\n",
       "      <th>AUPRC</th>\n",
       "    </tr>\n",
       "  </thead>\n",
       "  <tbody>\n",
       "    <tr>\n",
       "      <th>count</th>\n",
       "      <td>10.000000</td>\n",
       "      <td>10.000000</td>\n",
       "      <td>10.000000</td>\n",
       "      <td>10.000000</td>\n",
       "      <td>10.000000</td>\n",
       "    </tr>\n",
       "    <tr>\n",
       "      <th>mean</th>\n",
       "      <td>0.669064</td>\n",
       "      <td>0.620188</td>\n",
       "      <td>0.030689</td>\n",
       "      <td>0.058318</td>\n",
       "      <td>0.500215</td>\n",
       "    </tr>\n",
       "    <tr>\n",
       "      <th>std</th>\n",
       "      <td>0.014185</td>\n",
       "      <td>0.141184</td>\n",
       "      <td>0.009110</td>\n",
       "      <td>0.016825</td>\n",
       "      <td>0.063217</td>\n",
       "    </tr>\n",
       "    <tr>\n",
       "      <th>min</th>\n",
       "      <td>0.646717</td>\n",
       "      <td>0.444444</td>\n",
       "      <td>0.012158</td>\n",
       "      <td>0.023669</td>\n",
       "      <td>0.385320</td>\n",
       "    </tr>\n",
       "    <tr>\n",
       "      <th>25%</th>\n",
       "      <td>0.662911</td>\n",
       "      <td>0.527090</td>\n",
       "      <td>0.027356</td>\n",
       "      <td>0.051911</td>\n",
       "      <td>0.465891</td>\n",
       "    </tr>\n",
       "    <tr>\n",
       "      <th>50%</th>\n",
       "      <td>0.671712</td>\n",
       "      <td>0.566667</td>\n",
       "      <td>0.030395</td>\n",
       "      <td>0.058061</td>\n",
       "      <td>0.500312</td>\n",
       "    </tr>\n",
       "    <tr>\n",
       "      <th>75%</th>\n",
       "      <td>0.675999</td>\n",
       "      <td>0.708333</td>\n",
       "      <td>0.035689</td>\n",
       "      <td>0.067908</td>\n",
       "      <td>0.545852</td>\n",
       "    </tr>\n",
       "    <tr>\n",
       "      <th>max</th>\n",
       "      <td>0.691437</td>\n",
       "      <td>0.846154</td>\n",
       "      <td>0.045593</td>\n",
       "      <td>0.084746</td>\n",
       "      <td>0.589238</td>\n",
       "    </tr>\n",
       "  </tbody>\n",
       "</table>\n",
       "</div>"
      ],
      "text/plain": [
       "         ROC-AUC  Precision     Recall   f1-score      AUPRC\n",
       "count  10.000000  10.000000  10.000000  10.000000  10.000000\n",
       "mean    0.669064   0.620188   0.030689   0.058318   0.500215\n",
       "std     0.014185   0.141184   0.009110   0.016825   0.063217\n",
       "min     0.646717   0.444444   0.012158   0.023669   0.385320\n",
       "25%     0.662911   0.527090   0.027356   0.051911   0.465891\n",
       "50%     0.671712   0.566667   0.030395   0.058061   0.500312\n",
       "75%     0.675999   0.708333   0.035689   0.067908   0.545852\n",
       "max     0.691437   0.846154   0.045593   0.084746   0.589238"
      ]
     },
     "execution_count": 22,
     "metadata": {},
     "output_type": "execute_result"
    }
   ],
   "source": [
    "scores_df.describe()"
   ]
  },
  {
   "cell_type": "markdown",
   "id": "2a792407-6594-4170-972b-fd3b6f056314",
   "metadata": {},
   "source": [
    "The following cell loads the gridsearch scores from another notebook and performs a ttest on two important scores."
   ]
  },
  {
   "cell_type": "code",
   "execution_count": 29,
   "id": "f9dc211d-2e4d-4aa2-90fb-156de8251f07",
   "metadata": {},
   "outputs": [
    {
     "name": "stdout",
     "output_type": "stream",
     "text": [
      "T-test b/w non-pca and pca RF (ROC-AUC):\n",
      "Ttest_indResult(statistic=4.412224185918338, pvalue=0.00033625012711190896)\n",
      "\n",
      "T-test b/w non-pca and pca RF (AUPRC):\n",
      "Ttest_indResult(statistic=0.8449343978978487, pvalue=0.4092382673140642)\n"
     ]
    }
   ],
   "source": [
    "from scipy.stats import ttest_ind\n",
    "\n",
    "rf_df = pd.read_csv(\"./data/rf_scores_df\") # \"Random Forest\": RandomForestClassifier(n_estimators=200, random_state=42, n_jobs=-1),\n",
    "# brf_df = pd.read_csv(\"./data/brf_scores_df\")\n",
    "\n",
    "print(\"T-test b/w non-pca and pca RF (ROC-AUC):\")\n",
    "A = scores_df[\"ROC-AUC\"].to_numpy()\n",
    "B = rf_df[\"ROC-AUC\"].to_numpy()\n",
    "print(ttest_ind(A, B))\n",
    "print()\n",
    "print(\"T-test b/w non-pca and pca RF (AUPRC):\")\n",
    "A = scores_df.AUPRC.to_numpy()\n",
    "B = rf_df.AUPRC.to_numpy()\n",
    "print(ttest_ind(A, B))"
   ]
  },
  {
   "cell_type": "code",
   "execution_count": 30,
   "id": "f4d381d2-9f44-4fc1-9a3e-eedda9b14e2b",
   "metadata": {},
   "outputs": [
    {
     "name": "stdout",
     "output_type": "stream",
     "text": [
      "ROC-AUC      0.669064\n",
      "Precision    0.620188\n",
      "Recall       0.030689\n",
      "f1-score     0.058318\n",
      "AUPRC        0.500215\n",
      "dtype: float64\n",
      "\n",
      "ROC-AUC      0.004486\n",
      "Precision    0.044646\n",
      "Recall       0.002881\n",
      "f1-score     0.005321\n",
      "AUPRC        0.019991\n",
      "dtype: float64\n"
     ]
    }
   ],
   "source": [
    "print(scores_df.mean())\n",
    "print()\n",
    "print(scores_df.sem())"
   ]
  },
  {
   "cell_type": "code",
   "execution_count": 31,
   "id": "f469552a-bae6-4c32-a8eb-b035ba70068d",
   "metadata": {},
   "outputs": [
    {
     "name": "stdout",
     "output_type": "stream",
     "text": [
      "ROC-AUC      0.646292\n",
      "Precision    0.619411\n",
      "Recall       0.034037\n",
      "f1-score     0.064258\n",
      "AUPRC        0.479602\n",
      "dtype: float64\n",
      "\n",
      "ROC-AUC      0.002552\n",
      "Precision    0.036289\n",
      "Recall       0.003761\n",
      "f1-score     0.006806\n",
      "AUPRC        0.013982\n",
      "dtype: float64\n"
     ]
    }
   ],
   "source": [
    "print(rf_df.mean())\n",
    "print()\n",
    "print(rf_df.sem())"
   ]
  },
  {
   "cell_type": "code",
   "execution_count": null,
   "id": "3c2596c6-a362-4ad7-ac23-e4b255e17a90",
   "metadata": {},
   "outputs": [],
   "source": []
  }
 ],
 "metadata": {
  "kernelspec": {
   "display_name": "Python [conda env:ml_venv]",
   "language": "python",
   "name": "conda-env-ml_venv-py"
  },
  "language_info": {
   "codemirror_mode": {
    "name": "ipython",
    "version": 3
   },
   "file_extension": ".py",
   "mimetype": "text/x-python",
   "name": "python",
   "nbconvert_exporter": "python",
   "pygments_lexer": "ipython3",
   "version": "3.7.7"
  }
 },
 "nbformat": 4,
 "nbformat_minor": 5
}
