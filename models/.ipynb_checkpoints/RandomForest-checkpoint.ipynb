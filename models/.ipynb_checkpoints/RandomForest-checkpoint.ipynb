{
 "cells": [
  {
   "cell_type": "markdown",
   "id": "0ca5c642-a8b1-4225-8bf9-e0399621e4a3",
   "metadata": {},
   "source": [
    "# Random Forest\n",
    "\n",
    "This notebook contains assessment of a random forest classifier. \n",
    "\n",
    "The data is obtained using 85 columns of `abnormal_writeout.data.csv`. \n",
    "\n",
    "Most of these 85 columns are highly colinear \"confounder\" variables against which we are comparing the `occ_total_sum` (total mutations of the gene across all cancers) and `oldest_phylostratum` (evolutionary age of the gene) variables. We apply PCA to the confounder variables and keep PCs up to 95% explained variance."
   ]
  },
  {
   "cell_type": "code",
   "execution_count": 1,
   "id": "1fc9a1d1-276c-4a6a-bc1e-6176e61946b0",
   "metadata": {},
   "outputs": [],
   "source": [
    "import matplotlib.pyplot as plt\n",
    "import numpy as np\n",
    "import pandas as pd\n",
    "import seaborn as sns\n",
    "\n",
    "pd.set_option(\"display.max_columns\", 85)"
   ]
  },
  {
   "cell_type": "code",
   "execution_count": 2,
   "id": "76673338-2cc5-4e45-ba90-c425094cf532",
   "metadata": {},
   "outputs": [],
   "source": [
    "def fetch_data(drop_some=True):\n",
    "\n",
    "    df = pd.read_csv(\"../data/abnormal_writeout.data.csv\")\n",
    "\n",
    "    if drop_some:\n",
    "        # trascurare da ACC a UVM\n",
    "        start_drop = df.columns.get_loc(\"ACC\")\n",
    "        end_drop = df.columns.get_loc(\"UVM\")\n",
    "        cols = np.arange(start_drop, end_drop + 1)\n",
    "        df.drop(df.columns[cols], axis=1, inplace=True)\n",
    "\n",
    "        # trascurare old_phylo_factor e la prima colonna\n",
    "        df.drop(\"oldest_phylostratum_factor\", axis=1, inplace=True)\n",
    "        df.drop(\"Unnamed: 0\", axis=1, inplace=True)\n",
    "\n",
    "    return df\n",
    "\n",
    "\n",
    "def separate_data(df):\n",
    "    resp = df[\"response\"]\n",
    "    occ = df[\"occ_total_sum\"]\n",
    "    age = df[\"oldest_phylostratum\"]\n",
    "    conf = df.drop(labels=[\"response\", \"occ_total_sum\", \"oldest_phylostratum\"], axis=1)\n",
    "    return occ, age, conf, resp\n",
    "\n",
    "\n",
    "def get_PCA(X, expl_var=0.95, plot=False):\n",
    "\n",
    "    pca_test = PCA()\n",
    "    pca_test.fit(X)\n",
    "    cumsum = np.cumsum(pca_test.explained_variance_ratio_)\n",
    "    d = np.argmax(cumsum >= expl_var) + 1\n",
    "\n",
    "    # Apply PCA with d components\n",
    "    pca_apply = PCA(n_components=d)\n",
    "    X_PCA = pca_apply.fit_transform(X)\n",
    "\n",
    "    print(\"Using {} principal components.\".format(d))\n",
    "    if plot == True:\n",
    "        sns.heatmap(pd.DataFrame(X_PCA).corr())\n",
    "        plt.show()\n",
    "\n",
    "    return X_PCA"
   ]
  },
  {
   "cell_type": "markdown",
   "id": "d99b731a-1125-481f-9e57-9f31e888219a",
   "metadata": {},
   "source": [
    "### Import, Clean, and apply PCA to data\n",
    "\n",
    "* Start with first 85 features\n",
    "* Apply PCA to confounding factors\n",
    "* Keep PCs up to 95% explained variance "
   ]
  },
  {
   "cell_type": "code",
   "execution_count": 3,
   "id": "176f3960-2ce2-4262-b44a-2ea23e73bc40",
   "metadata": {},
   "outputs": [
    {
     "name": "stdout",
     "output_type": "stream",
     "text": [
      "Using 47 principal components.\n"
     ]
    },
    {
     "data": {
      "image/png": "[encoded data removed]",
      "text/plain": [
       "<Figure size 432x288 with 2 Axes>"
      ]
     },
     "metadata": {
      "needs_background": "light"
     },
     "output_type": "display_data"
    },
    {
     "name": "stdout",
     "output_type": "stream",
     "text": [
      "Using a random forest.\n"
     ]
    }
   ],
   "source": [
    "from sklearn.decomposition import PCA\n",
    "from sklearn.ensemble import RandomForestClassifier\n",
    "from sklearn.model_selection import train_test_split\n",
    "\n",
    "# Data\n",
    "df = fetch_data()  # Get\n",
    "df.dropna(inplace=True)  # Clean\n",
    "X_occ, X_age, X_conf, Y = separate_data(df)  # Separate\n",
    "X_conf_pca = get_PCA(X_conf, plot=True)  # PCA\n",
    "\n",
    "# All features, confounders with PCA\n",
    "X = np.c_[X_occ, X_age,  X_conf_pca]\n",
    "x_train, x_test, y_train, y_test = train_test_split(X, Y, test_size=0.2, random_state=42)\n",
    "\n",
    "# model\n",
    "ran_for = RandomForestClassifier(n_estimators=100, random_state=42) # 100->2000 estimators, seeded\n",
    "ran_for.fit(x_train, y_train)\n",
    "print(\"Using a random forest.\")"
   ]
  },
  {
   "cell_type": "markdown",
   "id": "ca280e2d-c335-4914-8a90-5714c4e454b6",
   "metadata": {},
   "source": [
    "## Train and score the model"
   ]
  },
  {
   "cell_type": "code",
   "execution_count": 4,
   "id": "e5e3c3d4-9343-437c-b24e-30b80498cd37",
   "metadata": {},
   "outputs": [
    {
     "name": "stdout",
     "output_type": "stream",
     "text": [
      "Confusion matrix:\n",
      " [[11167    78]\n",
      " [ 3183   108]]\n",
      "\n",
      "Precision: 0.5806451612903226\n",
      "Recall: 0.032816773017319965\n",
      "f1-score: 0.06212251941328731\n",
      "\n",
      "AUC: 0.6290899446747362\n"
     ]
    }
   ],
   "source": [
    "from sklearn.model_selection import cross_val_predict, cross_val_score\n",
    "from sklearn.metrics import (\n",
    "    accuracy_score,\n",
    "    confusion_matrix,\n",
    "    f1_score,\n",
    "    precision_recall_curve,\n",
    "    precision_score,\n",
    "    recall_score,\n",
    "    roc_auc_score,\n",
    ")\n",
    "\n",
    "# scores\n",
    "\n",
    "cv_pred = cross_val_predict(ran_for, x_train, y_train, cv=3)\n",
    "pred = ran_for.predict(x_test)\n",
    "\n",
    "# Confusion matrix\n",
    "print(\"Confusion matrix:\\n\", confusion_matrix(y_train, cv_pred))\n",
    "\n",
    "# Precision-Recall\n",
    "print(\"\\nPrecision:\", precision_score(y_train, cv_pred))\n",
    "print(\"Recall:\", recall_score(y_train, cv_pred))\n",
    "print(\"f1-score:\", f1_score(y_train, cv_pred))\n",
    "\n",
    "# AUC\n",
    "pred = ran_for.predict_proba(x_test)\n",
    "print(\"\\nAUC:\", roc_auc_score(y_test, pred[:,1]))"
   ]
  },
  {
   "cell_type": "markdown",
   "id": "435a715c-1552-46f9-9f67-abeb198a00d2",
   "metadata": {},
   "source": [
    "## Precision-Recall and ROC Curves"
   ]
  },
  {
   "cell_type": "code",
   "execution_count": 5,
   "id": "c8ef93da-77c8-475f-ab89-dbb0a2c3680e",
   "metadata": {},
   "outputs": [
    {
     "data": {
      "image/png": "[encoded data removed]",
      "text/plain": [
       "<Figure size 432x288 with 1 Axes>"
      ]
     },
     "metadata": {
      "needs_background": "light"
     },
     "output_type": "display_data"
    }
   ],
   "source": [
    "# Precision-Recall Curve\n",
    "\n",
    "def plot_precision_recall_vs_threshold(precisions, recalls, thresholds):\n",
    "    plt.plot(thresholds, precisions[:-1], \"b--\", label=\"Precision\")\n",
    "    plt.plot(thresholds, recalls[:-1], \"g-\", label=\"Recall\")\n",
    "    plt.xlabel(\"Threshold\")\n",
    "    plt.legend(loc=\"upper left\")\n",
    "    plt.ylim([0, 1])\n",
    "    \n",
    "y_probas_forest = cross_val_predict(ran_for, x_train, y_train, cv=3, method=\"predict_proba\")\n",
    "y_scores = y_probas_forest[:, 1] # score = proba of positive class \n",
    "\n",
    "precisions, recalls, thresholds = precision_recall_curve(y_train, y_scores)\n",
    "\n",
    "plot_precision_recall_vs_threshold(precisions, recalls, thresholds)\n",
    "plt.title(\"Random Forest Precision vs Recall\")\n",
    "plt.show()"
   ]
  },
  {
   "cell_type": "code",
   "execution_count": 6,
   "id": "abdb0b02-4889-4974-b2a6-68911690b3be",
   "metadata": {},
   "outputs": [
    {
     "data": {
      "image/png": "[encoded data removed]",
      "text/plain": [
       "<Figure size 432x288 with 1 Axes>"
      ]
     },
     "metadata": {
      "needs_background": "light"
     },
     "output_type": "display_data"
    }
   ],
   "source": [
    "# ROC Curve\n",
    "\n",
    "from sklearn.metrics import roc_curve\n",
    "\n",
    "def plot_roc_curve(fpr, tpr, label=None): \n",
    "    plt.plot(fpr, tpr, linewidth=2, label=label) \n",
    "    plt.plot([0, 1], [0, 1], 'k--')\n",
    "    plt.axis([0, 1, 0, 1])\n",
    "    plt.xlabel('False Positive Rate') \n",
    "    plt.ylabel('True Positive Rate')\n",
    "    \n",
    "    \n",
    "y_probas_forest = cross_val_predict(ran_for, x_train, y_train, cv=3, method=\"predict_proba\")\n",
    "fpr_forest, tpr_forest, thresholds_forest = roc_curve(y_train, y_scores)\n",
    "\n",
    "plot_roc_curve(fpr_forest, tpr_forest) \n",
    "plt.title(\"Random Forest ROC Curve\")\n",
    "plt.show()"
   ]
  },
  {
   "cell_type": "code",
   "execution_count": 7,
   "id": "52cd17d5-78da-4fb2-9d07-950c435880ac",
   "metadata": {},
   "outputs": [
    {
     "data": {
      "text/plain": [
       "['./saved_models/ranfor_100_estimators.joblib']"
      ]
     },
     "execution_count": 7,
     "metadata": {},
     "output_type": "execute_result"
    }
   ],
   "source": [
    "# Save the model\n",
    "\n",
    "from joblib import dump, load\n",
    "\n",
    "dump(ran_for, './saved_models/ranfor_100_estimators.joblib') "
   ]
  },
  {
   "cell_type": "code",
   "execution_count": 8,
   "id": "80eb4275-628a-45e1-806f-bd79929e9936",
   "metadata": {},
   "outputs": [],
   "source": [
    "# model = load('filename.joblib')"
   ]
  },
  {
   "cell_type": "markdown",
   "id": "d158f58d-33db-4528-9909-dc1b7e80cff4",
   "metadata": {},
   "source": [
    "## Cross-Validation... nested?"
   ]
  },
  {
   "cell_type": "code",
   "execution_count": 9,
   "id": "13af66bf-0d3a-466d-8aa0-76845be77e41",
   "metadata": {},
   "outputs": [
    {
     "data": {
      "text/plain": [
       "array([0.6265514 , 0.63226538, 0.63531118])"
      ]
     },
     "execution_count": 9,
     "metadata": {},
     "output_type": "execute_result"
    }
   ],
   "source": [
    "from sklearn.model_selection import cross_val_score\n",
    "\n",
    "cross_val_score(ran_for, x_train, y_train, cv=3, scoring=\"roc_auc\")"
   ]
  },
  {
   "cell_type": "markdown",
   "id": "a331c474-d278-41c3-b91a-c7f632102aea",
   "metadata": {},
   "source": [
    "## Correcting Class Imbalance\n",
    "\n",
    "> Ensemble method in which each tree of the forest will be provided a balanced bootstrap sample. This class provides all functionality of the RandomForestClassifier."
   ]
  },
  {
   "cell_type": "code",
   "execution_count": 10,
   "id": "be868944-6b66-4296-9f3d-826f913c1708",
   "metadata": {},
   "outputs": [
    {
     "name": "stdout",
     "output_type": "stream",
     "text": [
      "Unbalanced Sampling:\n",
      "\n",
      "Confusion matrix:\n",
      " [[11167    78]\n",
      " [ 3183   108]]\n",
      "\n",
      "Precision: 0.5806451612903226\n",
      "Recall: 0.032816773017319965\n",
      "f1-score: 0.06212251941328731\n",
      "AUC: 0.6290899446747362\n"
     ]
    }
   ],
   "source": [
    "print(\"Unbalanced Sampling:\\n\")\n",
    "\n",
    "ran_for = RandomForestClassifier(n_estimators=100, random_state=42) # 100->2000 estimators, seeded\n",
    "ran_for.fit(x_train, y_train)\n",
    "\n",
    "cv_pred = cross_val_predict(ran_for, x_train, y_train, cv=3)\n",
    "pred = ran_for.predict(x_test)\n",
    "\n",
    "# Confusion matrix\n",
    "print(\"Confusion matrix:\\n\", confusion_matrix(y_train, cv_pred))\n",
    "# Precision-Recall and AUC\n",
    "print(\"\\nPrecision:\", precision_score(y_train, cv_pred))\n",
    "print(\"Recall:\", recall_score(y_train, cv_pred))\n",
    "print(\"f1-score:\", f1_score(y_train, cv_pred))\n",
    "pred = ran_for.predict_proba(x_test)\n",
    "print(\"AUC:\", roc_auc_score(y_test, pred[:,1]))"
   ]
  },
  {
   "cell_type": "markdown",
   "id": "546c7946-9413-4cf9-a3aa-a583f599a3d1",
   "metadata": {},
   "source": [
    "**currently bugged:**\n",
    "\n",
    "https://github.com/scikit-learn-contrib/imbalanced-learn/issues/872"
   ]
  },
  {
   "cell_type": "code",
   "execution_count": null,
   "id": "6f13e39d-9fb3-4598-97e9-6a101529e622",
   "metadata": {},
   "outputs": [],
   "source": [
    "# from imblearn.ensemble import BalancedRandomForestClassifier\n",
    "# from imblearn.ensemble import BalancedBaggingClassifier\n",
    "# from sklearn.tree import DecisionTreeClassifier\n",
    "\n",
    "# # Balanced Sampling\n",
    "# print(\"\\n--------------------------\")\n",
    "# print(\"\\nBalanced Sampling:\\n\")\n",
    "\n",
    "# # brf = BalancedRandomForestClassifier(n_estimators=100, random_state=42)\n",
    "# brf = BalancedBaggingClassifier(base_estimator=DecisionTreeClassifier(), random_state=42)\n",
    "\n",
    "# brf.fit(x_train, y_train) \n",
    "\n",
    "# cv_pred = cross_val_predict(brf, x_train, y_train, cv=3)\n",
    "# pred = brf.predict(x_test)\n",
    "\n",
    "# # Confusion matrix\n",
    "# print(\"Confusion matrix:\\n\", confusion_matrix(y_train, cv_pred))\n",
    "# # Precision-Recall\n",
    "# print(\"\\nPrecision:\", precision_score(y_train, cv_pred))\n",
    "# print(\"Recall:\", recall_score(y_train, cv_pred))\n",
    "# print(\"f1-score:\", f1_score(y_train, cv_pred))\n",
    "# pred = brf.predict_proba(x_test)\n",
    "# print(\"AUC:\", roc_auc_score(y_test, pred[:,1]))"
   ]
  },
  {
   "cell_type": "markdown",
   "id": "c164c21a-8818-42bb-b02b-e3d220fd23cf",
   "metadata": {},
   "source": [
    "## Radical Feature Selection\n",
    "\n",
    "* Keep most significant PCs: 3, 9, 4, 6 1, 23, 12, 46\n"
   ]
  },
  {
   "cell_type": "code",
   "execution_count": 13,
   "id": "de5949fb-0773-4c9c-ac47-cc0afd65945c",
   "metadata": {},
   "outputs": [],
   "source": [
    "X_conf_pca_best = X_conf_pca[:, [1, 3, 4, 6, 9, 12, 23, 46]]\n",
    "\n",
    "# Sum of mutations, age, and best PCs\n",
    "X = np.c_[X_occ, X_age,  X_conf_pca_best]\n",
    "x_train, x_test, y_train, y_test = train_test_split(X, Y, test_size=0.2, random_state=42)\n",
    "\n",
    "# model\n",
    "rf = RandomForestClassifier(n_estimators=2000, random_state=42) # 100->2000 estimators, seeded\n",
    "rf.fit(x_train, y_train)"
   ]
  },
  {
   "cell_type": "code",
   "execution_count": 13,
   "id": "b5f61c8d-6681-420c-aa20-c960a4672c44",
   "metadata": {},
   "outputs": [],
   "source": [
    "cv_pred = cross_val_predict(rf, x_train, y_train, cv=3)"
   ]
  },
  {
   "cell_type": "code",
   "execution_count": 14,
   "id": "3b558733-7a6c-4149-8e76-575712a163c0",
   "metadata": {},
   "outputs": [
    {
     "name": "stdout",
     "output_type": "stream",
     "text": [
      "Confusion matrix:\n",
      " [[11071   174]\n",
      " [ 3088   203]]\n",
      "\n",
      "Precision: 0.5384615384615384\n",
      "Recall: 0.06168337891218475\n",
      "f1-score: 0.11068702290076336\n",
      "AUC: 0.6532537859999923\n"
     ]
    }
   ],
   "source": [
    "pred = rf.predict(x_test)\n",
    "\n",
    "# Confusion matrix\n",
    "print(\"Confusion matrix:\\n\", confusion_matrix(y_train, cv_pred))\n",
    "# Precision-Recall and AUC\n",
    "print(\"\\nPrecision:\", precision_score(y_train, cv_pred))\n",
    "print(\"Recall:\", recall_score(y_train, cv_pred))\n",
    "print(\"f1-score:\", f1_score(y_train, cv_pred))\n",
    "pred = rf.predict_proba(x_test)\n",
    "print(\"AUC:\", roc_auc_score(y_test, pred[:,1]))"
   ]
  },
  {
   "cell_type": "code",
   "execution_count": null,
   "id": "c4850297-4d54-44b2-8592-a27d6b94eaed",
   "metadata": {},
   "outputs": [],
   "source": []
  }
 ],
 "metadata": {
  "kernelspec": {
   "display_name": "Python [conda env:ml_venv]",
   "language": "python",
   "name": "conda-env-ml_venv-py"
  },
  "language_info": {
   "codemirror_mode": {
    "name": "ipython",
    "version": 3
   },
   "file_extension": ".py",
   "mimetype": "text/x-python",
   "name": "python",
   "nbconvert_exporter": "python",
   "pygments_lexer": "ipython3",
   "version": "3.7.7"
  }
 },
 "nbformat": 4,
 "nbformat_minor": 5
}
