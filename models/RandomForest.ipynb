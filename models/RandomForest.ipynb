{
 "cells": [
  {
   "cell_type": "markdown",
   "id": "0ca5c642-a8b1-4225-8bf9-e0399621e4a3",
   "metadata": {},
   "source": [
    "# Random Forest\n",
    "\n",
    "This notebook contains assessment of a random forest classifier. \n",
    "\n",
    "The data is obtained using 85 columns of `abnormal_writeout.data.csv`. \n",
    "\n",
    "Most of these 85 columns are highly colinear \"confounder\" variables against which we are comparing the `occ_total_sum` (total mutations of the gene across all cancers) and `oldest_phylostratum` (evolutionary age of the gene) variables. We apply PCA to the confounder variables and keep PCs up to 95% explained variance."
   ]
  },
  {
   "cell_type": "code",
   "execution_count": 1,
   "id": "1fc9a1d1-276c-4a6a-bc1e-6176e61946b0",
   "metadata": {},
   "outputs": [],
   "source": [
    "import matplotlib.pyplot as plt\n",
    "import numpy as np\n",
    "import pandas as pd\n",
    "import seaborn as sns\n",
    "\n",
    "pd.set_option(\"display.max_columns\", 85)"
   ]
  },
  {
   "cell_type": "code",
   "execution_count": 2,
   "id": "76673338-2cc5-4e45-ba90-c425094cf532",
   "metadata": {},
   "outputs": [],
   "source": [
    "def fetch_data(drop_some=True):\n",
    "\n",
    "    df = pd.read_csv(\"../data/abnormal_writeout.data.csv\")\n",
    "\n",
    "    if drop_some:\n",
    "        # trascurare da ACC a UVM\n",
    "        start_drop = df.columns.get_loc(\"ACC\")\n",
    "        end_drop = df.columns.get_loc(\"UVM\")\n",
    "        cols = np.arange(start_drop, end_drop + 1)\n",
    "        df.drop(df.columns[cols], axis=1, inplace=True)\n",
    "\n",
    "        # trascurare old_phylo_factor e la prima colonna\n",
    "        df.drop(\"oldest_phylostratum_factor\", axis=1, inplace=True)\n",
    "        df.drop(\"Unnamed: 0\", axis=1, inplace=True)\n",
    "\n",
    "    return df\n",
    "\n",
    "\n",
    "def separate_data(df):\n",
    "    resp = df[\"response\"]\n",
    "    occ = df[\"occ_total_sum\"]\n",
    "    age = df[\"oldest_phylostratum\"]\n",
    "    conf = df.drop(labels=[\"response\", \"occ_total_sum\", \"oldest_phylostratum\"], axis=1)\n",
    "    return occ, age, conf, resp\n",
    "\n",
    "\n",
    "def get_PCA(X, expl_var=0.95, plot=False):\n",
    "\n",
    "    pca_test = PCA()\n",
    "    pca_test.fit(X)\n",
    "    cumsum = np.cumsum(pca_test.explained_variance_ratio_)\n",
    "    d = np.argmax(cumsum >= expl_var) + 1\n",
    "\n",
    "    # Apply PCA with d components\n",
    "    pca_apply = PCA(n_components=d)\n",
    "    X_PCA = pca_apply.fit_transform(X)\n",
    "\n",
    "    print(\"Using {} principal components.\".format(d))\n",
    "    if plot == True:\n",
    "        sns.heatmap(pd.DataFrame(X_PCA).corr())\n",
    "        plt.show()\n",
    "\n",
    "    return X_PCA"
   ]
  },
  {
   "cell_type": "code",
   "execution_count": 3,
   "id": "176f3960-2ce2-4262-b44a-2ea23e73bc40",
   "metadata": {},
   "outputs": [
    {
     "name": "stdout",
     "output_type": "stream",
     "text": [
      "Using 47 principal components.\n"
     ]
    },
    {
     "data": {
      "image/png": "[encoded data removed]",
      "text/plain": [
       "<Figure size 432x288 with 2 Axes>"
      ]
     },
     "metadata": {
      "needs_background": "light"
     },
     "output_type": "display_data"
    },
    {
     "name": "stdout",
     "output_type": "stream",
     "text": [
      "Using a random forest.\n"
     ]
    }
   ],
   "source": [
    "from sklearn.decomposition import PCA\n",
    "from sklearn.ensemble import RandomForestClassifier\n",
    "from sklearn.model_selection import train_test_split\n",
    "\n",
    "# Data\n",
    "df = fetch_data()  # Get\n",
    "df.dropna(inplace=True)  # Clean\n",
    "X_occ, X_age, X_conf, Y = separate_data(df)  # Separate\n",
    "X_conf_pca = get_PCA(X_conf, plot=True)  # PCA\n",
    "\n",
    "# All features, confounders with PCA\n",
    "X = np.c_[X_occ, X_age,  X_conf_pca]\n",
    "x_train, x_test, y_train, y_test = train_test_split(X, Y, test_size=0.2, random_state=42)\n",
    "\n",
    "# model\n",
    "ran_for = RandomForestClassifier(random_state=42) # Seeded\n",
    "ran_for.fit(x_train, y_train)\n",
    "print(\"Using a random forest.\")"
   ]
  },
  {
   "cell_type": "code",
   "execution_count": 4,
   "id": "e5e3c3d4-9343-437c-b24e-30b80498cd37",
   "metadata": {},
   "outputs": [
    {
     "name": "stdout",
     "output_type": "stream",
     "text": [
      "Confusion matrix:\n",
      " [[11166    79]\n",
      " [ 3189   102]]\n",
      "\n",
      "Precision: 0.56353591160221\n",
      "Recall: 0.03099361896080219\n",
      "f1-score: 0.05875576036866359\n",
      "\n",
      "AUC: 0.6360690373608102\n"
     ]
    }
   ],
   "source": [
    "from sklearn.model_selection import cross_val_predict, cross_val_score\n",
    "from sklearn.metrics import (\n",
    "    accuracy_score,\n",
    "    confusion_matrix,\n",
    "    f1_score,\n",
    "    precision_recall_curve,\n",
    "    precision_score,\n",
    "    recall_score,\n",
    "    roc_auc_score,\n",
    ")\n",
    "\n",
    "# scores\n",
    "\n",
    "cv_pred = cross_val_predict(ran_for, x_train, y_train, cv=3)\n",
    "pred = ran_for.predict(x_test)\n",
    "\n",
    "# Confusion matrix\n",
    "print(\"Confusion matrix:\\n\", confusion_matrix(y_train, cv_pred))\n",
    "\n",
    "# Precision-Recall\n",
    "print(\"\\nPrecision:\", precision_score(y_train, cv_pred))\n",
    "print(\"Recall:\", recall_score(y_train, cv_pred))\n",
    "print(\"f1-score:\", f1_score(y_train, cv_pred))\n",
    "\n",
    "# AUC\n",
    "pred = ran_for.predict_proba(x_test)\n",
    "print(\"\\nAUC:\", roc_auc_score(y_test, pred[:,1]))"
   ]
  },
  {
   "cell_type": "markdown",
   "id": "435a715c-1552-46f9-9f67-abeb198a00d2",
   "metadata": {},
   "source": [
    "## Precision-Recall and ROC Curves"
   ]
  },
  {
   "cell_type": "code",
   "execution_count": 5,
   "id": "c8ef93da-77c8-475f-ab89-dbb0a2c3680e",
   "metadata": {},
   "outputs": [
    {
     "data": {
      "image/png": "[encoded data removed]",
      "text/plain": [
       "<Figure size 432x288 with 1 Axes>"
      ]
     },
     "metadata": {
      "needs_background": "light"
     },
     "output_type": "display_data"
    }
   ],
   "source": [
    "# Precision-Recall Curve\n",
    "\n",
    "def plot_precision_recall_vs_threshold(precisions, recalls, thresholds):\n",
    "    plt.plot(thresholds, precisions[:-1], \"b--\", label=\"Precision\")\n",
    "    plt.plot(thresholds, recalls[:-1], \"g-\", label=\"Recall\")\n",
    "    plt.xlabel(\"Threshold\")\n",
    "    plt.legend(loc=\"upper left\")\n",
    "    plt.ylim([0, 1])\n",
    "    \n",
    "y_probas_forest = cross_val_predict(ran_for, x_train, y_train, cv=3, method=\"predict_proba\")\n",
    "y_scores = y_probas_forest[:, 1] # score = proba of positive class \n",
    "\n",
    "precisions, recalls, thresholds = precision_recall_curve(y_train, y_scores)\n",
    "\n",
    "plot_precision_recall_vs_threshold(precisions, recalls, thresholds)\n",
    "plt.title(\"Random Forest Precision vs Recall\")\n",
    "plt.show()"
   ]
  },
  {
   "cell_type": "code",
   "execution_count": 6,
   "id": "abdb0b02-4889-4974-b2a6-68911690b3be",
   "metadata": {},
   "outputs": [
    {
     "data": {
      "image/png": "[encoded data removed]",
      "text/plain": [
       "<Figure size 432x288 with 1 Axes>"
      ]
     },
     "metadata": {
      "needs_background": "light"
     },
     "output_type": "display_data"
    }
   ],
   "source": [
    "# ROC Curve\n",
    "\n",
    "from sklearn.metrics import roc_curve\n",
    "\n",
    "def plot_roc_curve(fpr, tpr, label=None): \n",
    "    plt.plot(fpr, tpr, linewidth=2, label=label) \n",
    "    plt.plot([0, 1], [0, 1], 'k--')\n",
    "    plt.axis([0, 1, 0, 1])\n",
    "    plt.xlabel('False Positive Rate') \n",
    "    plt.ylabel('True Positive Rate')\n",
    "    \n",
    "    \n",
    "y_probas_forest = cross_val_predict(ran_for, x_train, y_train, cv=3, method=\"predict_proba\")\n",
    "fpr_forest, tpr_forest, thresholds_forest = roc_curve(y_train, y_scores)\n",
    "\n",
    "plot_roc_curve(fpr_forest, tpr_forest) \n",
    "plt.title(\"Random Forest ROC Curve\")\n",
    "plt.show()"
   ]
  },
  {
   "cell_type": "code",
   "execution_count": 7,
   "id": "52cd17d5-78da-4fb2-9d07-950c435880ac",
   "metadata": {},
   "outputs": [
    {
     "data": {
      "text/plain": [
       "['./saved_models/ranfor.joblib']"
      ]
     },
     "execution_count": 7,
     "metadata": {},
     "output_type": "execute_result"
    }
   ],
   "source": [
    "# Save the model\n",
    "\n",
    "from joblib import dump, load\n",
    "\n",
    "dump(ran_for, './saved_models/ranfor.joblib') "
   ]
  },
  {
   "cell_type": "code",
   "execution_count": 8,
   "id": "80eb4275-628a-45e1-806f-bd79929e9936",
   "metadata": {},
   "outputs": [],
   "source": [
    "# model = load('filename.joblib')"
   ]
  },
  {
   "cell_type": "markdown",
   "id": "d158f58d-33db-4528-9909-dc1b7e80cff4",
   "metadata": {},
   "source": [
    "## Cross-Validation"
   ]
  },
  {
   "cell_type": "code",
   "execution_count": 9,
   "id": "13af66bf-0d3a-466d-8aa0-76845be77e41",
   "metadata": {},
   "outputs": [
    {
     "data": {
      "text/plain": [
       "array([0.62913866, 0.62975866, 0.63584833])"
      ]
     },
     "execution_count": 9,
     "metadata": {},
     "output_type": "execute_result"
    }
   ],
   "source": [
    "from sklearn.model_selection import cross_val_score\n",
    "\n",
    "cross_val_score(ran_for, x_train, y_train, cv=3, scoring=\"roc_auc\")"
   ]
  }
 ],
 "metadata": {
  "kernelspec": {
   "display_name": "Python [conda env:ml_venv]",
   "language": "python",
   "name": "conda-env-ml_venv-py"
  },
  "language_info": {
   "codemirror_mode": {
    "name": "ipython",
    "version": 3
   },
   "file_extension": ".py",
   "mimetype": "text/x-python",
   "name": "python",
   "nbconvert_exporter": "python",
   "pygments_lexer": "ipython3",
   "version": "3.7.7"
  }
 },
 "nbformat": 4,
 "nbformat_minor": 5
}
