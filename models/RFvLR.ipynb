{
 "cells": [
  {
   "cell_type": "markdown",
   "id": "eab1672c-cac2-40fa-be29-a6b2ac4ddcce",
   "metadata": {},
   "source": [
    "## Spearman Correlation b/w Random Forest and Logistic Regressor"
   ]
  }
 ],
 "metadata": {
  "kernelspec": {
   "display_name": "Python [conda env:ml_venv]",
   "language": "python",
   "name": "conda-env-ml_venv-py"
  },
  "language_info": {
   "codemirror_mode": {
    "name": "ipython",
    "version": 3
   },
   "file_extension": ".py",
   "mimetype": "text/x-python",
   "name": "python",
   "nbconvert_exporter": "python",
   "pygments_lexer": "ipython3",
   "version": "3.7.7"
  }
 },
 "nbformat": 4,
 "nbformat_minor": 5
}
